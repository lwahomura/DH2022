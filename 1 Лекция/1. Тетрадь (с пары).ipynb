{
  "nbformat": 4,
  "nbformat_minor": 0,
  "metadata": {
    "colab": {
      "provenance": []
    },
    "kernelspec": {
      "name": "python3",
      "display_name": "Python 3"
    },
    "language_info": {
      "name": "python"
    }
  },
  "cells": [
    {
      "cell_type": "code",
      "metadata": {
        "id": "if6H1t10kDKn"
      },
      "source": [
        "import sys\n",
        "import gc"
      ],
      "execution_count": 1,
      "outputs": []
    },
    {
      "cell_type": "markdown",
      "metadata": {
        "id": "bgmoNyUifxnY"
      },
      "source": [
        "# Переменные Python'а"
      ]
    },
    {
      "cell_type": "markdown",
      "metadata": {
        "id": "1lQrO_2tgDpu"
      },
      "source": [
        "## Создадим переменную и посмотрим на ее адрес и тип"
      ]
    },
    {
      "cell_type": "code",
      "metadata": {
        "id": "61BLgYAtbcvq",
        "colab": {
          "base_uri": "https://localhost:8080/"
        },
        "outputId": "cc161319-286a-4db1-b089-8896d13177f1"
      },
      "source": [
        "x = 5\n",
        "print(id(x))\n",
        "print(type(x))"
      ],
      "execution_count": 5,
      "outputs": [
        {
          "output_type": "stream",
          "name": "stdout",
          "text": [
            "133972134609264\n",
            "<class 'int'>\n"
          ]
        }
      ]
    },
    {
      "cell_type": "code",
      "metadata": {
        "id": "m1_HdvPCb40R",
        "colab": {
          "base_uri": "https://localhost:8080/"
        },
        "outputId": "5e0d620c-ed72-46e6-8ceb-a31384b9e0e5"
      },
      "source": [
        "x = 6\n",
        "print(id(x))\n",
        "print(type(x))"
      ],
      "execution_count": 7,
      "outputs": [
        {
          "output_type": "stream",
          "name": "stdout",
          "text": [
            "133972134609296\n",
            "<class 'int'>\n"
          ]
        }
      ]
    },
    {
      "cell_type": "markdown",
      "metadata": {
        "id": "HvO2iWTBgMQm"
      },
      "source": [
        "## Новая переменная? Сравнение?"
      ]
    },
    {
      "cell_type": "markdown",
      "metadata": {
        "id": "Ud1usFgggZhW"
      },
      "source": [
        "### **is** сранивает адреса"
      ]
    },
    {
      "cell_type": "code",
      "metadata": {
        "id": "TJNDrdTnb6aD",
        "colab": {
          "base_uri": "https://localhost:8080/"
        },
        "outputId": "7c35b90d-bc18-4e85-cad2-27ae0d2d7eef"
      },
      "source": [
        "y = 6\n",
        "print(x is y)"
      ],
      "execution_count": 8,
      "outputs": [
        {
          "output_type": "stream",
          "name": "stdout",
          "text": [
            "True\n"
          ]
        }
      ]
    },
    {
      "cell_type": "markdown",
      "metadata": {
        "id": "65gdPFzigo4_"
      },
      "source": [
        "### **==** сравнивает значения"
      ]
    },
    {
      "cell_type": "code",
      "metadata": {
        "id": "crT7Xnx9ge4u",
        "colab": {
          "base_uri": "https://localhost:8080/"
        },
        "outputId": "8d65ee6b-eac1-41db-fd43-91950e9c9aad"
      },
      "source": [
        "print(x == y)"
      ],
      "execution_count": 9,
      "outputs": [
        {
          "output_type": "stream",
          "name": "stdout",
          "text": [
            "True\n"
          ]
        }
      ]
    },
    {
      "cell_type": "code",
      "metadata": {
        "id": "CTqLdBBlgm-w",
        "colab": {
          "base_uri": "https://localhost:8080/"
        },
        "outputId": "bbc8abe7-25d1-4f47-d3ff-796af9704e2f"
      },
      "source": [
        "z = 100000\n",
        "w = 100000\n",
        "print(z is w)\n",
        "print(z == w)"
      ],
      "execution_count": 10,
      "outputs": [
        {
          "output_type": "stream",
          "name": "stdout",
          "text": [
            "False\n",
            "True\n"
          ]
        }
      ]
    },
    {
      "cell_type": "markdown",
      "metadata": {
        "id": "TKXxapp5g2X4"
      },
      "source": [
        "Почему?"
      ]
    },
    {
      "cell_type": "markdown",
      "metadata": {
        "id": "MmiQ-390g5ye"
      },
      "source": [
        "## Interned objects"
      ]
    },
    {
      "cell_type": "code",
      "metadata": {
        "id": "u6cXQ6uLg5Eh"
      },
      "source": [
        "def compare_addrs(a, b):\n",
        "  print(a is b)"
      ],
      "execution_count": 11,
      "outputs": []
    },
    {
      "cell_type": "code",
      "metadata": {
        "id": "IZ4mOVSqiXkh",
        "colab": {
          "base_uri": "https://localhost:8080/"
        },
        "outputId": "a00879c6-1949-40a5-e797-c018ee1ddf98"
      },
      "source": [
        "a = -6\n",
        "b = -6\n",
        "compare_addrs(a, b)\n",
        "\n",
        "a = -5\n",
        "b = -5\n",
        "compare_addrs(a, b)\n",
        "\n",
        "a = 256\n",
        "b = 256\n",
        "compare_addrs(a, b)\n",
        "\n",
        "a = 257\n",
        "b = 257\n",
        "compare_addrs(a, b)"
      ],
      "execution_count": 12,
      "outputs": [
        {
          "output_type": "stream",
          "name": "stdout",
          "text": [
            "False\n",
            "True\n",
            "True\n",
            "False\n"
          ]
        }
      ]
    },
    {
      "cell_type": "code",
      "metadata": {
        "id": "AqU7iZkxitlI",
        "colab": {
          "base_uri": "https://localhost:8080/"
        },
        "outputId": "60a2284d-5f89-4b81-b334-d4fddf9e793e"
      },
      "source": [
        "a = \"qwertyuiopasdfghjklz\"\n",
        "b = \"qwertyuiopasdfghjklz\"\n",
        "compare_addrs(a, b)\n",
        "\n",
        "a = \"a\" * 4096\n",
        "b = \"a\" * 4096\n",
        "compare_addrs(a, b)\n",
        "\n",
        "a = \"a\" * 4097\n",
        "b = \"a\" * 4097\n",
        "compare_addrs(a, b)\n",
        "\n",
        "a = \"qwertyuiopasdfghjklz!\"\n",
        "b = \"qwertyuiopasdfghjklz!\"\n",
        "compare_addrs(a, b)\n",
        "\n",
        "a = \"Holberton\"\n",
        "b = \"\".join([\"H\", \"o\", \"l\", \"b\", \"e\", \"r\", \"t\", \"o\", \"n\"])\n",
        "compare_addrs(a, b)"
      ],
      "execution_count": 14,
      "outputs": [
        {
          "output_type": "stream",
          "name": "stdout",
          "text": [
            "True\n",
            "True\n",
            "False\n",
            "False\n",
            "False\n"
          ]
        }
      ]
    },
    {
      "cell_type": "code",
      "metadata": {
        "id": "OeMNMntbkFoB",
        "colab": {
          "base_uri": "https://localhost:8080/"
        },
        "outputId": "b3252072-fb43-45c8-9dd9-61ce321b5c1a"
      },
      "source": [
        "a = sys.intern(\"qwertyuiopasdfghjklz!\")\n",
        "b = sys.intern(\"qwertyuiopasdfghjklz!\")\n",
        "compare_addrs(a, b)"
      ],
      "execution_count": 15,
      "outputs": [
        {
          "output_type": "stream",
          "name": "stdout",
          "text": [
            "True\n"
          ]
        }
      ]
    },
    {
      "cell_type": "markdown",
      "metadata": {
        "id": "AZLWjhmXkea0"
      },
      "source": [
        "## Изменяемость"
      ]
    },
    {
      "cell_type": "markdown",
      "metadata": {
        "id": "b_B04pVXlK3j"
      },
      "source": [
        "Некоторые типы неизменяемы, то есть операции над переменными ведут к созданию нового PyObject'а"
      ]
    },
    {
      "cell_type": "code",
      "metadata": {
        "id": "lkdxkS8RlATE",
        "colab": {
          "base_uri": "https://localhost:8080/"
        },
        "outputId": "1ff64eae-1564-46aa-a429-5ab3d3a917ef"
      },
      "source": [
        "a = \"test\"\n",
        "print(id(a))\n",
        "a += \"!\"\n",
        "print(id(a))"
      ],
      "execution_count": 16,
      "outputs": [
        {
          "output_type": "stream",
          "name": "stdout",
          "text": [
            "133972132496304\n",
            "133971572338608\n"
          ]
        }
      ]
    },
    {
      "cell_type": "markdown",
      "metadata": {
        "id": "STADQbTdlsDE"
      },
      "source": [
        "Ну а другие..."
      ]
    },
    {
      "cell_type": "code",
      "metadata": {
        "id": "JPGvl7WFlt5T",
        "colab": {
          "base_uri": "https://localhost:8080/"
        },
        "outputId": "f885e977-d98e-46ef-d1e2-ed508b6c76ed"
      },
      "source": [
        "a = [1,2,3]\n",
        "print(id(a))\n",
        "a[0]=0\n",
        "print(id(a))"
      ],
      "execution_count": 17,
      "outputs": [
        {
          "output_type": "stream",
          "name": "stdout",
          "text": [
            "133971923141632\n",
            "133971923141632\n"
          ]
        }
      ]
    },
    {
      "cell_type": "markdown",
      "metadata": {
        "id": "KLtg3dHslz7w"
      },
      "source": [
        "Но!"
      ]
    },
    {
      "cell_type": "code",
      "metadata": {
        "id": "PN8N78Akl1rM",
        "colab": {
          "base_uri": "https://localhost:8080/"
        },
        "outputId": "25ae3027-f0b1-4aa2-c391-4553a7b6db47"
      },
      "source": [
        "a = [1,2,3]\n",
        "print(id(a[0]))\n",
        "a[0]=0\n",
        "print(id(a[0]))"
      ],
      "execution_count": 18,
      "outputs": [
        {
          "output_type": "stream",
          "name": "stdout",
          "text": [
            "133972134609136\n",
            "133972134609104\n"
          ]
        }
      ]
    },
    {
      "cell_type": "markdown",
      "metadata": {
        "id": "XFKCRFm0mGWe"
      },
      "source": [
        "Проблема tuple'ов"
      ]
    },
    {
      "cell_type": "code",
      "metadata": {
        "id": "UsUzJe4GmWYQ",
        "colab": {
          "base_uri": "https://localhost:8080/",
          "height": 196
        },
        "outputId": "3d05c624-d955-4df3-8eb9-e7aeca96fb93"
      },
      "source": [
        "a = (1,2)\n",
        "a[0]=0"
      ],
      "execution_count": 19,
      "outputs": [
        {
          "output_type": "error",
          "ename": "TypeError",
          "evalue": "ignored",
          "traceback": [
            "\u001b[0;31m---------------------------------------------------------------------------\u001b[0m",
            "\u001b[0;31mTypeError\u001b[0m                                 Traceback (most recent call last)",
            "\u001b[0;32m<ipython-input-19-b27344aee6df>\u001b[0m in \u001b[0;36m<cell line: 2>\u001b[0;34m()\u001b[0m\n\u001b[1;32m      1\u001b[0m \u001b[0ma\u001b[0m \u001b[0;34m=\u001b[0m \u001b[0;34m(\u001b[0m\u001b[0;36m1\u001b[0m\u001b[0;34m,\u001b[0m\u001b[0;36m2\u001b[0m\u001b[0;34m)\u001b[0m\u001b[0;34m\u001b[0m\u001b[0;34m\u001b[0m\u001b[0m\n\u001b[0;32m----> 2\u001b[0;31m \u001b[0ma\u001b[0m\u001b[0;34m[\u001b[0m\u001b[0;36m0\u001b[0m\u001b[0;34m]\u001b[0m\u001b[0;34m=\u001b[0m\u001b[0;36m0\u001b[0m\u001b[0;34m\u001b[0m\u001b[0;34m\u001b[0m\u001b[0m\n\u001b[0m",
            "\u001b[0;31mTypeError\u001b[0m: 'tuple' object does not support item assignment"
          ]
        }
      ]
    },
    {
      "cell_type": "code",
      "metadata": {
        "id": "AVBV2NUImLM5",
        "colab": {
          "base_uri": "https://localhost:8080/"
        },
        "outputId": "896da89b-e2c5-4ef4-cfb8-8df5336ec661"
      },
      "source": [
        "a = (0, [1,2])\n",
        "print(id(a))"
      ],
      "execution_count": 20,
      "outputs": [
        {
          "output_type": "stream",
          "name": "stdout",
          "text": [
            "133971572246080\n"
          ]
        }
      ]
    },
    {
      "cell_type": "code",
      "source": [
        "a[1].append(3)\n",
        "print(id(a))"
      ],
      "metadata": {
        "colab": {
          "base_uri": "https://localhost:8080/"
        },
        "id": "Ge5n_KEsfteH",
        "outputId": "f8f6e1e1-5c7f-4abb-9387-590e6d9f24a6"
      },
      "execution_count": 21,
      "outputs": [
        {
          "output_type": "stream",
          "name": "stdout",
          "text": [
            "133971572246080\n"
          ]
        }
      ]
    },
    {
      "cell_type": "markdown",
      "metadata": {
        "id": "HpPYQUwBmaMx"
      },
      "source": [
        "Зачем в этом разбираться?"
      ]
    },
    {
      "cell_type": "code",
      "metadata": {
        "id": "8Wk9ipDfmZhN"
      },
      "source": [
        "def incr(a):\n",
        "  if type(a) == int:\n",
        "    a += 1\n",
        "  if type(a) == list:\n",
        "    a.append(1)\n",
        "  print(a)\n",
        "\n",
        "a = 5\n",
        "incr(a)\n",
        "print(a)\n",
        "\n",
        "a = [-1, 0]\n",
        "incr(a)\n",
        "print(a)"
      ],
      "execution_count": null,
      "outputs": []
    },
    {
      "cell_type": "code",
      "source": [
        "a = [1,2]\n",
        "b = a"
      ],
      "metadata": {
        "id": "mFueJD40giUS"
      },
      "execution_count": 24,
      "outputs": []
    },
    {
      "cell_type": "code",
      "source": [
        "a.append(1)\n",
        "print(a)"
      ],
      "metadata": {
        "colab": {
          "base_uri": "https://localhost:8080/"
        },
        "id": "yPM_feRHglwI",
        "outputId": "db11c3fd-f55d-4619-88b0-bfe3fccd78f7"
      },
      "execution_count": 25,
      "outputs": [
        {
          "output_type": "stream",
          "name": "stdout",
          "text": [
            "[1, 2, 1]\n"
          ]
        }
      ]
    },
    {
      "cell_type": "code",
      "source": [
        "print(b)"
      ],
      "metadata": {
        "colab": {
          "base_uri": "https://localhost:8080/"
        },
        "id": "iXI1oeJVgols",
        "outputId": "12375b5b-23ba-45da-8b7d-46297b841387"
      },
      "execution_count": 26,
      "outputs": [
        {
          "output_type": "stream",
          "name": "stdout",
          "text": [
            "[1, 2, 1]\n"
          ]
        }
      ]
    },
    {
      "cell_type": "code",
      "source": [
        "a = [1,2,3]\n",
        "a[:]"
      ],
      "metadata": {
        "colab": {
          "base_uri": "https://localhost:8080/"
        },
        "id": "BPgMAnQGg44C",
        "outputId": "92ae6672-57b0-42a7-dfca-40c8ab1b9f2c"
      },
      "execution_count": 29,
      "outputs": [
        {
          "output_type": "execute_result",
          "data": {
            "text/plain": [
              "[1, 2, 3]"
            ]
          },
          "metadata": {},
          "execution_count": 29
        }
      ]
    },
    {
      "cell_type": "code",
      "metadata": {
        "id": "QeENk7NsmgMl",
        "colab": {
          "base_uri": "https://localhost:8080/"
        },
        "outputId": "f8e30d37-dafa-4abc-ed65-86c4d767d861"
      },
      "source": [
        "list1 = [1,2,3]\n",
        "list2 = list1[:]\n",
        "list3 = list(list1)\n",
        "list4 = list1.copy()\n",
        "\n",
        "compare_addrs(list1, list2)\n",
        "compare_addrs(list1, list3)\n",
        "compare_addrs(list1, list4)"
      ],
      "execution_count": 27,
      "outputs": [
        {
          "output_type": "stream",
          "name": "stdout",
          "text": [
            "False\n",
            "False\n",
            "False\n"
          ]
        }
      ]
    },
    {
      "cell_type": "code",
      "source": [
        "list1.append(4)\n",
        "print(list2)"
      ],
      "metadata": {
        "colab": {
          "base_uri": "https://localhost:8080/"
        },
        "id": "whlPj671hEA8",
        "outputId": "6fe36a19-b790-49f3-e776-8595a3a9bcd9"
      },
      "execution_count": 30,
      "outputs": [
        {
          "output_type": "stream",
          "name": "stdout",
          "text": [
            "[1, 2, 3]\n"
          ]
        }
      ]
    },
    {
      "cell_type": "code",
      "source": [
        "list3"
      ],
      "metadata": {
        "colab": {
          "base_uri": "https://localhost:8080/"
        },
        "id": "4kUyB0aYhMiu",
        "outputId": "bad32cd4-abf9-47c3-c24e-abc60b18193c"
      },
      "execution_count": 31,
      "outputs": [
        {
          "output_type": "execute_result",
          "data": {
            "text/plain": [
              "[1, 2, 3]"
            ]
          },
          "metadata": {},
          "execution_count": 31
        }
      ]
    },
    {
      "cell_type": "code",
      "source": [
        "list4"
      ],
      "metadata": {
        "colab": {
          "base_uri": "https://localhost:8080/"
        },
        "id": "Xqy09d-PhRfP",
        "outputId": "e5572b52-fde7-422f-8d90-7907a80f427f"
      },
      "execution_count": 32,
      "outputs": [
        {
          "output_type": "execute_result",
          "data": {
            "text/plain": [
              "[1, 2, 3]"
            ]
          },
          "metadata": {},
          "execution_count": 32
        }
      ]
    },
    {
      "cell_type": "markdown",
      "metadata": {
        "id": "duSO1cuBneTe"
      },
      "source": [
        "## Все есть класс?"
      ]
    },
    {
      "cell_type": "markdown",
      "metadata": {
        "id": "OwP1UQY3o7In"
      },
      "source": [
        "### Посмотрим методы?"
      ]
    },
    {
      "cell_type": "code",
      "metadata": {
        "id": "d_1Nc74ymgQP"
      },
      "source": [
        "a = 5\n",
        "dir(a)"
      ],
      "execution_count": null,
      "outputs": []
    },
    {
      "cell_type": "markdown",
      "metadata": {
        "id": "2m3pUVDxn8Gi"
      },
      "source": [
        "Методы бывают трех типов:\n",
        "- приватные\n",
        "- защищенные\n",
        "- публичные"
      ]
    },
    {
      "cell_type": "code",
      "source": [
        "class Test:\n",
        "  def test1(self):\n",
        "    pass\n",
        "  def _test2(self):\n",
        "    pass\n",
        "  def __test3(self):\n",
        "    print(\"OH NO\")"
      ],
      "metadata": {
        "id": "bB07zhM7iavL"
      },
      "execution_count": 44,
      "outputs": []
    },
    {
      "cell_type": "code",
      "source": [
        "t = Test()"
      ],
      "metadata": {
        "id": "mpJn0UtpijSN"
      },
      "execution_count": 45,
      "outputs": []
    },
    {
      "cell_type": "code",
      "source": [
        "t.test1()"
      ],
      "metadata": {
        "id": "zwpqpm6UilKC"
      },
      "execution_count": 36,
      "outputs": []
    },
    {
      "cell_type": "code",
      "source": [
        "t._test2()"
      ],
      "metadata": {
        "id": "PwBcMPBZiqjk"
      },
      "execution_count": 37,
      "outputs": []
    },
    {
      "cell_type": "code",
      "source": [
        "t.__test3()"
      ],
      "metadata": {
        "colab": {
          "base_uri": "https://localhost:8080/",
          "height": 178
        },
        "id": "QVhII0v2isja",
        "outputId": "83b607be-ae25-4617-dbd9-2b562be72b2f"
      },
      "execution_count": 38,
      "outputs": [
        {
          "output_type": "error",
          "ename": "AttributeError",
          "evalue": "ignored",
          "traceback": [
            "\u001b[0;31m---------------------------------------------------------------------------\u001b[0m",
            "\u001b[0;31mAttributeError\u001b[0m                            Traceback (most recent call last)",
            "\u001b[0;32m<ipython-input-38-a57c5c28c367>\u001b[0m in \u001b[0;36m<cell line: 1>\u001b[0;34m()\u001b[0m\n\u001b[0;32m----> 1\u001b[0;31m \u001b[0mt\u001b[0m\u001b[0;34m.\u001b[0m\u001b[0m__test3\u001b[0m\u001b[0;34m(\u001b[0m\u001b[0;34m)\u001b[0m\u001b[0;34m\u001b[0m\u001b[0;34m\u001b[0m\u001b[0m\n\u001b[0m",
            "\u001b[0;31mAttributeError\u001b[0m: 'Test' object has no attribute '__test3'"
          ]
        }
      ]
    },
    {
      "cell_type": "code",
      "source": [
        "t._Test__test3()"
      ],
      "metadata": {
        "colab": {
          "base_uri": "https://localhost:8080/"
        },
        "id": "mopB-qsIjOOM",
        "outputId": "5cfc1763-a0d2-460d-eb0b-382c9048b1d9"
      },
      "execution_count": 46,
      "outputs": [
        {
          "output_type": "stream",
          "name": "stdout",
          "text": [
            "OH NO\n"
          ]
        }
      ]
    },
    {
      "cell_type": "code",
      "source": [
        "dir(t)"
      ],
      "metadata": {
        "id": "NygsQMZWjB6R"
      },
      "execution_count": null,
      "outputs": []
    },
    {
      "cell_type": "markdown",
      "metadata": {
        "id": "EL-sauZspAjo"
      },
      "source": [
        "### Посмотрим поля?"
      ]
    },
    {
      "cell_type": "code",
      "metadata": {
        "id": "ZhLaGtmfo4oo",
        "colab": {
          "base_uri": "https://localhost:8080/",
          "height": 178
        },
        "outputId": "e5ad5fd4-683a-4d26-c2c8-3e93eabb82e8"
      },
      "source": [
        "a.__dict__"
      ],
      "execution_count": 39,
      "outputs": [
        {
          "output_type": "error",
          "ename": "AttributeError",
          "evalue": "ignored",
          "traceback": [
            "\u001b[0;31m---------------------------------------------------------------------------\u001b[0m",
            "\u001b[0;31mAttributeError\u001b[0m                            Traceback (most recent call last)",
            "\u001b[0;32m<ipython-input-39-24d50c1843f4>\u001b[0m in \u001b[0;36m<cell line: 1>\u001b[0;34m()\u001b[0m\n\u001b[0;32m----> 1\u001b[0;31m \u001b[0ma\u001b[0m\u001b[0;34m.\u001b[0m\u001b[0m__dict__\u001b[0m\u001b[0;34m\u001b[0m\u001b[0;34m\u001b[0m\u001b[0m\n\u001b[0m",
            "\u001b[0;31mAttributeError\u001b[0m: 'int' object has no attribute '__dict__'"
          ]
        }
      ]
    },
    {
      "cell_type": "code",
      "source": [
        "t.__dict__"
      ],
      "metadata": {
        "colab": {
          "base_uri": "https://localhost:8080/"
        },
        "id": "StJ1VuvmjZse",
        "outputId": "fb58c68e-4b15-4354-e08f-544eeb0af4b8"
      },
      "execution_count": 47,
      "outputs": [
        {
          "output_type": "execute_result",
          "data": {
            "text/plain": [
              "{}"
            ]
          },
          "metadata": {},
          "execution_count": 47
        }
      ]
    },
    {
      "cell_type": "code",
      "metadata": {
        "id": "Hk5HIYk1olNg"
      },
      "source": [
        "class MyClass:\n",
        "  integer = 0\n",
        "\n",
        "  def __init__(self):\n",
        "    self.string = \"my class\""
      ],
      "execution_count": 49,
      "outputs": []
    },
    {
      "cell_type": "code",
      "metadata": {
        "id": "KTZd0gIAouxe",
        "colab": {
          "base_uri": "https://localhost:8080/"
        },
        "outputId": "261c780f-bbf6-4426-9d8d-458c04484c89"
      },
      "source": [
        "c = MyClass()\n",
        "print(c.integer, c.string)\n",
        "c.__dict__"
      ],
      "execution_count": 50,
      "outputs": [
        {
          "output_type": "stream",
          "name": "stdout",
          "text": [
            "0 my class\n"
          ]
        },
        {
          "output_type": "execute_result",
          "data": {
            "text/plain": [
              "{'string': 'my class'}"
            ]
          },
          "metadata": {},
          "execution_count": 50
        }
      ]
    },
    {
      "cell_type": "code",
      "metadata": {
        "id": "NUm4VJSiqEb5"
      },
      "source": [
        "class MyClass:\n",
        "  integer = 0\n",
        "\n",
        "  def __init__(self):\n",
        "    self.string = \"my class\"\n",
        "\n",
        "  @staticmethod\n",
        "  def static_method():\n",
        "    print(\"i'm stuck\")\n",
        "\n",
        "  @classmethod\n",
        "  def class_method(cls):\n",
        "    print(\"our integer:\", cls.integer)"
      ],
      "execution_count": 51,
      "outputs": []
    },
    {
      "cell_type": "markdown",
      "metadata": {
        "id": "9Et3d_31rGye"
      },
      "source": [
        "Статические методы как бы привязаны к классу, но вообще не используют его поля  \n",
        "Методы класса привязаны именно к классу, так что и доступ имеют только к его полям"
      ]
    },
    {
      "cell_type": "code",
      "metadata": {
        "id": "d9L2t3c0qdRZ",
        "colab": {
          "base_uri": "https://localhost:8080/"
        },
        "outputId": "9545a452-0bbd-43d0-ba3c-4ae42d56d30c"
      },
      "source": [
        "MyClass.static_method()\n",
        "MyClass.class_method()"
      ],
      "execution_count": 53,
      "outputs": [
        {
          "output_type": "stream",
          "name": "stdout",
          "text": [
            "i'm stuck\n",
            "our integer: 0\n"
          ]
        }
      ]
    },
    {
      "cell_type": "code",
      "source": [
        "c1 = MyClass()"
      ],
      "metadata": {
        "id": "aecmyN_EkxtD"
      },
      "execution_count": 52,
      "outputs": []
    },
    {
      "cell_type": "markdown",
      "metadata": {
        "id": "3QPen1EXrWkD"
      },
      "source": [
        "# Видимость переменных"
      ]
    },
    {
      "cell_type": "markdown",
      "metadata": {
        "id": "LAgnQOhlutIx"
      },
      "source": [
        "Локальная"
      ]
    },
    {
      "cell_type": "code",
      "metadata": {
        "id": "GxWjttoTu32Z",
        "colab": {
          "base_uri": "https://localhost:8080/",
          "height": 232
        },
        "outputId": "e36cb1b8-eca7-43f3-b6e5-ab21aa6a5f0a"
      },
      "source": [
        "def test():\n",
        "  test_x = 1\n",
        "  print(test_x)\n",
        "\n",
        "test()\n",
        "print(test_x)"
      ],
      "execution_count": 54,
      "outputs": [
        {
          "output_type": "stream",
          "name": "stdout",
          "text": [
            "1\n"
          ]
        },
        {
          "output_type": "error",
          "ename": "NameError",
          "evalue": "ignored",
          "traceback": [
            "\u001b[0;31m---------------------------------------------------------------------------\u001b[0m",
            "\u001b[0;31mNameError\u001b[0m                                 Traceback (most recent call last)",
            "\u001b[0;32m<ipython-input-54-d286e7047330>\u001b[0m in \u001b[0;36m<cell line: 6>\u001b[0;34m()\u001b[0m\n\u001b[1;32m      4\u001b[0m \u001b[0;34m\u001b[0m\u001b[0m\n\u001b[1;32m      5\u001b[0m \u001b[0mtest\u001b[0m\u001b[0;34m(\u001b[0m\u001b[0;34m)\u001b[0m\u001b[0;34m\u001b[0m\u001b[0;34m\u001b[0m\u001b[0m\n\u001b[0;32m----> 6\u001b[0;31m \u001b[0mprint\u001b[0m\u001b[0;34m(\u001b[0m\u001b[0mtest_x\u001b[0m\u001b[0;34m)\u001b[0m\u001b[0;34m\u001b[0m\u001b[0;34m\u001b[0m\u001b[0m\n\u001b[0m",
            "\u001b[0;31mNameError\u001b[0m: name 'test_x' is not defined"
          ]
        }
      ]
    },
    {
      "cell_type": "markdown",
      "metadata": {
        "id": "D9sGMf3Tu4Zg"
      },
      "source": [
        "Глобальная"
      ]
    },
    {
      "cell_type": "code",
      "metadata": {
        "id": "xg2cTKwqv3C3"
      },
      "source": [
        "test_x = 0"
      ],
      "execution_count": 55,
      "outputs": []
    },
    {
      "cell_type": "code",
      "metadata": {
        "id": "IJZYUeD1vtMZ",
        "colab": {
          "base_uri": "https://localhost:8080/"
        },
        "outputId": "4a19a305-f20e-44fb-e194-357c7181f06d"
      },
      "source": [
        "def test():\n",
        "  print(test_x)\n",
        "\n",
        "test()"
      ],
      "execution_count": 56,
      "outputs": [
        {
          "output_type": "stream",
          "name": "stdout",
          "text": [
            "0\n"
          ]
        }
      ]
    },
    {
      "cell_type": "code",
      "source": [
        "def test():\n",
        "  test_x += 1\n",
        "\n",
        "test()"
      ],
      "metadata": {
        "id": "cJU_3TrJlt4W"
      },
      "execution_count": null,
      "outputs": []
    },
    {
      "cell_type": "code",
      "metadata": {
        "id": "XT9rPgEGvEy-",
        "colab": {
          "base_uri": "https://localhost:8080/"
        },
        "outputId": "22b0a8a0-0c35-4655-8153-8cb405ea89ea"
      },
      "source": [
        "test_y = 0\n",
        "\n",
        "def test():\n",
        "    global test_y\n",
        "    test_y += 1\n",
        "\n",
        "print(test_y)\n",
        "test()\n",
        "print(test_y)"
      ],
      "execution_count": 58,
      "outputs": [
        {
          "output_type": "stream",
          "name": "stdout",
          "text": [
            "0\n",
            "1\n"
          ]
        }
      ]
    },
    {
      "cell_type": "markdown",
      "metadata": {
        "id": "ThmbSBj0v_sI"
      },
      "source": [
        "Нелокальная"
      ]
    },
    {
      "cell_type": "code",
      "metadata": {
        "id": "vuQL5lNXwBzM",
        "colab": {
          "base_uri": "https://localhost:8080/"
        },
        "outputId": "cf5dddef-0db6-417b-c3d0-07c7103aabb3"
      },
      "source": [
        "def test():\n",
        "  test_z = 0\n",
        "  def test_2():\n",
        "    nonlocal test_z\n",
        "    test_z += 1\n",
        "  test_2()\n",
        "  print(test_z)\n",
        "\n",
        "test()"
      ],
      "execution_count": 59,
      "outputs": [
        {
          "output_type": "stream",
          "name": "stdout",
          "text": [
            "1\n"
          ]
        }
      ]
    },
    {
      "cell_type": "code",
      "metadata": {
        "id": "RnvD5iTnwKG5",
        "colab": {
          "base_uri": "https://localhost:8080/",
          "height": 143
        },
        "outputId": "6203798f-8cf3-4b7e-afd9-a7481429f09b"
      },
      "source": [
        "def test(a):\n",
        "  test_w = 2\n",
        "  def test_2():|\n",
        "    return a + test_w\n",
        "  return test_2()\n",
        "\n",
        "test(5)"
      ],
      "execution_count": 60,
      "outputs": [
        {
          "output_type": "error",
          "ename": "SyntaxError",
          "evalue": "ignored",
          "traceback": [
            "\u001b[0;36m  File \u001b[0;32m\"<ipython-input-60-ea505ecc855d>\"\u001b[0;36m, line \u001b[0;32m3\u001b[0m\n\u001b[0;31m    def test_2():|\u001b[0m\n\u001b[0m                 ^\u001b[0m\n\u001b[0;31mSyntaxError\u001b[0m\u001b[0;31m:\u001b[0m invalid syntax\n"
          ]
        }
      ]
    },
    {
      "cell_type": "code",
      "metadata": {
        "id": "XcOWsIpJxAAd"
      },
      "source": [
        "def test(a):\n",
        "  test_w = 2\n",
        "  def test_2():\n",
        "    test_w += a\n",
        "    return test_w\n",
        "  return test_2()\n",
        "\n",
        "test(5)"
      ],
      "execution_count": null,
      "outputs": []
    },
    {
      "cell_type": "code",
      "metadata": {
        "id": "TAPYaJ2P8HtR",
        "colab": {
          "base_uri": "https://localhost:8080/"
        },
        "outputId": "556edcb9-3000-4d10-cf00-a96164df50ef"
      },
      "source": [
        "def test_multi(a):\n",
        "    def test_multi_internal(b):\n",
        "        return b*a\n",
        "    return test_multi_internal\n",
        "\n",
        "\n",
        "test_multi_5 = test_multi(5)\n",
        "print(test_multi_5(9))"
      ],
      "execution_count": 61,
      "outputs": [
        {
          "output_type": "stream",
          "name": "stdout",
          "text": [
            "45\n"
          ]
        }
      ]
    },
    {
      "cell_type": "markdown",
      "metadata": {
        "id": "VBCKltvXw_ZO"
      },
      "source": [
        "Поищем переменную?"
      ]
    },
    {
      "cell_type": "code",
      "metadata": {
        "id": "d7eTI8YhxHbf",
        "colab": {
          "base_uri": "https://localhost:8080/"
        },
        "outputId": "04948366-d577-4c12-dd86-99633692a0dd"
      },
      "source": [
        "int = 0\n",
        "\n",
        "def test():\n",
        "  int = 1\n",
        "  def test_2():\n",
        "    int = 2\n",
        "    print(int)\n",
        "  test_2()\n",
        "\n",
        "test()"
      ],
      "execution_count": 63,
      "outputs": [
        {
          "output_type": "stream",
          "name": "stdout",
          "text": [
            "2\n"
          ]
        }
      ]
    },
    {
      "cell_type": "markdown",
      "metadata": {
        "id": "A9__Qef-xtmj"
      },
      "source": [
        "Огласите весь список, пожалуйста!"
      ]
    },
    {
      "cell_type": "code",
      "metadata": {
        "id": "8_1Npd8Gx2Uo",
        "colab": {
          "base_uri": "https://localhost:8080/"
        },
        "outputId": "a558ef82-c401-4d95-bb40-b3e98f4aaed3"
      },
      "source": [
        "def test():\n",
        "  print(locals())\n",
        "  test_list = 0\n",
        "  print(locals())\n",
        "\n",
        "  print(globals())\n",
        "\n",
        "test()"
      ],
      "execution_count": 64,
      "outputs": [
        {
          "output_type": "stream",
          "name": "stdout",
          "text": [
            "{}\n",
            "{'test_list': 0}\n",
            "{'__name__': '__main__', '__doc__': 'Automatically created module for IPython interactive environment', '__package__': None, '__loader__': None, '__spec__': None, '__builtin__': <module 'builtins' (built-in)>, '__builtins__': <module 'builtins' (built-in)>, '_ih': ['', 'import sys\\nimport gc', 'x = 5\\nprint(id(x))\\nprint(type(x))', 'x = 6\\nprint(id(x))\\nprint(type(x))', 'y = 6\\nprint(x is y)', 'x = 5\\nprint(id(x))\\nprint(type(x))', 'y = 6\\nprint(x is y)', 'x = 6\\nprint(id(x))\\nprint(type(x))', 'y = 6\\nprint(x is y)', 'print(x == y)', 'z = 100000\\nw = 100000\\nprint(z is w)\\nprint(z == w)', 'def compare_addrs(a, b):\\n  print(a is b)', 'a = -6\\nb = -6\\ncompare_addrs(a, b)\\n\\na = -5\\nb = -5\\ncompare_addrs(a, b)\\n\\na = 256\\nb = 256\\ncompare_addrs(a, b)\\n\\na = 257\\nb = 257\\ncompare_addrs(a, b)', '\"b\" *2', 'a = \"qwertyuiopasdfghjklz\"\\nb = \"qwertyuiopasdfghjklz\"\\ncompare_addrs(a, b)\\n\\na = \"a\" * 4096\\nb = \"a\" * 4096\\ncompare_addrs(a, b)\\n\\na = \"a\" * 4097\\nb = \"a\" * 4097\\ncompare_addrs(a, b)\\n\\na = \"qwertyuiopasdfghjklz!\"\\nb = \"qwertyuiopasdfghjklz!\"\\ncompare_addrs(a, b)\\n\\na = \"Holberton\"\\nb = \"\".join([\"H\", \"o\", \"l\", \"b\", \"e\", \"r\", \"t\", \"o\", \"n\"])\\ncompare_addrs(a, b)', 'a = sys.intern(\"qwertyuiopasdfghjklz!\")\\nb = sys.intern(\"qwertyuiopasdfghjklz!\")\\ncompare_addrs(a, b)', 'a = \"test\"\\nprint(id(a))\\na += \"!\"\\nprint(id(a))', 'a = [1,2,3]\\nprint(id(a))\\na[0]=0\\nprint(id(a))', 'a = [1,2,3]\\nprint(id(a[0]))\\na[0]=0\\nprint(id(a[0]))', 'a = (1,2)\\na[0]=0', 'a = (0, [1,2])\\nprint(id(a))', 'a[1].append(3)\\nprint(id(a))', 'def incr(a):\\n  if type(a) == int:\\n    a += 1\\n  if type(a) == list:\\n    a.append(1)\\n\\na = 5\\nincr(a)\\nprint(a)\\n\\na = [-1, 0]\\nincr(a)\\nprint(a)', 'def incr(a):\\n  if type(a) == int:\\n    a += 1\\n  if type(a) == list:\\n    a.append(1)\\n  print(a)\\n\\na = 5\\nincr(a)\\nprint(a)\\n\\na = [-1, 0]\\nincr(a)\\nprint(a)', 'a = [1,2]\\nb = a', 'a.append(1)\\nprint(a)', 'print(b)', 'list1 = [1,2,3]\\nlist2 = list1[:]\\nlist3 = list(list1)\\nlist4 = list1.copy()\\n\\ncompare_addrs(list1, list2)\\ncompare_addrs(list1, list3)\\ncompare_addrs(list1, list4)', 'a = [1,2,3]\\na[1:2]', 'a = [1,2,3]\\na[:]', 'list1.append(4)\\nprint(list2)', 'list3', 'list4', 'a = 5\\ndir(a)', 'class Test:\\n  def test1(self):\\n    pass\\n  def _test2(self):\\n    pass\\n  def __test3(self):\\n    pass', 't = Test()', 't.test1()', 't._test2()', 't.__test3()', 'a.__dict__', 't.__dict__', 'dir(a)', 'dir(t)', 't._Test__test3()', 'class Test:\\n  def test1(self):\\n    pass\\n  def _test2(self):\\n    pass\\n  def __test3(self):\\n    print(\"OH NO\")', 't = Test()', 't._Test__test3()', 't.__dict__', 'c = MyClass()\\nprint(c.integer, c.string)\\nc.__dict__', 'class MyClass:\\n  integer = 0\\n\\n  def __init__(self):\\n    self.string = \"my class\"', 'c = MyClass()\\nprint(c.integer, c.string)\\nc.__dict__', 'class MyClass:\\n  integer = 0\\n\\n  def __init__(self):\\n    self.string = \"my class\"\\n\\n  @staticmethod\\n  def static_method():\\n    print(\"i\\'m stuck\")\\n\\n  @classmethod\\n  def class_method(cls):\\n    print(\"our integer:\", cls.integer)', 'c1 = MyClass()', 'MyClass.static_method()\\nMyClass.class_method()', 'def test():\\n  test_x = 1\\n  print(test_x)\\n\\ntest()\\nprint(test_x)', 'test_x = 0', 'def test():\\n  print(test_x)\\n  \\ntest()', 'def test():\\n  test_x += 1\\n  \\ntest()', 'test_y = 0\\n\\ndef test():\\n    global test_y\\n    test_y += 1\\n\\nprint(test_y)\\ntest()\\nprint(test_y)', 'def test():\\n  test_z = 0\\n  def test_2():\\n    nonlocal test_z\\n    test_z += 1\\n  test_2()\\n  print(test_z)\\n\\ntest()', 'def test(a):\\n  test_w = 2\\n  def test_2():|\\n    return a + test_w\\n  return test_2()\\n\\ntest(5)', 'def test_multi(a):\\n    def test_multi_internal(b):\\n        return b*a\\n    return test_multi_internal\\n    \\n\\ntest_multi_5 = test_multi(5)\\nprint(test_multi_5(9))', 'int', 'int = 0\\n\\ndef test():\\n  int = 1\\n  def test_2():\\n    int = 2\\n    print(int)\\n  test_2()\\n\\ntest()', 'def test():\\n  print(locals())\\n  test_list = 0\\n  print(locals())\\n\\n  print(globals())\\n\\ntest()'], '_oh': {13: 'bb', 28: [2], 29: [1, 2, 3], 31: [1, 2, 3], 32: [1, 2, 3], 33: ['__abs__', '__add__', '__and__', '__bool__', '__ceil__', '__class__', '__delattr__', '__dir__', '__divmod__', '__doc__', '__eq__', '__float__', '__floor__', '__floordiv__', '__format__', '__ge__', '__getattribute__', '__getnewargs__', '__gt__', '__hash__', '__index__', '__init__', '__init_subclass__', '__int__', '__invert__', '__le__', '__lshift__', '__lt__', '__mod__', '__mul__', '__ne__', '__neg__', '__new__', '__or__', '__pos__', '__pow__', '__radd__', '__rand__', '__rdivmod__', '__reduce__', '__reduce_ex__', '__repr__', '__rfloordiv__', '__rlshift__', '__rmod__', '__rmul__', '__ror__', '__round__', '__rpow__', '__rrshift__', '__rshift__', '__rsub__', '__rtruediv__', '__rxor__', '__setattr__', '__sizeof__', '__str__', '__sub__', '__subclasshook__', '__truediv__', '__trunc__', '__xor__', 'as_integer_ratio', 'bit_count', 'bit_length', 'conjugate', 'denominator', 'from_bytes', 'imag', 'numerator', 'real', 'to_bytes'], 40: {}, 41: ['__abs__', '__add__', '__and__', '__bool__', '__ceil__', '__class__', '__delattr__', '__dir__', '__divmod__', '__doc__', '__eq__', '__float__', '__floor__', '__floordiv__', '__format__', '__ge__', '__getattribute__', '__getnewargs__', '__gt__', '__hash__', '__index__', '__init__', '__init_subclass__', '__int__', '__invert__', '__le__', '__lshift__', '__lt__', '__mod__', '__mul__', '__ne__', '__neg__', '__new__', '__or__', '__pos__', '__pow__', '__radd__', '__rand__', '__rdivmod__', '__reduce__', '__reduce_ex__', '__repr__', '__rfloordiv__', '__rlshift__', '__rmod__', '__rmul__', '__ror__', '__round__', '__rpow__', '__rrshift__', '__rshift__', '__rsub__', '__rtruediv__', '__rxor__', '__setattr__', '__sizeof__', '__str__', '__sub__', '__subclasshook__', '__truediv__', '__trunc__', '__xor__', 'as_integer_ratio', 'bit_count', 'bit_length', 'conjugate', 'denominator', 'from_bytes', 'imag', 'numerator', 'real', 'to_bytes'], 42: ['_Test__test3', '__class__', '__delattr__', '__dict__', '__dir__', '__doc__', '__eq__', '__format__', '__ge__', '__getattribute__', '__gt__', '__hash__', '__init__', '__init_subclass__', '__le__', '__lt__', '__module__', '__ne__', '__new__', '__reduce__', '__reduce_ex__', '__repr__', '__setattr__', '__sizeof__', '__str__', '__subclasshook__', '__weakref__', '_test2', 'test1'], 47: {}, 50: {'string': 'my class'}, 62: <class 'int'>}, '_dh': ['/content'], 'In': ['', 'import sys\\nimport gc', 'x = 5\\nprint(id(x))\\nprint(type(x))', 'x = 6\\nprint(id(x))\\nprint(type(x))', 'y = 6\\nprint(x is y)', 'x = 5\\nprint(id(x))\\nprint(type(x))', 'y = 6\\nprint(x is y)', 'x = 6\\nprint(id(x))\\nprint(type(x))', 'y = 6\\nprint(x is y)', 'print(x == y)', 'z = 100000\\nw = 100000\\nprint(z is w)\\nprint(z == w)', 'def compare_addrs(a, b):\\n  print(a is b)', 'a = -6\\nb = -6\\ncompare_addrs(a, b)\\n\\na = -5\\nb = -5\\ncompare_addrs(a, b)\\n\\na = 256\\nb = 256\\ncompare_addrs(a, b)\\n\\na = 257\\nb = 257\\ncompare_addrs(a, b)', '\"b\" *2', 'a = \"qwertyuiopasdfghjklz\"\\nb = \"qwertyuiopasdfghjklz\"\\ncompare_addrs(a, b)\\n\\na = \"a\" * 4096\\nb = \"a\" * 4096\\ncompare_addrs(a, b)\\n\\na = \"a\" * 4097\\nb = \"a\" * 4097\\ncompare_addrs(a, b)\\n\\na = \"qwertyuiopasdfghjklz!\"\\nb = \"qwertyuiopasdfghjklz!\"\\ncompare_addrs(a, b)\\n\\na = \"Holberton\"\\nb = \"\".join([\"H\", \"o\", \"l\", \"b\", \"e\", \"r\", \"t\", \"o\", \"n\"])\\ncompare_addrs(a, b)', 'a = sys.intern(\"qwertyuiopasdfghjklz!\")\\nb = sys.intern(\"qwertyuiopasdfghjklz!\")\\ncompare_addrs(a, b)', 'a = \"test\"\\nprint(id(a))\\na += \"!\"\\nprint(id(a))', 'a = [1,2,3]\\nprint(id(a))\\na[0]=0\\nprint(id(a))', 'a = [1,2,3]\\nprint(id(a[0]))\\na[0]=0\\nprint(id(a[0]))', 'a = (1,2)\\na[0]=0', 'a = (0, [1,2])\\nprint(id(a))', 'a[1].append(3)\\nprint(id(a))', 'def incr(a):\\n  if type(a) == int:\\n    a += 1\\n  if type(a) == list:\\n    a.append(1)\\n\\na = 5\\nincr(a)\\nprint(a)\\n\\na = [-1, 0]\\nincr(a)\\nprint(a)', 'def incr(a):\\n  if type(a) == int:\\n    a += 1\\n  if type(a) == list:\\n    a.append(1)\\n  print(a)\\n\\na = 5\\nincr(a)\\nprint(a)\\n\\na = [-1, 0]\\nincr(a)\\nprint(a)', 'a = [1,2]\\nb = a', 'a.append(1)\\nprint(a)', 'print(b)', 'list1 = [1,2,3]\\nlist2 = list1[:]\\nlist3 = list(list1)\\nlist4 = list1.copy()\\n\\ncompare_addrs(list1, list2)\\ncompare_addrs(list1, list3)\\ncompare_addrs(list1, list4)', 'a = [1,2,3]\\na[1:2]', 'a = [1,2,3]\\na[:]', 'list1.append(4)\\nprint(list2)', 'list3', 'list4', 'a = 5\\ndir(a)', 'class Test:\\n  def test1(self):\\n    pass\\n  def _test2(self):\\n    pass\\n  def __test3(self):\\n    pass', 't = Test()', 't.test1()', 't._test2()', 't.__test3()', 'a.__dict__', 't.__dict__', 'dir(a)', 'dir(t)', 't._Test__test3()', 'class Test:\\n  def test1(self):\\n    pass\\n  def _test2(self):\\n    pass\\n  def __test3(self):\\n    print(\"OH NO\")', 't = Test()', 't._Test__test3()', 't.__dict__', 'c = MyClass()\\nprint(c.integer, c.string)\\nc.__dict__', 'class MyClass:\\n  integer = 0\\n\\n  def __init__(self):\\n    self.string = \"my class\"', 'c = MyClass()\\nprint(c.integer, c.string)\\nc.__dict__', 'class MyClass:\\n  integer = 0\\n\\n  def __init__(self):\\n    self.string = \"my class\"\\n\\n  @staticmethod\\n  def static_method():\\n    print(\"i\\'m stuck\")\\n\\n  @classmethod\\n  def class_method(cls):\\n    print(\"our integer:\", cls.integer)', 'c1 = MyClass()', 'MyClass.static_method()\\nMyClass.class_method()', 'def test():\\n  test_x = 1\\n  print(test_x)\\n\\ntest()\\nprint(test_x)', 'test_x = 0', 'def test():\\n  print(test_x)\\n  \\ntest()', 'def test():\\n  test_x += 1\\n  \\ntest()', 'test_y = 0\\n\\ndef test():\\n    global test_y\\n    test_y += 1\\n\\nprint(test_y)\\ntest()\\nprint(test_y)', 'def test():\\n  test_z = 0\\n  def test_2():\\n    nonlocal test_z\\n    test_z += 1\\n  test_2()\\n  print(test_z)\\n\\ntest()', 'def test(a):\\n  test_w = 2\\n  def test_2():|\\n    return a + test_w\\n  return test_2()\\n\\ntest(5)', 'def test_multi(a):\\n    def test_multi_internal(b):\\n        return b*a\\n    return test_multi_internal\\n    \\n\\ntest_multi_5 = test_multi(5)\\nprint(test_multi_5(9))', 'int', 'int = 0\\n\\ndef test():\\n  int = 1\\n  def test_2():\\n    int = 2\\n    print(int)\\n  test_2()\\n\\ntest()', 'def test():\\n  print(locals())\\n  test_list = 0\\n  print(locals())\\n\\n  print(globals())\\n\\ntest()'], 'Out': {13: 'bb', 28: [2], 29: [1, 2, 3], 31: [1, 2, 3], 32: [1, 2, 3], 33: ['__abs__', '__add__', '__and__', '__bool__', '__ceil__', '__class__', '__delattr__', '__dir__', '__divmod__', '__doc__', '__eq__', '__float__', '__floor__', '__floordiv__', '__format__', '__ge__', '__getattribute__', '__getnewargs__', '__gt__', '__hash__', '__index__', '__init__', '__init_subclass__', '__int__', '__invert__', '__le__', '__lshift__', '__lt__', '__mod__', '__mul__', '__ne__', '__neg__', '__new__', '__or__', '__pos__', '__pow__', '__radd__', '__rand__', '__rdivmod__', '__reduce__', '__reduce_ex__', '__repr__', '__rfloordiv__', '__rlshift__', '__rmod__', '__rmul__', '__ror__', '__round__', '__rpow__', '__rrshift__', '__rshift__', '__rsub__', '__rtruediv__', '__rxor__', '__setattr__', '__sizeof__', '__str__', '__sub__', '__subclasshook__', '__truediv__', '__trunc__', '__xor__', 'as_integer_ratio', 'bit_count', 'bit_length', 'conjugate', 'denominator', 'from_bytes', 'imag', 'numerator', 'real', 'to_bytes'], 40: {}, 41: ['__abs__', '__add__', '__and__', '__bool__', '__ceil__', '__class__', '__delattr__', '__dir__', '__divmod__', '__doc__', '__eq__', '__float__', '__floor__', '__floordiv__', '__format__', '__ge__', '__getattribute__', '__getnewargs__', '__gt__', '__hash__', '__index__', '__init__', '__init_subclass__', '__int__', '__invert__', '__le__', '__lshift__', '__lt__', '__mod__', '__mul__', '__ne__', '__neg__', '__new__', '__or__', '__pos__', '__pow__', '__radd__', '__rand__', '__rdivmod__', '__reduce__', '__reduce_ex__', '__repr__', '__rfloordiv__', '__rlshift__', '__rmod__', '__rmul__', '__ror__', '__round__', '__rpow__', '__rrshift__', '__rshift__', '__rsub__', '__rtruediv__', '__rxor__', '__setattr__', '__sizeof__', '__str__', '__sub__', '__subclasshook__', '__truediv__', '__trunc__', '__xor__', 'as_integer_ratio', 'bit_count', 'bit_length', 'conjugate', 'denominator', 'from_bytes', 'imag', 'numerator', 'real', 'to_bytes'], 42: ['_Test__test3', '__class__', '__delattr__', '__dict__', '__dir__', '__doc__', '__eq__', '__format__', '__ge__', '__getattribute__', '__gt__', '__hash__', '__init__', '__init_subclass__', '__le__', '__lt__', '__module__', '__ne__', '__new__', '__reduce__', '__reduce_ex__', '__repr__', '__setattr__', '__sizeof__', '__str__', '__subclasshook__', '__weakref__', '_test2', 'test1'], 47: {}, 50: {'string': 'my class'}, 62: <class 'int'>}, 'get_ipython': <bound method InteractiveShell.get_ipython of <google.colab._shell.Shell object at 0x79d8c940e0b0>>, 'exit': <IPython.core.autocall.ZMQExitAutocall object at 0x79d8c940e650>, 'quit': <IPython.core.autocall.ZMQExitAutocall object at 0x79d8c940e650>, '_': <class 'int'>, '__': {'string': 'my class'}, '___': {}, '_i': 'int = 0\\n\\ndef test():\\n  int = 1\\n  def test_2():\\n    int = 2\\n    print(int)\\n  test_2()\\n\\ntest()', '_ii': 'int', '_iii': 'def test_multi(a):\\n    def test_multi_internal(b):\\n        return b*a\\n    return test_multi_internal\\n    \\n\\ntest_multi_5 = test_multi(5)\\nprint(test_multi_5(9))', '_i1': 'import sys\\nimport gc', 'sys': <module 'sys' (built-in)>, 'gc': <module 'gc' (built-in)>, '_i2': 'x = 5\\nprint(id(x))\\nprint(type(x))', 'x': 6, '_i3': 'x = 6\\nprint(id(x))\\nprint(type(x))', '_i4': 'y = 6\\nprint(x is y)', 'y': 6, '_i5': 'x = 5\\nprint(id(x))\\nprint(type(x))', '_i6': 'y = 6\\nprint(x is y)', '_i7': 'x = 6\\nprint(id(x))\\nprint(type(x))', '_i8': 'y = 6\\nprint(x is y)', '_i9': 'print(x == y)', '_i10': 'z = 100000\\nw = 100000\\nprint(z is w)\\nprint(z == w)', 'z': 100000, 'w': 100000, '_i11': 'def compare_addrs(a, b):\\n  print(a is b)', 'compare_addrs': <function compare_addrs at 0x79d8aff4d870>, '_i12': 'a = -6\\nb = -6\\ncompare_addrs(a, b)\\n\\na = -5\\nb = -5\\ncompare_addrs(a, b)\\n\\na = 256\\nb = 256\\ncompare_addrs(a, b)\\n\\na = 257\\nb = 257\\ncompare_addrs(a, b)', 'a': 5, 'b': [1, 2, 1], '_i13': '\"b\" *2', '_13': 'bb', '_i14': 'a = \"qwertyuiopasdfghjklz\"\\nb = \"qwertyuiopasdfghjklz\"\\ncompare_addrs(a, b)\\n\\na = \"a\" * 4096\\nb = \"a\" * 4096\\ncompare_addrs(a, b)\\n\\na = \"a\" * 4097\\nb = \"a\" * 4097\\ncompare_addrs(a, b)\\n\\na = \"qwertyuiopasdfghjklz!\"\\nb = \"qwertyuiopasdfghjklz!\"\\ncompare_addrs(a, b)\\n\\na = \"Holberton\"\\nb = \"\".join([\"H\", \"o\", \"l\", \"b\", \"e\", \"r\", \"t\", \"o\", \"n\"])\\ncompare_addrs(a, b)', '_i15': 'a = sys.intern(\"qwertyuiopasdfghjklz!\")\\nb = sys.intern(\"qwertyuiopasdfghjklz!\")\\ncompare_addrs(a, b)', '_i16': 'a = \"test\"\\nprint(id(a))\\na += \"!\"\\nprint(id(a))', '_i17': 'a = [1,2,3]\\nprint(id(a))\\na[0]=0\\nprint(id(a))', '_i18': 'a = [1,2,3]\\nprint(id(a[0]))\\na[0]=0\\nprint(id(a[0]))', '_i19': 'a = (1,2)\\na[0]=0', '_i20': 'a = (0, [1,2])\\nprint(id(a))', '_i21': 'a[1].append(3)\\nprint(id(a))', '_i22': 'def incr(a):\\n  if type(a) == int:\\n    a += 1\\n  if type(a) == list:\\n    a.append(1)\\n\\na = 5\\nincr(a)\\nprint(a)\\n\\na = [-1, 0]\\nincr(a)\\nprint(a)', 'incr': <function incr at 0x79d88f751fc0>, '_i23': 'def incr(a):\\n  if type(a) == int:\\n    a += 1\\n  if type(a) == list:\\n    a.append(1)\\n  print(a)\\n\\na = 5\\nincr(a)\\nprint(a)\\n\\na = [-1, 0]\\nincr(a)\\nprint(a)', '_i24': 'a = [1,2]\\nb = a', '_i25': 'a.append(1)\\nprint(a)', '_i26': 'print(b)', '_i27': 'list1 = [1,2,3]\\nlist2 = list1[:]\\nlist3 = list(list1)\\nlist4 = list1.copy()\\n\\ncompare_addrs(list1, list2)\\ncompare_addrs(list1, list3)\\ncompare_addrs(list1, list4)', 'list1': [1, 2, 3, 4], 'list2': [1, 2, 3], 'list3': [1, 2, 3], 'list4': [1, 2, 3], '_i28': 'a = [1,2,3]\\na[1:2]', '_28': [2], '_i29': 'a = [1,2,3]\\na[:]', '_29': [1, 2, 3], '_i30': 'list1.append(4)\\nprint(list2)', '_i31': 'list3', '_31': [1, 2, 3], '_i32': 'list4', '_32': [1, 2, 3], '_i33': 'a = 5\\ndir(a)', '_33': ['__abs__', '__add__', '__and__', '__bool__', '__ceil__', '__class__', '__delattr__', '__dir__', '__divmod__', '__doc__', '__eq__', '__float__', '__floor__', '__floordiv__', '__format__', '__ge__', '__getattribute__', '__getnewargs__', '__gt__', '__hash__', '__index__', '__init__', '__init_subclass__', '__int__', '__invert__', '__le__', '__lshift__', '__lt__', '__mod__', '__mul__', '__ne__', '__neg__', '__new__', '__or__', '__pos__', '__pow__', '__radd__', '__rand__', '__rdivmod__', '__reduce__', '__reduce_ex__', '__repr__', '__rfloordiv__', '__rlshift__', '__rmod__', '__rmul__', '__ror__', '__round__', '__rpow__', '__rrshift__', '__rshift__', '__rsub__', '__rtruediv__', '__rxor__', '__setattr__', '__sizeof__', '__str__', '__sub__', '__subclasshook__', '__truediv__', '__trunc__', '__xor__', 'as_integer_ratio', 'bit_count', 'bit_length', 'conjugate', 'denominator', 'from_bytes', 'imag', 'numerator', 'real', 'to_bytes'], '_i34': 'class Test:\\n  def test1(self):\\n    pass\\n  def _test2(self):\\n    pass\\n  def __test3(self):\\n    pass', 'Test': <class '__main__.Test'>, '_i35': 't = Test()', 't': <__main__.Test object at 0x79d885c373a0>, '_i36': 't.test1()', '_i37': 't._test2()', '_i38': 't.__test3()', '_i39': 'a.__dict__', '_i40': 't.__dict__', '_40': {}, '_i41': 'dir(a)', '_41': ['__abs__', '__add__', '__and__', '__bool__', '__ceil__', '__class__', '__delattr__', '__dir__', '__divmod__', '__doc__', '__eq__', '__float__', '__floor__', '__floordiv__', '__format__', '__ge__', '__getattribute__', '__getnewargs__', '__gt__', '__hash__', '__index__', '__init__', '__init_subclass__', '__int__', '__invert__', '__le__', '__lshift__', '__lt__', '__mod__', '__mul__', '__ne__', '__neg__', '__new__', '__or__', '__pos__', '__pow__', '__radd__', '__rand__', '__rdivmod__', '__reduce__', '__reduce_ex__', '__repr__', '__rfloordiv__', '__rlshift__', '__rmod__', '__rmul__', '__ror__', '__round__', '__rpow__', '__rrshift__', '__rshift__', '__rsub__', '__rtruediv__', '__rxor__', '__setattr__', '__sizeof__', '__str__', '__sub__', '__subclasshook__', '__truediv__', '__trunc__', '__xor__', 'as_integer_ratio', 'bit_count', 'bit_length', 'conjugate', 'denominator', 'from_bytes', 'imag', 'numerator', 'real', 'to_bytes'], '_i42': 'dir(t)', '_42': ['_Test__test3', '__class__', '__delattr__', '__dict__', '__dir__', '__doc__', '__eq__', '__format__', '__ge__', '__getattribute__', '__gt__', '__hash__', '__init__', '__init_subclass__', '__le__', '__lt__', '__module__', '__ne__', '__new__', '__reduce__', '__reduce_ex__', '__repr__', '__setattr__', '__sizeof__', '__str__', '__subclasshook__', '__weakref__', '_test2', 'test1'], '_i43': 't._Test__test3()', '_i44': 'class Test:\\n  def test1(self):\\n    pass\\n  def _test2(self):\\n    pass\\n  def __test3(self):\\n    print(\"OH NO\")', '_i45': 't = Test()', '_i46': 't._Test__test3()', '_i47': 't.__dict__', '_47': {}, '_i48': 'c = MyClass()\\nprint(c.integer, c.string)\\nc.__dict__', '_i49': 'class MyClass:\\n  integer = 0\\n\\n  def __init__(self):\\n    self.string = \"my class\"', 'MyClass': <class '__main__.MyClass'>, '_i50': 'c = MyClass()\\nprint(c.integer, c.string)\\nc.__dict__', 'c': <__main__.MyClass object at 0x79d885c34a30>, '_50': {'string': 'my class'}, '_i51': 'class MyClass:\\n  integer = 0\\n\\n  def __init__(self):\\n    self.string = \"my class\"\\n\\n  @staticmethod\\n  def static_method():\\n    print(\"i\\'m stuck\")\\n\\n  @classmethod\\n  def class_method(cls):\\n    print(\"our integer:\", cls.integer)', '_i52': 'c1 = MyClass()', 'c1': <__main__.MyClass object at 0x79d885c35420>, '_i53': 'MyClass.static_method()\\nMyClass.class_method()', '_i54': 'def test():\\n  test_x = 1\\n  print(test_x)\\n\\ntest()\\nprint(test_x)', 'test': <function test at 0x79d885b12b00>, '_i55': 'test_x = 0', 'test_x': 0, '_i56': 'def test():\\n  print(test_x)\\n  \\ntest()', '_i57': 'def test():\\n  test_x += 1\\n  \\ntest()', '_i58': 'test_y = 0\\n\\ndef test():\\n    global test_y\\n    test_y += 1\\n\\nprint(test_y)\\ntest()\\nprint(test_y)', 'test_y': 1, '_i59': 'def test():\\n  test_z = 0\\n  def test_2():\\n    nonlocal test_z\\n    test_z += 1\\n  test_2()\\n  print(test_z)\\n\\ntest()', '_i60': 'def test(a):\\n  test_w = 2\\n  def test_2():|\\n    return a + test_w\\n  return test_2()\\n\\ntest(5)', '_i61': 'def test_multi(a):\\n    def test_multi_internal(b):\\n        return b*a\\n    return test_multi_internal\\n    \\n\\ntest_multi_5 = test_multi(5)\\nprint(test_multi_5(9))', 'test_multi': <function test_multi at 0x79d885afe680>, 'test_multi_5': <function test_multi.<locals>.test_multi_internal at 0x79d885afec20>, '_i62': 'int', '_62': <class 'int'>, '_i63': 'int = 0\\n\\ndef test():\\n  int = 1\\n  def test_2():\\n    int = 2\\n    print(int)\\n  test_2()\\n\\ntest()', 'int': 0, '_i64': 'def test():\\n  print(locals())\\n  test_list = 0\\n  print(locals())\\n\\n  print(globals())\\n\\ntest()'}\n"
          ]
        }
      ]
    },
    {
      "cell_type": "code",
      "source": [
        "def test():\n",
        "  x = 1\n",
        "  y = x\n",
        "  x = y"
      ],
      "metadata": {
        "id": "PwMCHWeios3c"
      },
      "execution_count": null,
      "outputs": []
    },
    {
      "cell_type": "markdown",
      "metadata": {
        "id": "5MG88GmT2Dyg"
      },
      "source": [
        "# Работа с памятью"
      ]
    },
    {
      "cell_type": "markdown",
      "metadata": {
        "id": "swMtJPYj2gUt"
      },
      "source": [
        "## Счетчик ссылок"
      ]
    },
    {
      "cell_type": "code",
      "source": [
        "xyz = 20000\n",
        "print(sys.getrefcount(xyz))\n",
        "\n",
        "def test():\n",
        "  print(sys.getrefcount(xyz))\n",
        "\n",
        "test()"
      ],
      "metadata": {
        "colab": {
          "base_uri": "https://localhost:8080/"
        },
        "id": "98XOJm2Jp8M_",
        "outputId": "4ce850fb-fede-4704-c079-1989d115f395"
      },
      "execution_count": 68,
      "outputs": [
        {
          "output_type": "stream",
          "name": "stdout",
          "text": [
            "3\n",
            "3\n"
          ]
        }
      ]
    },
    {
      "cell_type": "code",
      "metadata": {
        "id": "PHbt2Krn15z-",
        "colab": {
          "base_uri": "https://localhost:8080/"
        },
        "outputId": "de295a9f-6e0c-4970-83d7-cb74e39cd94a"
      },
      "source": [
        "garbage_list = [\"g\", \"a\", \"r\", \"b\", \"a\", \"g\", \"e\"]\n",
        "print(sys.getrefcount(garbage_list)) # создает референс\n",
        "garbage_list2 = garbage_list\n",
        "print(sys.getrefcount(garbage_list))"
      ],
      "execution_count": 65,
      "outputs": [
        {
          "output_type": "stream",
          "name": "stdout",
          "text": [
            "2\n",
            "3\n"
          ]
        }
      ]
    },
    {
      "cell_type": "markdown",
      "metadata": {
        "id": "XtVJVkxU2ijs"
      },
      "source": [
        "## GC"
      ]
    },
    {
      "cell_type": "code",
      "metadata": {
        "id": "zRW7Sf9R2pjW"
      },
      "source": [
        "gc.get_objects() # список всех, за кем следит"
      ],
      "execution_count": null,
      "outputs": []
    },
    {
      "cell_type": "code",
      "metadata": {
        "id": "gbSzPfXO2lHM"
      },
      "source": [
        "gc.collect() # вызов сборщика мусорма"
      ],
      "execution_count": null,
      "outputs": []
    },
    {
      "cell_type": "code",
      "metadata": {
        "id": "CJ5SMC_F2y5-",
        "colab": {
          "base_uri": "https://localhost:8080/"
        },
        "outputId": "0d64b716-fad5-453b-9195-19dc90f519b0"
      },
      "source": [
        "gc.get_stats() # статистика сбора: 3 поколения, по каждому - сколько раз собирали, сколько собрали, сколько поместили в мусор"
      ],
      "execution_count": 69,
      "outputs": [
        {
          "output_type": "execute_result",
          "data": {
            "text/plain": [
              "[{'collections': 561, 'collected': 23091, 'uncollectable': 0},\n",
              " {'collections': 51, 'collected': 1908, 'uncollectable': 0},\n",
              " {'collections': 4, 'collected': 60, 'uncollectable': 0}]"
            ]
          },
          "metadata": {},
          "execution_count": 69
        }
      ]
    },
    {
      "cell_type": "code",
      "metadata": {
        "id": "mUepOPVg24f7",
        "colab": {
          "base_uri": "https://localhost:8080/"
        },
        "outputId": "bba089a8-d30c-4aeb-e9b1-f37cf85c098e"
      },
      "source": [
        "gc.disable() # отключение и включение автоматической сборки\n",
        "gc.enable()\n",
        "gc.get_threshold() # пороговые значения того, сколько раз надо проверить предыдущее поколение, чтобы проверить следующее\n",
        "# gc.set_threshold()"
      ],
      "execution_count": 71,
      "outputs": [
        {
          "output_type": "execute_result",
          "data": {
            "text/plain": [
              "(700, 10, 10)"
            ]
          },
          "metadata": {},
          "execution_count": 71
        }
      ]
    },
    {
      "cell_type": "code",
      "metadata": {
        "id": "8ULqxFYb4DMs",
        "colab": {
          "base_uri": "https://localhost:8080/"
        },
        "outputId": "66fddd27-1e04-40f7-c7b6-636d76bee76a"
      },
      "source": [
        "print(gc.get_referents(garbage_list)) # на кого мы ссылаемся\n",
        "print(gc.get_referents(garbage_list2))\n",
        "print(gc.get_referents(c1))"
      ],
      "execution_count": 72,
      "outputs": [
        {
          "output_type": "stream",
          "name": "stdout",
          "text": [
            "['e', 'g', 'a', 'b', 'r', 'a', 'g']\n",
            "['e', 'g', 'a', 'b', 'r', 'a', 'g']\n",
            "[{'string': 'my class'}, <class '__main__.MyClass'>]\n"
          ]
        }
      ]
    },
    {
      "cell_type": "code",
      "metadata": {
        "id": "HJrFycNp4mV6",
        "colab": {
          "base_uri": "https://localhost:8080/"
        },
        "outputId": "3bde362b-2a08-4a2d-bd56-8b32dd1f3609"
      },
      "source": [
        "garbage_integer = 1\n",
        "print(gc.is_tracked(garbage_integer))\n",
        "garbage_tuple = (0, 1)\n",
        "print(gc.is_tracked(garbage_tuple))\n",
        "garbage_dict = {1:1, 2:2}\n",
        "print(gc.is_tracked(garbage_dict))\n",
        "garbage_dict_2 = {1:[1], 2:[2]}\n",
        "print(gc.is_tracked(garbage_dict_2))"
      ],
      "execution_count": 73,
      "outputs": [
        {
          "output_type": "stream",
          "name": "stdout",
          "text": [
            "False\n",
            "True\n",
            "False\n",
            "True\n"
          ]
        }
      ]
    },
    {
      "cell_type": "markdown",
      "metadata": {
        "id": "fbTQqKFQ20bm"
      },
      "source": [
        "# Мини домашка"
      ]
    },
    {
      "cell_type": "markdown",
      "source": [
        "## Задание 1"
      ],
      "metadata": {
        "id": "vwVVKZdHUTiy"
      }
    },
    {
      "cell_type": "markdown",
      "source": [
        "Напишите функцию, которая будет для любых (не только интернированных) одинаковых строк возвращать результат сравнения адресов как True, в противном случае - False"
      ],
      "metadata": {
        "id": "bZIlqd4ufu4s"
      }
    },
    {
      "cell_type": "code",
      "source": [
        "def compare_addr(val1, val2):\n",
        "  assert type(val1) == str and type(val2) == str\n",
        "\n",
        "  # ваш код\n",
        "\n",
        "  return val1 is val2"
      ],
      "metadata": {
        "id": "Rb5bkHn4Wiel"
      },
      "execution_count": 74,
      "outputs": []
    },
    {
      "cell_type": "code",
      "source": [
        "tests = [\n",
        "    (\"a\",\"a\", True),\n",
        "    (\"a\",\"b\", False),\n",
        "    (\"a a\", \"a a\", True),\n",
        "    (\"a a\", \"a b\", False)\n",
        "    ]\n",
        "for t in tests:\n",
        "  a, b, result = t\n",
        "  assert compare_addr(a,b) == result"
      ],
      "metadata": {
        "id": "tUrU96xihYNf"
      },
      "execution_count": 75,
      "outputs": []
    },
    {
      "cell_type": "markdown",
      "source": [
        "## Задание 2"
      ],
      "metadata": {
        "id": "PHRuuobeUUDJ"
      }
    },
    {
      "cell_type": "markdown",
      "source": [
        "Напишите функцию, что будет на вход принимать 2 переменных; на выходе она:\n",
        "- возвращает их разность, если их тип одинаковый, а метод вычисления разности у этого типа существует\n",
        "- возваращает их сумму, если их тип одинаковый, метод вычисления разности не существует, но метод вычисления суммы существует\n",
        "- none, иначе\n",
        "\n",
        "Подсказка: метод вычисления разности это '\\_\\___sub__\\_\\_', суммы это '\\_\\___add\\_\\___'"
      ],
      "metadata": {
        "id": "S611gGYPauVo"
      }
    },
    {
      "cell_type": "code",
      "source": [
        "def substract_or_add(val1, val2):\n",
        "  # ваш код\n",
        "\n",
        "  return None"
      ],
      "metadata": {
        "id": "UFnwe3b_UUKy"
      },
      "execution_count": 76,
      "outputs": []
    },
    {
      "cell_type": "code",
      "source": [
        "assert substract_or_add('a', 'b') == 'ab'\n",
        "assert substract_or_add(0, 1) == -1\n",
        "assert substract_or_add([1,2], [3,4]) == [1,2,3,4]\n",
        "assert substract_or_add(False, True) == -1\n",
        "assert substract_or_add([1,2], [3,4]) == [1,2,3,4]\n",
        "assert substract_or_add(set([1,2]), set([1,4])) == set([2])\n",
        "assert substract_or_add(None, None) == None"
      ],
      "metadata": {
        "id": "ArV3BuridBoi"
      },
      "execution_count": null,
      "outputs": []
    },
    {
      "cell_type": "markdown",
      "source": [
        "## Задание 3"
      ],
      "metadata": {
        "id": "aVAbyI8wUURc"
      }
    },
    {
      "cell_type": "markdown",
      "source": [
        "На лекции был пример функции, возвращающей функцию для умножения числа  \n",
        "Давайте сделаем что-нибудь посложнее:\n",
        "- функция будет принимать число, возвращать другую функцию, принимающую число\n",
        "- внутрення функция будет умножать первое число на второе в том случае, если НЕ существует в глобальной области переменная multiplier (то есть a * b); в противном случае умножение будет на нее (то есть multiplier * b)\n"
      ],
      "metadata": {
        "id": "_EsM0d_UZKl1"
      }
    },
    {
      "cell_type": "code",
      "source": [
        "def multi(a):\n",
        "  def multi_internal(b):\n",
        "    # ваш код\n",
        "    pass\n",
        "  return multi_internal"
      ],
      "metadata": {
        "id": "OyX1fMvuUUYT"
      },
      "execution_count": null,
      "outputs": []
    },
    {
      "cell_type": "code",
      "source": [
        "# подчищаем переменную из глобальной области, не обращайте внимание\n",
        "try:\n",
        "  del(multiplier)\n",
        "except NameError:\n",
        "  pass\n",
        "\n",
        "\n",
        "assert multi(5)(4) == 20\n",
        "multiplier = 10\n",
        "assert multi(5)(4) == 40"
      ],
      "metadata": {
        "id": "G5p7krFZap8D"
      },
      "execution_count": null,
      "outputs": []
    },
    {
      "cell_type": "markdown",
      "metadata": {
        "id": "xfnwSXKY43oY"
      },
      "source": [
        "## Задание 4"
      ]
    },
    {
      "cell_type": "markdown",
      "metadata": {
        "id": "ywhOqhNQ46Pk"
      },
      "source": [
        "Может ли быть такое, что is вернет True, а == вернет False?"
      ]
    },
    {
      "cell_type": "markdown",
      "metadata": {
        "id": "36AREef8225-"
      },
      "source": [
        "## Задание 5"
      ]
    },
    {
      "cell_type": "markdown",
      "metadata": {
        "id": "8sIOdOZm3Ria"
      },
      "source": [
        "Как мы уже смотрели, для каких-то данных есть interned objects, для кого-то их нет"
      ]
    },
    {
      "cell_type": "code",
      "metadata": {
        "id": "-Y6ouVc-26IQ"
      },
      "source": [
        "def compare_addrs(a, b):\n",
        "  print(a is b)\n",
        "\n",
        "a = -6\n",
        "b = -6\n",
        "compare_addrs(a, b)\n",
        "\n",
        "a = \"bad string\"\n",
        "b = \"bad string\"\n",
        "compare_addrs(a, b)"
      ],
      "execution_count": null,
      "outputs": []
    },
    {
      "cell_type": "markdown",
      "metadata": {
        "id": "pXl0Rd6g4WRR"
      },
      "source": [
        "Почему же в случае, когда неинтернированные объекты лежат в листе, их адреса совпадают?"
      ]
    },
    {
      "cell_type": "code",
      "metadata": {
        "id": "yR9aRF5b3ZFu"
      },
      "source": [
        "bad_vals = [-6, \"bad string\"]\n",
        "for val in bad_vals:\n",
        "  a = val\n",
        "  b = val\n",
        "  compare_addrs(a, b)\n",
        "\n",
        "bad_vals = [-6, \"bad string\"]\n",
        "for i in range(0, len(bad_vals)):\n",
        "  a = bad_vals[i]\n",
        "  b = bad_vals[i]\n",
        "  compare_addrs(a, b)"
      ],
      "execution_count": null,
      "outputs": []
    },
    {
      "cell_type": "markdown",
      "metadata": {
        "id": "8uVSqjrI4aDg"
      },
      "source": [
        "## Задание 6"
      ]
    },
    {
      "cell_type": "markdown",
      "metadata": {
        "id": "PaZWeO-c4aJd"
      },
      "source": [
        "Стоит быть осторожными с изменяемыми типами данных"
      ]
    },
    {
      "cell_type": "markdown",
      "metadata": {
        "id": "yL1cdsxr6w-n"
      },
      "source": [
        "Почему словили ошибку при попытке пройти по массиву и удалить из него лишний элемент?"
      ]
    },
    {
      "cell_type": "code",
      "metadata": {
        "id": "Q0811xKD5fuV",
        "colab": {
          "base_uri": "https://localhost:8080/",
          "height": 249
        },
        "outputId": "3b1eeadf-e1bd-42c4-f778-c4f3c26fb17c"
      },
      "source": [
        "array_to_cut = [1,1,2,3,4,3,3,5]\n",
        "for i in range(0,len(array_to_cut)):\n",
        "  if array_to_cut[i] == 3:\n",
        "    array_to_cut.pop(i)\n",
        "print(array_to_cut)"
      ],
      "execution_count": 78,
      "outputs": [
        {
          "output_type": "error",
          "ename": "IndexError",
          "evalue": "ignored",
          "traceback": [
            "\u001b[0;31m---------------------------------------------------------------------------\u001b[0m",
            "\u001b[0;31mIndexError\u001b[0m                                Traceback (most recent call last)",
            "\u001b[0;32m<ipython-input-78-5a3e1aaab41d>\u001b[0m in \u001b[0;36m<cell line: 2>\u001b[0;34m()\u001b[0m\n\u001b[1;32m      1\u001b[0m \u001b[0marray_to_cut\u001b[0m \u001b[0;34m=\u001b[0m \u001b[0;34m[\u001b[0m\u001b[0;36m1\u001b[0m\u001b[0;34m,\u001b[0m\u001b[0;36m1\u001b[0m\u001b[0;34m,\u001b[0m\u001b[0;36m2\u001b[0m\u001b[0;34m,\u001b[0m\u001b[0;36m3\u001b[0m\u001b[0;34m,\u001b[0m\u001b[0;36m4\u001b[0m\u001b[0;34m,\u001b[0m\u001b[0;36m3\u001b[0m\u001b[0;34m,\u001b[0m\u001b[0;36m3\u001b[0m\u001b[0;34m,\u001b[0m\u001b[0;36m5\u001b[0m\u001b[0;34m]\u001b[0m\u001b[0;34m\u001b[0m\u001b[0;34m\u001b[0m\u001b[0m\n\u001b[1;32m      2\u001b[0m \u001b[0;32mfor\u001b[0m \u001b[0mi\u001b[0m \u001b[0;32min\u001b[0m \u001b[0mrange\u001b[0m\u001b[0;34m(\u001b[0m\u001b[0;36m0\u001b[0m\u001b[0;34m,\u001b[0m\u001b[0mlen\u001b[0m\u001b[0;34m(\u001b[0m\u001b[0marray_to_cut\u001b[0m\u001b[0;34m)\u001b[0m\u001b[0;34m)\u001b[0m\u001b[0;34m:\u001b[0m\u001b[0;34m\u001b[0m\u001b[0;34m\u001b[0m\u001b[0m\n\u001b[0;32m----> 3\u001b[0;31m   \u001b[0;32mif\u001b[0m \u001b[0marray_to_cut\u001b[0m\u001b[0;34m[\u001b[0m\u001b[0mi\u001b[0m\u001b[0;34m]\u001b[0m \u001b[0;34m==\u001b[0m \u001b[0;36m3\u001b[0m\u001b[0;34m:\u001b[0m\u001b[0;34m\u001b[0m\u001b[0;34m\u001b[0m\u001b[0m\n\u001b[0m\u001b[1;32m      4\u001b[0m     \u001b[0marray_to_cut\u001b[0m\u001b[0;34m.\u001b[0m\u001b[0mpop\u001b[0m\u001b[0;34m(\u001b[0m\u001b[0mi\u001b[0m\u001b[0;34m)\u001b[0m\u001b[0;34m\u001b[0m\u001b[0;34m\u001b[0m\u001b[0m\n\u001b[1;32m      5\u001b[0m \u001b[0mprint\u001b[0m\u001b[0;34m(\u001b[0m\u001b[0marray_to_cut\u001b[0m\u001b[0;34m)\u001b[0m\u001b[0;34m\u001b[0m\u001b[0;34m\u001b[0m\u001b[0m\n",
            "\u001b[0;31mIndexError\u001b[0m: list index out of range"
          ]
        }
      ]
    },
    {
      "cell_type": "markdown",
      "metadata": {
        "id": "xXZVks6W640h"
      },
      "source": [
        "Почему при изменении элемента ошибок не возникает?"
      ]
    },
    {
      "cell_type": "code",
      "metadata": {
        "id": "RtZHLFvN60N1",
        "colab": {
          "base_uri": "https://localhost:8080/"
        },
        "outputId": "0d1de50a-603a-40e5-a5e2-383128b4115d"
      },
      "source": [
        "array_to_change = [1,2,3,4,5]\n",
        "for i in range(0,len(array_to_change)):\n",
        "  if array_to_change[i] == 3:\n",
        "    array_to_change[i+1] -=1\n",
        "\n",
        "print(array_to_change)"
      ],
      "execution_count": 79,
      "outputs": [
        {
          "output_type": "stream",
          "name": "stdout",
          "text": [
            "[1, 2, 3, 3, 4]\n"
          ]
        }
      ]
    }
  ]
}