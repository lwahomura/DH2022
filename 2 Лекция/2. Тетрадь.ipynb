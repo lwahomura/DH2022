{
  "nbformat": 4,
  "nbformat_minor": 0,
  "metadata": {
    "colab": {
      "provenance": []
    },
    "kernelspec": {
      "name": "python3",
      "display_name": "Python 3"
    },
    "language_info": {
      "name": "python"
    }
  },
  "cells": [
    {
      "cell_type": "code",
      "metadata": {
        "id": "jpe4ovD60CFs"
      },
      "source": [
        "import types\n",
        "import abc\n",
        "import math\n",
        "import time"
      ],
      "execution_count": null,
      "outputs": []
    },
    {
      "cell_type": "markdown",
      "metadata": {
        "id": "pti6nSnSi0u1"
      },
      "source": [
        "# ООП"
      ]
    },
    {
      "cell_type": "markdown",
      "metadata": {
        "id": "IRbAesBui3zi"
      },
      "source": [
        "## Определение"
      ]
    },
    {
      "cell_type": "markdown",
      "metadata": {
        "id": "qWfXmVd2i6OK"
      },
      "source": [
        "Часто говорят, что ООП это три принципа:\n",
        "- инкапсуляция\n",
        "- полиморфизм\n",
        "- наследование\n",
        "\n",
        "На самом деле, это не совсем так. Если обратиться к словам Алана Кэя (http://userpage.fu-berlin.de/~ram/pub/pub_jf47ht81Ht/doc_kay_oop_en), можно обратить внимание, что он, отвечая на вопрос о том, что же такое ООП, отвечал, что \"OOP to me means only messaging, local retention and protection and hiding of state-process, and extreme late-binding of all things.\"  "
      ]
    },
    {
      "cell_type": "markdown",
      "metadata": {
        "id": "GYslrn-8kROb"
      },
      "source": [
        "Разберем это высказывание.\n",
        "- messaging - мы присылаем какие-либо данные объекту, а он решает, как на них ответить\n",
        "- local retention - поля и методы класса недоступны извне\n",
        "- extreme late-binding - связывание происходит в рантайме\n"
      ]
    },
    {
      "cell_type": "markdown",
      "metadata": {
        "id": "OMzI8SqLlCx_"
      },
      "source": [
        "Конечно, можно сказать, что изначальная задумка эволюционировала и изменилась; тем не менее, стоит понимать, что есть ООП языки, которые могут не подчиняться этим самым \"трем принципам\""
      ]
    },
    {
      "cell_type": "markdown",
      "metadata": {
        "id": "lWKOi1hBmLws"
      },
      "source": [
        "## Наш базовый класс"
      ]
    },
    {
      "cell_type": "code",
      "metadata": {
        "id": "rKf-zGceoKzQ"
      },
      "source": [
        "class Point():\n",
        "  dummy = 0\n",
        "  def __init__(self, x, y):\n",
        "    self.x = x\n",
        "    self.y = y\n",
        "\n",
        "  def test_x(self, a):\n",
        "    return self.x + a\n",
        "\n",
        "  @classmethod\n",
        "  def test_class(cls):\n",
        "    return cls.dummy\n",
        "\n",
        "p = Point(1,1) #__init__(Point_ex, 1, 1)\n",
        "a = 10\n",
        "print(p.test_x(a)) #test_x(p, a)\n",
        "print(Point.test_class()) #test_class(Point)"
      ],
      "execution_count": null,
      "outputs": []
    },
    {
      "cell_type": "code",
      "source": [
        "class Test():\n",
        "  b = 9\n",
        "  def __init__(another):\n",
        "    another.a = 1\n",
        "\n",
        "  @classmethod\n",
        "  def test(another_class):\n",
        "    print(another_class.b)"
      ],
      "metadata": {
        "id": "cnvOLXhi5HaQ"
      },
      "execution_count": null,
      "outputs": []
    },
    {
      "cell_type": "code",
      "source": [
        "t = Test()\n",
        "print(t.a)\n",
        "Test.test()"
      ],
      "metadata": {
        "id": "JrhB75Eb5T9w"
      },
      "execution_count": null,
      "outputs": []
    },
    {
      "cell_type": "code",
      "metadata": {
        "id": "jyqqzZzYu03F"
      },
      "source": [
        "class Morphology():\n",
        "  def __init__(self, words):\n",
        "    self.__words = delete_doubles(words)\n",
        "\n",
        "  def get_words():\n",
        "    return self.__words\n",
        "\n",
        "class Money():\n",
        "  def __init__(self, sum): # 100.12\n",
        "    self.__rubles = int(sum / 100) # 100\n",
        "    self.__kopejkas = int((sum - int(sum / 100))*100) # 12\n",
        "    self.__send_to_my_server()\n",
        "\n",
        "  def __send_to_my_server(self):\n",
        "    print(\"got new money!\")\n",
        "\n",
        "  def get(self):\n",
        "    return self.__rubles + self.__kopejkas / 100\n",
        "\n",
        "# 100 = 1 * 2^6 + 1 * 2^5 + 0 * 2^4 + 0 * 2 ^ 3 + 1 * 2 ^ 2 + 1 * 2 ^ 1 + 0 * 2 ^ 0 # 1100110\n",
        "# 0.25 = 0 * 2 ^ -1 + 1 * 2 ^ -2 + 0 * ..... # 010000000000000\n",
        "# 0.33 = 0 * 2 ^ -1 + 1 * 2 ^ -2 + 0 * 2 ^ -3 + 1 * 2 ^-4 ... # 010100000001000000000000000100000000000001000"
      ],
      "execution_count": null,
      "outputs": []
    },
    {
      "cell_type": "code",
      "metadata": {
        "id": "arYSzfF3i5i6"
      },
      "source": [
        "class MyClass():\n",
        "  field_0 = \"field 0\"\n",
        "\n",
        "  def __init__(self):\n",
        "    self.field_1 = \"field 1\"\n",
        "    self._field_2 = \"field 2\"\n",
        "    self.__field_3 = \"field 3\"\n",
        "\n",
        "  def m_1(self):\n",
        "    return self.field_1\n",
        "\n",
        "  def _m_2(self):\n",
        "    return self._field_2\n",
        "\n",
        "  def __m_3(self):\n",
        "    return self.__field_3\n",
        "\n",
        "  @staticmethod\n",
        "  def s_m():\n",
        "    return \"no field\"\n",
        "\n",
        "  def help():\n",
        "    return \"m_1 returns public field field_1\\_m_2 returns private field _field_2\"\n",
        "\n",
        "  @staticmethod\n",
        "  def static_help():\n",
        "    return \"m_1 returns public field field_1\\_m_2 returns private field _field_2\"\n",
        "\n",
        "  @classmethod\n",
        "  def c_m(cls):\n",
        "    return cls.field_0"
      ],
      "execution_count": null,
      "outputs": []
    },
    {
      "cell_type": "code",
      "metadata": {
        "id": "q8d3W3NM0uav"
      },
      "source": [
        "# 0) мы создали некий класс\n",
        "# 1) мы хотим сделать экземпляр класса = класс()\n",
        "# 1.1) мы вызываем класс.__new__\n",
        "# 1.2) мы вызываем экземпляр.__init__\n",
        "# ....\n",
        "# final) мы вызываем метод экземпляр.__exit__"
      ],
      "execution_count": null,
      "outputs": []
    },
    {
      "cell_type": "code",
      "source": [
        "class Demo():\n",
        "  @classmethod\n",
        "  def __new__(cls, *args, **kwargs):\n",
        "    print(\"...\")\n",
        "    instance = super().__new__(cls)\n",
        "    return instance\n",
        "\n",
        "  def __init__(self):\n",
        "    print(\"HI\")\n",
        "\n",
        "  def __del__(self):\n",
        "    print(\"BYE\")"
      ],
      "metadata": {
        "id": "T9fjThE78Bqm"
      },
      "execution_count": null,
      "outputs": []
    },
    {
      "cell_type": "code",
      "source": [
        "d = Demo()\n",
        "del(d)"
      ],
      "metadata": {
        "id": "5uDxalUM8iIg"
      },
      "execution_count": null,
      "outputs": []
    },
    {
      "cell_type": "code",
      "source": [
        "def del_test():\n",
        "  d1 = Demo()\n",
        "  d2 = d1\n",
        "  del(d1)\n",
        "  del(d2)\n",
        "\n",
        "def del_test2():\n",
        "  d1 = Demo()\n",
        "  d2 = d1"
      ],
      "metadata": {
        "id": "kq0kAYVz9J_H"
      },
      "execution_count": null,
      "outputs": []
    },
    {
      "cell_type": "code",
      "source": [
        "del_test()"
      ],
      "metadata": {
        "id": "eoPPtx989b9v"
      },
      "execution_count": null,
      "outputs": []
    },
    {
      "cell_type": "code",
      "source": [
        "del_test2()"
      ],
      "metadata": {
        "id": "FDM1ydEs9fmD"
      },
      "execution_count": null,
      "outputs": []
    },
    {
      "cell_type": "code",
      "metadata": {
        "id": "E5iFzKXsl8uV"
      },
      "source": [
        "c = MyClass()"
      ],
      "execution_count": null,
      "outputs": []
    },
    {
      "cell_type": "code",
      "metadata": {
        "id": "uqcaMiJYzfAB"
      },
      "source": [
        "c.help() # help(c)"
      ],
      "execution_count": null,
      "outputs": []
    },
    {
      "cell_type": "code",
      "metadata": {
        "id": "VaVLzhlq0bgI"
      },
      "source": [
        "c.static_help()"
      ],
      "execution_count": null,
      "outputs": []
    },
    {
      "cell_type": "code",
      "metadata": {
        "id": "m-D5IxGTz1fE"
      },
      "source": [
        "class Adder():\n",
        "  def __init__(self, initial):\n",
        "    self.initial = initial\n",
        "\n",
        "  def change_value(self):\n",
        "    self.initial += 1\n",
        "\n",
        "  def add(self, value):\n",
        "    return self.initial + value\n",
        "\n",
        "a = Adder(10)\n",
        "a.add(4)\n",
        "print(a.initial)\n",
        "a.change_value()\n",
        "print(a.initial)\n",
        "a.__init__(5)\n",
        "print(a.initial)"
      ],
      "execution_count": null,
      "outputs": []
    },
    {
      "cell_type": "markdown",
      "metadata": {
        "id": "N2ba8y1GnzCu"
      },
      "source": [
        "### Инкапсуляция"
      ]
    },
    {
      "cell_type": "markdown",
      "metadata": {
        "id": "hSlpERQZnIDi"
      },
      "source": [
        "Публичные и приватные методы можно вызывать"
      ]
    },
    {
      "cell_type": "code",
      "metadata": {
        "id": "KQqJRZe_i0GH"
      },
      "source": [
        "print(c.m_1())\n",
        "print(c._m_2())"
      ],
      "execution_count": null,
      "outputs": []
    },
    {
      "cell_type": "markdown",
      "metadata": {
        "id": "Ba7ize10nP89"
      },
      "source": [
        "Защищенные - нельзя(?)"
      ]
    },
    {
      "cell_type": "code",
      "metadata": {
        "id": "kGsCeBE4nG4u"
      },
      "source": [
        "print(c.__m_3())"
      ],
      "execution_count": null,
      "outputs": []
    },
    {
      "cell_type": "markdown",
      "metadata": {
        "id": "_j9CKNsWnjwd"
      },
      "source": [
        "С помощью __dict__ можно посмотреть все поля, с помощью __dir()__ все методы, там мы увидим кое-что интересное"
      ]
    },
    {
      "cell_type": "code",
      "metadata": {
        "id": "QiNEuKFOni7Z"
      },
      "source": [
        "c.__dict__"
      ],
      "execution_count": null,
      "outputs": []
    },
    {
      "cell_type": "code",
      "metadata": {
        "id": "3Sn_BiosnxHk"
      },
      "source": [
        "dir(c)"
      ],
      "execution_count": null,
      "outputs": []
    },
    {
      "cell_type": "code",
      "metadata": {
        "id": "K4_q9Ts5nbv-"
      },
      "source": [
        "print(c._MyClass__field_3)"
      ],
      "execution_count": null,
      "outputs": []
    },
    {
      "cell_type": "code",
      "metadata": {
        "id": "Ktna1T8tnek2"
      },
      "source": [
        "print(c._MyClass__m_3())"
      ],
      "execution_count": null,
      "outputs": []
    },
    {
      "cell_type": "markdown",
      "metadata": {
        "id": "fXpuNs-9oAep"
      },
      "source": [
        "Статические методы"
      ]
    },
    {
      "cell_type": "code",
      "metadata": {
        "id": "4p_aF31EnF5H"
      },
      "source": [
        "print(c.s_m())\n",
        "print(MyClass.s_m())"
      ],
      "execution_count": null,
      "outputs": []
    },
    {
      "cell_type": "markdown",
      "metadata": {
        "id": "VaIlPxUhoJJp"
      },
      "source": [
        "Методы класса"
      ]
    },
    {
      "cell_type": "code",
      "metadata": {
        "id": "msKXKh8EmnY9"
      },
      "source": [
        "print(c.c_m())\n",
        "print(MyClass.c_m())"
      ],
      "execution_count": null,
      "outputs": []
    },
    {
      "cell_type": "markdown",
      "metadata": {
        "id": "5RPC-EZroU6K"
      },
      "source": [
        "## Полиморфизм"
      ]
    },
    {
      "cell_type": "code",
      "metadata": {
        "id": "QvWULbSgoyjf"
      },
      "source": [
        "class Point():\n",
        "  def __init__(self, x, y):\n",
        "    self.x = x\n",
        "    self.y = y\n",
        "\n",
        "  def __eq__(self, other):\n",
        "    return isinstance(other, Point) and self.x == other.x and self.y == other.y\n",
        "\n",
        "class Triangle():\n",
        "  def __init__(self, p1, p2, p3):\n",
        "    self.point1 = p1\n",
        "    self.point2 = p2\n",
        "    self.point3 = p3\n",
        "\n",
        "  def __eq__(self, other):\n",
        "    return isinstance(other, Triangle) and self.point1 == other.point1 and self.point2 == other.point2 and self.point3 == other.point3"
      ],
      "execution_count": null,
      "outputs": []
    },
    {
      "cell_type": "code",
      "metadata": {
        "id": "Hqs69koPpXrA"
      },
      "source": [
        "p1 = Point(1,2)\n",
        "p1_2 = Point(1,2)\n",
        "p2 = Point(2,3)\n",
        "p3 = Point(3,4)\n",
        "print(p1 == 2)\n",
        "print(p1 == p1_2)\n",
        "print(p1 == p2)"
      ],
      "execution_count": null,
      "outputs": []
    },
    {
      "cell_type": "code",
      "metadata": {
        "id": "CSdxoiY_qToz"
      },
      "source": [
        "t1 = Triangle(1,2,3)\n",
        "t1_2 = Triangle(1,2,3)\n",
        "t2 = Triangle(2,3,4)\n",
        "print(t1 == t1_2)\n",
        "print(t1 == t2)"
      ],
      "execution_count": null,
      "outputs": []
    },
    {
      "cell_type": "code",
      "metadata": {
        "id": "9-hgUsgZqwS3"
      },
      "source": [
        "tp1 = Triangle(p1,p2,p3)\n",
        "tp1_2 = Triangle(p1,p2,p3)\n",
        "tp2 = Triangle(p2,p3,p2)\n",
        "print(tp1 == tp1_2)\n",
        "print(tp1 == tp2)"
      ],
      "execution_count": null,
      "outputs": []
    },
    {
      "cell_type": "markdown",
      "metadata": {
        "id": "qEf4jM7IoVAL"
      },
      "source": [
        "## Наследование"
      ]
    },
    {
      "cell_type": "code",
      "metadata": {
        "id": "HIyQZlgjmwck"
      },
      "source": [
        "class NewsSource(object):\n",
        "  val = 0\n",
        "  def __init__(self, url):\n",
        "    self.url = url\n",
        "\n",
        "  def get_data(self):\n",
        "    print(\"getting data from\", self.url)\n",
        "\n",
        "class WashingtonPost(NewsSource):\n",
        "  pass\n",
        "\n",
        "class VKontakte(NewsSource):\n",
        "  def __init__(self, login, password):\n",
        "    self.login = login\n",
        "    self.password = password\n",
        "\n",
        "  def get_data(self):\n",
        "    print(\"logging in personal account using credentials\")\n",
        "\n",
        "class Twitter(NewsSource):\n",
        "  def solve_captcha(self):\n",
        "    print(\"solving captcha\")\n",
        "\n",
        "  def get_data_super(self):\n",
        "    super().get_data()\n",
        "\n",
        "  def get_data(self):\n",
        "    self.solve_captcha()\n",
        "    print(\"getting data from twitter\")"
      ],
      "execution_count": null,
      "outputs": []
    },
    {
      "cell_type": "code",
      "metadata": {
        "id": "K5vWef2ntoIo"
      },
      "source": [
        "source = NewsSource(\"url 1\")\n",
        "source_2 = NewsSource(\"url 2\")\n",
        "source.get_data()\n",
        "source_2.get_data()"
      ],
      "execution_count": null,
      "outputs": []
    },
    {
      "cell_type": "code",
      "metadata": {
        "id": "ULWzrzr7zVjm"
      },
      "source": [
        "wp = WashingtonPost(\"http://wp.com\")\n",
        "wp.get_data()"
      ],
      "execution_count": null,
      "outputs": []
    },
    {
      "cell_type": "code",
      "metadata": {
        "id": "Y8PSbNWwt0-H"
      },
      "source": [
        "vk = VKontakte(\"login\", \"password\")\n",
        "vk.get_data()"
      ],
      "execution_count": null,
      "outputs": []
    },
    {
      "cell_type": "markdown",
      "metadata": {
        "id": "ZtL46MMQyiLz"
      },
      "source": [
        "Т.к. мы переопределили метод __init__, поле __url__ нам уже недоступно"
      ]
    },
    {
      "cell_type": "code",
      "metadata": {
        "id": "Kazq8kUqyRXJ"
      },
      "source": [
        "print(vk.__dict__)"
      ],
      "execution_count": null,
      "outputs": []
    },
    {
      "cell_type": "code",
      "metadata": {
        "id": "s42LGAYmyu3e"
      },
      "source": [
        "tw = Twitter(\"http://twitter.com\")\n",
        "tw.get_data()"
      ],
      "execution_count": null,
      "outputs": []
    },
    {
      "cell_type": "code",
      "metadata": {
        "id": "X1g1OtI56ctf"
      },
      "source": [
        "sources = [NewsSource(\"izvestia\"), NewsSource(\"thetimes\"), VKontakte(\"login\", \"password\"), Twitter(\"www.twitter.com\")]\n",
        "for s in sources:\n",
        "  # if isinstance(s, NewsSource) ...\n",
        "  s.get_data()"
      ],
      "execution_count": null,
      "outputs": []
    },
    {
      "cell_type": "markdown",
      "metadata": {
        "id": "wxs-omZo4qK5"
      },
      "source": [
        "Что, если мы хотим вызвать метод родительского класса?"
      ]
    },
    {
      "cell_type": "code",
      "metadata": {
        "id": "v7srrJuI4uD8"
      },
      "source": [
        "tw.get_data_super()"
      ],
      "execution_count": null,
      "outputs": []
    },
    {
      "cell_type": "markdown",
      "metadata": {
        "id": "agA5qNtp4-P8"
      },
      "source": [
        "При этом мы можем искать во всех классах-родственниках (только вверх, правда). Чтобы узнать, в ком мы можем искать, можно вызвать метод __mro__:"
      ]
    },
    {
      "cell_type": "code",
      "metadata": {
        "id": "kwhtx24g5KyR"
      },
      "source": [
        "Twitter.mro()"
      ],
      "execution_count": null,
      "outputs": []
    },
    {
      "cell_type": "markdown",
      "metadata": {
        "id": "lBTu-ZfIz4aE"
      },
      "source": [
        "Что, если мы хотим привязать какую-нибудь функцию к экземпляру классу?"
      ]
    },
    {
      "cell_type": "code",
      "metadata": {
        "id": "axG8IPkpzj8E"
      },
      "source": [
        "def wp_specific(self):\n",
        "  print(\"this is washington post\")\n",
        "\n",
        "wp.get_data = wp_specific\n",
        "wp.get_data()"
      ],
      "execution_count": null,
      "outputs": []
    },
    {
      "cell_type": "code",
      "metadata": {
        "id": "84SWG9HK0duV"
      },
      "source": [
        "wp.get_data=types.MethodType(wp_specific, wp)\n",
        "wp.get_data()"
      ],
      "execution_count": null,
      "outputs": []
    },
    {
      "cell_type": "markdown",
      "metadata": {
        "id": "4irKlFVz2Jyo"
      },
      "source": [
        "А если к самому классу?"
      ]
    },
    {
      "cell_type": "code",
      "metadata": {
        "id": "BVYvMMWr0vSN"
      },
      "source": [
        "def wp_class_specific(self):\n",
        "  print(\"i belong to wp\")\n",
        "\n",
        "WashingtonPost.get_data = wp_class_specific\n",
        "wp.get_data()"
      ],
      "execution_count": null,
      "outputs": []
    },
    {
      "cell_type": "code",
      "metadata": {
        "id": "fuRgrklU1meo"
      },
      "source": [
        "wp2 = WashingtonPost(\"https://wp.com\")\n",
        "wp2.get_data()"
      ],
      "execution_count": null,
      "outputs": []
    },
    {
      "cell_type": "markdown",
      "metadata": {
        "id": "Socjl09fZqdD"
      },
      "source": [
        "Наследоваться, кстати, можно и от нескольких классов"
      ]
    },
    {
      "cell_type": "code",
      "metadata": {
        "id": "BbHLRJPSZthn"
      },
      "source": [
        "class ParentA():\n",
        "  def a_exclusive(self):\n",
        "    print(\"i'm a exclusive\")\n",
        "\n",
        "  def common(self):\n",
        "    print(\"i'm a common\")\n",
        "\n",
        "class ParentB():\n",
        "  def b_exclusive(self):\n",
        "    print(\"i'm b exclusive\")\n",
        "\n",
        "  def common(self):\n",
        "    print(\"i'm b common\")\n",
        "\n",
        "class ChildAB(ParentA, ParentB):\n",
        "  pass\n",
        "\n",
        "class ChildBA(ParentB, ParentA):\n",
        "  pass"
      ],
      "execution_count": null,
      "outputs": []
    },
    {
      "cell_type": "code",
      "metadata": {
        "id": "IFtIE0Uqafn3"
      },
      "source": [
        "ab = ChildAB()\n",
        "ab.common()\n",
        "ba = ChildBA()\n",
        "ba.common()"
      ],
      "execution_count": null,
      "outputs": []
    },
    {
      "cell_type": "markdown",
      "metadata": {
        "id": "jbuvyrl22qpZ"
      },
      "source": [
        "## Абстрактные классы"
      ]
    },
    {
      "cell_type": "markdown",
      "metadata": {
        "id": "vD3uBvU62uqF"
      },
      "source": [
        "Иногда нам хочется просто описать ожидаемое поведение от класса-родителя, а уже в классах-потомках это поведение реализовать. Можно, конечно, сделать так:"
      ]
    },
    {
      "cell_type": "code",
      "metadata": {
        "id": "mPIgYW5S1vhV"
      },
      "source": [
        "class Dummy():\n",
        "  def __init__(self):\n",
        "    pass\n",
        "\n",
        "  def dummy_method(self):\n",
        "    pass\n",
        "\n",
        "  def dummy_method_2(self):\n",
        "    pass\n",
        "\n",
        "class Real(Dummy):\n",
        "  pass"
      ],
      "execution_count": null,
      "outputs": []
    },
    {
      "cell_type": "markdown",
      "metadata": {
        "id": "Egy2z2ST3MLb"
      },
      "source": [
        "Но можно использовать абстрактные классы"
      ]
    },
    {
      "cell_type": "code",
      "metadata": {
        "id": "xk57QpMR3PhP"
      },
      "source": [
        "class NewsSourceV2(abc.ABC):\n",
        "  def tell_class(self):\n",
        "    print(\"i'm a news source\")\n",
        "\n",
        "  @abc.abstractmethod\n",
        "  def get_data(self):\n",
        "    pass\n",
        "\n",
        "  @abc.abstractmethod\n",
        "  def process_data(self):\n",
        "    pass"
      ],
      "execution_count": null,
      "outputs": []
    },
    {
      "cell_type": "markdown",
      "metadata": {
        "id": "GzzW01OA3x41"
      },
      "source": [
        "Создавать экземпляры абстрактного класса нельзя"
      ]
    },
    {
      "cell_type": "code",
      "metadata": {
        "id": "b9ooj8P13xSc"
      },
      "source": [
        "s = NewsSourceV2()"
      ],
      "execution_count": null,
      "outputs": []
    },
    {
      "cell_type": "markdown",
      "metadata": {
        "id": "SR_W_xZb4GjT"
      },
      "source": [
        "Как и нельзя пытаться создать экземпляр класса-потомка, в котором мы не реализовали абстрактные методы"
      ]
    },
    {
      "cell_type": "code",
      "metadata": {
        "id": "VN9Pf80s32Kg"
      },
      "source": [
        "class Twitter(NewsSourceV2):\n",
        "  pass\n",
        "\n",
        "tw = Twitter()"
      ],
      "execution_count": null,
      "outputs": []
    },
    {
      "cell_type": "code",
      "metadata": {
        "id": "4ypl-CPt4DtI"
      },
      "source": [
        "class Twitter(NewsSourceV2):\n",
        "  def get_data(self):\n",
        "    print(\"getting data from twitter\")\n",
        "\n",
        "tw = Twitter()\n",
        "tw.get_data()"
      ],
      "execution_count": null,
      "outputs": []
    },
    {
      "cell_type": "code",
      "metadata": {
        "id": "ByII5317_vrt"
      },
      "source": [
        "dir(tw)"
      ],
      "execution_count": null,
      "outputs": []
    },
    {
      "cell_type": "markdown",
      "metadata": {
        "id": "_0yq28kp5uCu"
      },
      "source": [
        "## Как же проектировать классы"
      ]
    },
    {
      "cell_type": "markdown",
      "metadata": {
        "id": "GsAOr-2L6Hcd"
      },
      "source": [
        "Что такое хорошая система классов?  \n",
        "\n",
        "Это такая система, которой удобно пользоваться.  \n",
        "Это такая система, которую будет легко расширять.  \n",
        "Это такая система, которая хорошо описывает предметную область."
      ]
    },
    {
      "cell_type": "markdown",
      "metadata": {
        "id": "gNJoltbK7XJZ"
      },
      "source": [
        "# QoL improvements"
      ]
    },
    {
      "cell_type": "markdown",
      "metadata": {
        "id": "ofRBBb-O7b-X"
      },
      "source": [
        "## Декораторы"
      ]
    },
    {
      "cell_type": "markdown",
      "metadata": {
        "id": "8qlSpFslJ_f5"
      },
      "source": [
        "Обычно есть 3 функции:\n",
        "- декорирующая\n",
        "- декорируемая\n",
        "- та, которой декорируют"
      ]
    },
    {
      "cell_type": "code",
      "metadata": {
        "id": "TlUUePum7bWs"
      },
      "source": [
        "def trace(func): # декорирующая\n",
        "  def inner(*args, **kwargs): # та, которой декорируют\n",
        "    print(\"calling function:\", func.__name__, \", parameters\", args, kwargs)\n",
        "    return func(*args, **kwargs)\n",
        "  return inner\n",
        "\n",
        "@trace\n",
        "def calc(a, b, **kwargs): # декорируемая\n",
        "  return a + b\n",
        "\n",
        "calc(1,2, p=\"param\")\n",
        "# trace(calc(1,2, p=\"param\"))\n",
        "# ->\n",
        "# inner(1,2, p=\"param\")\n",
        "# ->\n",
        "# calc(1,2, p=\"param\")"
      ],
      "execution_count": null,
      "outputs": []
    },
    {
      "cell_type": "markdown",
      "metadata": {
        "id": "jvROXRKhKYPP"
      },
      "source": [
        "Но мы вполне можем жить и без той, кем декорируют"
      ]
    },
    {
      "cell_type": "code",
      "metadata": {
        "id": "CHFkdAucJrbg"
      },
      "source": [
        "def logger(func):\n",
        "  print(\"logging\")\n",
        "  return func\n",
        "\n",
        "@logger\n",
        "def sum(a, b):\n",
        "  return a + b\n",
        "\n",
        "sum(1,2)"
      ],
      "execution_count": null,
      "outputs": []
    },
    {
      "cell_type": "markdown",
      "metadata": {
        "id": "rdtufpYXKfG0"
      },
      "source": [
        "Декораторов может быть и много!  \n",
        "При этом выполняются они снизу вверх"
      ]
    },
    {
      "cell_type": "code",
      "metadata": {
        "id": "8r_Ik7-IKewC"
      },
      "source": [
        "def first(func):\n",
        "  print(\"i'm the first\")\n",
        "  return func\n",
        "\n",
        "def second(func):\n",
        "  print(\"i'm the second\")\n",
        "  return func\n",
        "\n",
        "@second\n",
        "@first\n",
        "def last():\n",
        "  print(\"i'm the last\")\n",
        "\n",
        "@second\n",
        "def last_2():\n",
        "  print(\"a\")\n",
        "\n",
        "last()\n",
        "print()\n",
        "first(second(last()))"
      ],
      "execution_count": null,
      "outputs": []
    },
    {
      "cell_type": "markdown",
      "source": [
        "## Dataclasses"
      ],
      "metadata": {
        "id": "Uwig42JIEC6h"
      }
    },
    {
      "cell_type": "markdown",
      "source": [
        "Делаем самый простой класс"
      ],
      "metadata": {
        "id": "Kr_XBt_TEKkN"
      }
    },
    {
      "cell_type": "code",
      "source": [
        "class Author:\n",
        "  def __init__(self, name, birthday):\n",
        "    self.name = name\n",
        "    self.birthday = birthday"
      ],
      "metadata": {
        "id": "5ByjqCZnECSu"
      },
      "execution_count": null,
      "outputs": []
    },
    {
      "cell_type": "markdown",
      "source": [
        "Но можно и не писать это все самим"
      ],
      "metadata": {
        "id": "YatsVp2zET36"
      }
    },
    {
      "cell_type": "code",
      "source": [
        "from dataclasses import dataclass\n",
        "\n",
        "@dataclass\n",
        "class Author:\n",
        "    name: str\n",
        "    birthday: str"
      ],
      "metadata": {
        "id": "ReaF9gY_EXPk"
      },
      "execution_count": null,
      "outputs": []
    },
    {
      "cell_type": "code",
      "source": [
        "a = Author(\"Ivan\", \"01.01.1990\")\n",
        "print(a)\n",
        "a.name = \"Mike\"\n",
        "print(a)"
      ],
      "metadata": {
        "id": "uAMRQKzcEx_D"
      },
      "execution_count": null,
      "outputs": []
    },
    {
      "cell_type": "markdown",
      "source": [
        "Есть и значения по умолчанию"
      ],
      "metadata": {
        "id": "xu-W5ENlEqYS"
      }
    },
    {
      "cell_type": "code",
      "source": [
        "@dataclass\n",
        "class Author:\n",
        "    name: str = \"Ivan\"\n",
        "    birthday: str = \"01.01.1990\""
      ],
      "metadata": {
        "id": "-Pr67WztEtHT"
      },
      "execution_count": null,
      "outputs": []
    },
    {
      "cell_type": "code",
      "source": [
        "a = Author()\n",
        "print(a)"
      ],
      "metadata": {
        "id": "djJYeAkAFHhF"
      },
      "execution_count": null,
      "outputs": []
    },
    {
      "cell_type": "markdown",
      "source": [
        "А если мы хотим иметь иммутабельные экзмепляры?"
      ],
      "metadata": {
        "id": "7yFbHNkwFxp7"
      }
    },
    {
      "cell_type": "code",
      "source": [
        "@dataclass(frozen=True)\n",
        "class Author:\n",
        "    name: str\n",
        "    birthday: str"
      ],
      "metadata": {
        "id": "gvRu7IkTFZl5"
      },
      "execution_count": null,
      "outputs": []
    },
    {
      "cell_type": "code",
      "source": [
        "a = Author(\"Ivan\", \"01.01.1990\")\n",
        "print(a)\n",
        "a.name = \"Mike\"\n",
        "print(a)"
      ],
      "metadata": {
        "id": "7HfAapTuFrCX"
      },
      "execution_count": null,
      "outputs": []
    },
    {
      "cell_type": "markdown",
      "metadata": {
        "id": "KiAgjerw7pWv"
      },
      "source": [
        "## Перегрузка"
      ]
    },
    {
      "cell_type": "code",
      "metadata": {
        "id": "7A6sE_LF7fQg"
      },
      "source": [
        "class InsensitiveString():\n",
        "  def __init__(self, string):\n",
        "    self.string = string\n",
        "\n",
        "s1 = InsensitiveString(\"abc\")\n",
        "s2 = InsensitiveString(\"ABc\")\n",
        "print(s1 == s2)\n",
        "print(s1 != s2)"
      ],
      "execution_count": null,
      "outputs": []
    },
    {
      "cell_type": "code",
      "metadata": {
        "id": "6QLJNPYFD45q"
      },
      "source": [
        "class InsensitiveString():\n",
        "  def __init__(self, string):\n",
        "    self.string = string\n",
        "\n",
        "  def __eq__(self, other):\n",
        "    return self.string.lower() == other.string.lower()\n",
        "\n",
        "  def __ne__(self, other):\n",
        "    return self.string.lower() != other.string.lower()\n",
        "\n",
        "  def __add__(self, other):\n",
        "    return self.string + other.string\n",
        "\n",
        "  # нужно задавать, потому что Python сначала пытается сделать self.__add__(other), если не получается, то other.__radd__(self)\n",
        "  def __radd__(self, other):\n",
        "    return other.string + self.string"
      ],
      "execution_count": null,
      "outputs": []
    },
    {
      "cell_type": "code",
      "metadata": {
        "id": "YnQJ_1qFEO7y"
      },
      "source": [
        "s1 = InsensitiveString(\"abc\")\n",
        "s2 = InsensitiveString(\"ABc\")\n",
        "print(s1 == s2)\n",
        "print(s1 != s2)\n",
        "print(s1 + s2)"
      ],
      "execution_count": null,
      "outputs": []
    },
    {
      "cell_type": "markdown",
      "metadata": {
        "id": "QBGJFPghBngN"
      },
      "source": [
        "## Сеттеры и Геттеры"
      ]
    },
    {
      "cell_type": "code",
      "metadata": {
        "id": "LN2bZMymBpab"
      },
      "source": [
        "class MyClass():\n",
        "  def __init__(self):\n",
        "    self.value = 0"
      ],
      "execution_count": null,
      "outputs": []
    },
    {
      "cell_type": "markdown",
      "metadata": {
        "id": "lj0Hj_-pByop"
      },
      "source": [
        "Конечно, мы можем напрямую работать с полем __value__"
      ]
    },
    {
      "cell_type": "code",
      "metadata": {
        "id": "UVz6PufzB4vO"
      },
      "source": [
        "c = MyClass()\n",
        "c.value += 1\n",
        "print(c.value)"
      ],
      "execution_count": null,
      "outputs": []
    },
    {
      "cell_type": "markdown",
      "metadata": {
        "id": "5-I9N96xCGOw"
      },
      "source": [
        "Однако в таком случае мы можем случайно изменять значения полей, что может быть критичным. Более того, мы можем хотеть скрыть внутренности класса."
      ]
    },
    {
      "cell_type": "code",
      "metadata": {
        "id": "JUs7mPVyCO8V"
      },
      "source": [
        "class MyProtectedClass():\n",
        "  def __init__(self):\n",
        "    self.__value = 0\n",
        "\n",
        "  def get_value(self):\n",
        "    return self.__value\n",
        "\n",
        "  def set_value(self, new_value):\n",
        "    self.__value = new_value"
      ],
      "execution_count": null,
      "outputs": []
    },
    {
      "cell_type": "code",
      "metadata": {
        "id": "Vf8xdPWMCkZ7"
      },
      "source": [
        "c = MyProtectedClass()\n",
        "c.set_value(5)\n",
        "c.get_value()"
      ],
      "execution_count": null,
      "outputs": []
    },
    {
      "cell_type": "markdown",
      "metadata": {
        "id": "qEBm8BTQ7nDN"
      },
      "source": [
        "## Значения по умолчанию"
      ]
    },
    {
      "cell_type": "markdown",
      "metadata": {
        "id": "zauC7YyEGgsn"
      },
      "source": [
        "Для аргументов можно указывать значение по умолчанию"
      ]
    },
    {
      "cell_type": "code",
      "metadata": {
        "id": "RoU6SwMC7tUd"
      },
      "source": [
        "def predefined(a, b, c = 3):\n",
        "  print(a, b, c)\n",
        "\n",
        "predefined(1,2)\n",
        "predefined(3,4,5)"
      ],
      "execution_count": null,
      "outputs": []
    },
    {
      "cell_type": "markdown",
      "metadata": {
        "id": "8R15o-e6GkZH"
      },
      "source": [
        "Но они обязательно идут после аргументов без значения по умолчанию"
      ]
    },
    {
      "cell_type": "code",
      "metadata": {
        "id": "wwkn-EuIGl69"
      },
      "source": [
        "def predefined(a = 1, b, c = 3):\n",
        "  print(a, b, c)\n",
        "\n",
        "predefined(1,2)\n",
        "predefined(3,4,5)"
      ],
      "execution_count": null,
      "outputs": []
    },
    {
      "cell_type": "code",
      "metadata": {
        "id": "MEusF8PrFboB"
      },
      "source": [
        "predefined(2,3) #?"
      ],
      "execution_count": null,
      "outputs": []
    },
    {
      "cell_type": "code",
      "metadata": {
        "id": "UoPuxB2mFwB2"
      },
      "source": [
        "def tokenize(data, tokenizer=T, mtc:max_token_count=2, token_lngth,...)\n",
        "\n",
        "tokenize(data, mtc=2)"
      ],
      "execution_count": null,
      "outputs": []
    },
    {
      "cell_type": "markdown",
      "metadata": {
        "id": "6a5FaLaj7eYZ"
      },
      "source": [
        "## Произвольные аргументы"
      ]
    },
    {
      "cell_type": "markdown",
      "metadata": {
        "id": "6psJxbm7GMMb"
      },
      "source": [
        "Перед массивом произвольных неименованных аргументов может быть что угодно"
      ]
    },
    {
      "cell_type": "code",
      "metadata": {
        "id": "ZBQ_mnw97k8R"
      },
      "source": [
        "def multiplier(start, *args):\n",
        "  for arg in args:\n",
        "    start *= arg\n",
        "  return start\n",
        "\n",
        "print(multiplier(5))\n",
        "print(multiplier(0,2,3,4))\n",
        "print(multiplier(5,2,3,4,10,1))"
      ],
      "execution_count": null,
      "outputs": []
    },
    {
      "cell_type": "markdown",
      "metadata": {
        "id": "Q8MlIUrOGSPY"
      },
      "source": [
        "После массива также можно указать аргументы, но образатсья к ним можно только по имени"
      ]
    },
    {
      "cell_type": "code",
      "metadata": {
        "id": "SFlKi7I1F5Dx"
      },
      "source": [
        "def multiplier2(start, *args, end):\n",
        "  res = start\n",
        "  for arg in args:\n",
        "    res *= arg\n",
        "  return res + end"
      ],
      "execution_count": null,
      "outputs": []
    },
    {
      "cell_type": "code",
      "metadata": {
        "id": "1ZmoFAGCGCa9"
      },
      "source": [
        "multiplier2(1,2,3,4)"
      ],
      "execution_count": null,
      "outputs": []
    },
    {
      "cell_type": "code",
      "metadata": {
        "id": "sOnEc7niGCdw"
      },
      "source": [
        "multiplier2(1,2,3,end=4)"
      ],
      "execution_count": null,
      "outputs": []
    },
    {
      "cell_type": "markdown",
      "metadata": {
        "id": "S4uWLCTmItY-"
      },
      "source": [
        "Можно также задавать массив именованных аргументов"
      ]
    },
    {
      "cell_type": "code",
      "metadata": {
        "id": "w38UsjqLIszj"
      },
      "source": [
        "def summer(start, **kwargs):\n",
        "  return start + kwargs[\"end\"]\n",
        "\n",
        "print(summer(\"s\", middle=\"middle\", middle2=\"m2\", end=\"end\"))"
      ],
      "execution_count": null,
      "outputs": []
    },
    {
      "cell_type": "markdown",
      "metadata": {
        "id": "SqXxhul_72aV"
      },
      "source": [
        "## Указание типов"
      ]
    },
    {
      "cell_type": "markdown",
      "metadata": {
        "id": "Rf2VVajaG8Qk"
      },
      "source": [
        "Мы можем писать, какие мы ожидаем увидеть типы у аргументов и результатов"
      ]
    },
    {
      "cell_type": "code",
      "metadata": {
        "id": "8ouXRbz374nJ"
      },
      "source": [
        "def power(value_1: int, value_2: int) -> int:\n",
        "  return math.pow(value_1, value_2)"
      ],
      "execution_count": null,
      "outputs": []
    },
    {
      "cell_type": "code",
      "metadata": {
        "id": "gCADWDO7H5ve"
      },
      "source": [
        "print(power(2, 3))"
      ],
      "execution_count": null,
      "outputs": []
    },
    {
      "cell_type": "markdown",
      "metadata": {
        "id": "TAtd-XTvH95R"
      },
      "source": [
        "Но это все просто комментарии.."
      ]
    },
    {
      "cell_type": "code",
      "metadata": {
        "id": "zqVK-kQGH5y9"
      },
      "source": [
        "print(power(\"s\", 3))"
      ],
      "execution_count": null,
      "outputs": []
    },
    {
      "cell_type": "markdown",
      "metadata": {
        "id": "hPJSYj448CYO"
      },
      "source": [
        "## Имена"
      ]
    },
    {
      "cell_type": "markdown",
      "metadata": {
        "id": "xu1O4FI3RSCM"
      },
      "source": [
        "Именование переменных, функций, классов - важная вещь. По идее, одного взгляда на них должно быть достаточно доя того, чтобы понять, для чего они существуют"
      ]
    },
    {
      "cell_type": "code",
      "metadata": {
        "id": "NJcikgdd8Bzt"
      },
      "source": [
        "def func(a, b):\n",
        "  return [x * y for x in a for y in b]\n",
        "\n",
        "def array_zipper(source, source_2):\n",
        "  return [x * y for x in source for y in source_2]"
      ],
      "execution_count": null,
      "outputs": []
    },
    {
      "cell_type": "code",
      "metadata": {
        "id": "bZyZt4FASE8H"
      },
      "source": [
        "a = [1,2,3]\n",
        "b = [2,4]\n",
        "print(func(a, b))"
      ],
      "execution_count": null,
      "outputs": []
    },
    {
      "cell_type": "code",
      "metadata": {
        "id": "VWR8HtglIIk_"
      },
      "source": [
        "for range_counter in range(0, 10):\n",
        "  range_counter += 1\n",
        "  pass"
      ],
      "execution_count": null,
      "outputs": []
    },
    {
      "cell_type": "markdown",
      "metadata": {
        "id": "9EUOCTY-S25V"
      },
      "source": [
        "При этом очевидно, что все очень сильно зависит от того, какое время жизни у переменной - если переменная нужна лишь на одной строке, нет ничего зазорного в том, чтобы назвать ее __a__ или __x__"
      ]
    },
    {
      "cell_type": "markdown",
      "metadata": {
        "id": "4po8kQ8o986n"
      },
      "source": [
        "## Контекст"
      ]
    },
    {
      "cell_type": "markdown",
      "metadata": {
        "id": "pBPSE2ITAJbR"
      },
      "source": [
        "Обычно контекст используют при работе с файлами:"
      ]
    },
    {
      "cell_type": "code",
      "metadata": {
        "id": "WEtgrhI09-9n"
      },
      "source": [
        "f = open(\"test.txt\", \"w\")\n",
        "f.write(\"test line\")\n",
        "f.close()\n",
        "\n",
        "with open(\"test2.txt\", \"w\") as f:\n",
        "  f.write(\"test line\")"
      ],
      "execution_count": null,
      "outputs": []
    },
    {
      "cell_type": "markdown",
      "metadata": {
        "id": "0Ig7NNrXAMiU"
      },
      "source": [
        "Но на самом деле мы можем написать свой менеджер контекста:"
      ]
    },
    {
      "cell_type": "code",
      "metadata": {
        "id": "hgZ5FSEkAO7y"
      },
      "source": [
        "class Manager():\n",
        "    def __enter__(self):\n",
        "        print(\"enter\")\n",
        "    def __exit__(self, type, value, traceback):\n",
        "        print(\"exit\")\n",
        "\n",
        "with Manager() as m:\n",
        "  print(\"managing\")"
      ],
      "execution_count": null,
      "outputs": []
    },
    {
      "cell_type": "markdown",
      "metadata": {
        "id": "lXw5NUjd8kOP"
      },
      "source": [
        "## Pattern matching (Python 3.10+)"
      ]
    },
    {
      "cell_type": "code",
      "metadata": {
        "id": "Bpy5asoL8kZa"
      },
      "source": [
        "def do_stuff_v1(value):\n",
        "  if value == \"a\":\n",
        "    print(1)\n",
        "  elif value == \"b\":\n",
        "    print(2)\n",
        "  elif value == \"c\":\n",
        "    print(3)\n",
        "  else:\n",
        "    print(0)"
      ],
      "execution_count": null,
      "outputs": []
    },
    {
      "cell_type": "code",
      "metadata": {
        "id": "w5UAUEYR88tB"
      },
      "source": [
        "do_stuff_v1(\"a\")\n",
        "do_stuff_v1(\"asd\")"
      ],
      "execution_count": null,
      "outputs": []
    },
    {
      "cell_type": "code",
      "metadata": {
        "id": "WHVx4GJd9Bkv"
      },
      "source": [
        "def do_stuff_v2(value):\n",
        "  match value:\n",
        "    case \"a\":\n",
        "      print(1)\n",
        "    case \"b\":\n",
        "      print(2)\n",
        "    case \"c\":\n",
        "      print(3)\n",
        "    case _:\n",
        "      print(0)"
      ],
      "execution_count": null,
      "outputs": []
    },
    {
      "cell_type": "markdown",
      "metadata": {
        "id": "ELcBs6J982X2"
      },
      "source": [
        "## Кэширование"
      ]
    },
    {
      "cell_type": "markdown",
      "metadata": {
        "id": "seYLmYlPLCPE"
      },
      "source": [
        "Часто нам необходимо долго обрабатывать данные, при этом входные данные могут повторяться. Для того, чтобы сэкономить себе время, мы можем сделать себе кэш"
      ]
    },
    {
      "cell_type": "code",
      "metadata": {
        "id": "a9UUEboy87On"
      },
      "source": [
        "cache = {}\n",
        "\n",
        "def compute_output(input):\n",
        "  time.sleep(2)\n",
        "  return input * 10\n",
        "\n",
        "def compute(input):\n",
        "  if input in cache.keys():\n",
        "    return cache[input]\n",
        "  output = compute_output(input)\n",
        "  cache[input] = output\n",
        "  return output"
      ],
      "execution_count": null,
      "outputs": []
    },
    {
      "cell_type": "code",
      "metadata": {
        "id": "7JfDX3eQLsA3"
      },
      "source": [
        "%%time\n",
        "compute(\"a\")"
      ],
      "execution_count": null,
      "outputs": []
    },
    {
      "cell_type": "code",
      "metadata": {
        "id": "8-ZLrwgQME9h"
      },
      "source": [
        "%%time\n",
        "compute(\"a\")"
      ],
      "execution_count": null,
      "outputs": []
    },
    {
      "cell_type": "markdown",
      "metadata": {
        "id": "1trd4WZxA5s0"
      },
      "source": [
        "## Работа с исключениями"
      ]
    },
    {
      "cell_type": "markdown",
      "metadata": {
        "id": "ZqJvatgsN3fQ"
      },
      "source": [
        "Иногда мы хотим написать простую функцию"
      ]
    },
    {
      "cell_type": "code",
      "metadata": {
        "id": "P83-VeGxA7KR"
      },
      "source": [
        "def divider(a, b):\n",
        "  res = a / b\n",
        "  return res"
      ],
      "execution_count": null,
      "outputs": []
    },
    {
      "cell_type": "markdown",
      "metadata": {
        "id": "hsJPnKzSOBSv"
      },
      "source": [
        "Но что-то может пойти не так"
      ]
    },
    {
      "cell_type": "code",
      "metadata": {
        "id": "As0Ue1VRNV0A"
      },
      "source": [
        "print(divider(1, 0))"
      ],
      "execution_count": null,
      "outputs": []
    },
    {
      "cell_type": "markdown",
      "metadata": {
        "id": "ryhx8LyTOB_5"
      },
      "source": [
        "Для того, чтобы уберечь себя, мы можем использовать конструкцию try-except:\n",
        "- try - что пытаемся сделать\n",
        "- except - какие исключения пытаемся ловить и что делаем, если их поймаем\n",
        "- else - что делаем, если не словили ошибку\n",
        "- finally - что делаем при любом исходе"
      ]
    },
    {
      "cell_type": "code",
      "metadata": {
        "id": "mzr40ZRFNZQ5"
      },
      "source": [
        "def safe_divider(a, b):\n",
        "  try:\n",
        "    res = a / b\n",
        "  except ZeroDivisionError:\n",
        "    print(\"unsafe division!\")\n",
        "    res = 0\n",
        "  else:\n",
        "    print(\"safe division!\")\n",
        "  finally:\n",
        "    return res"
      ],
      "execution_count": null,
      "outputs": []
    },
    {
      "cell_type": "code",
      "metadata": {
        "id": "BgUWeRVXN1P2"
      },
      "source": [
        "print(safe_divider(1,1))"
      ],
      "execution_count": null,
      "outputs": []
    },
    {
      "cell_type": "code",
      "metadata": {
        "id": "FYRnxak_N1rF"
      },
      "source": [
        "print(safe_divider(1,0))"
      ],
      "execution_count": null,
      "outputs": []
    },
    {
      "cell_type": "markdown",
      "metadata": {
        "id": "TTa-vMg2Bi4y"
      },
      "source": [
        "## Итераторы"
      ]
    },
    {
      "cell_type": "markdown",
      "metadata": {
        "id": "ZXEuq5Z5Orob"
      },
      "source": [
        "Итераторы нужны для того, чтобы можно было удобно проходить по элементам некоей сущности. Обычно при проходе по элементам списка мы делаем так:"
      ]
    },
    {
      "cell_type": "code",
      "metadata": {
        "id": "4FshnOSeBlNi"
      },
      "source": [
        "num_list = [1, 2, 3]\n",
        "for i in num_list:\n",
        "  print(i)"
      ],
      "execution_count": null,
      "outputs": []
    },
    {
      "cell_type": "markdown",
      "metadata": {
        "id": "px6bfw0qPIc8"
      },
      "source": [
        "Но можно создать итератор - объект, который может вернуть нам очередной элемент или же кинуть исключение"
      ]
    },
    {
      "cell_type": "code",
      "metadata": {
        "id": "Qe5QI8NoO1Vm"
      },
      "source": [
        "itr = iter(num_list)\n",
        "print(next(itr))\n",
        "print(next(itr))\n",
        "print(next(itr))\n",
        "print(next(itr))"
      ],
      "execution_count": null,
      "outputs": []
    },
    {
      "cell_type": "markdown",
      "metadata": {
        "id": "WxMdQPcjPd3n"
      },
      "source": [
        "Мы можем делать и собственные итераторы"
      ]
    },
    {
      "cell_type": "code",
      "metadata": {
        "id": "ylGb9a4aPdSx"
      },
      "source": [
        "class SimpleIterator:\n",
        "  def __init__(self, limit):\n",
        "    self.limit = limit\n",
        "    self.counter = 0\n",
        "\n",
        "  def __next__(self):\n",
        "    if self.counter < self.limit:\n",
        "      self.counter += 1\n",
        "      return 1\n",
        "    else:\n",
        "      raise StopIteration\n",
        "\n",
        "s_iter1 = SimpleIterator(3)\n",
        "print(next(s_iter1))\n",
        "print(next(s_iter1))\n",
        "print(next(s_iter1))\n",
        "print(next(s_iter1))"
      ],
      "execution_count": null,
      "outputs": []
    },
    {
      "cell_type": "markdown",
      "metadata": {
        "id": "J27B7A4RP0EE"
      },
      "source": [
        "## Генераторы"
      ]
    },
    {
      "cell_type": "markdown",
      "metadata": {
        "id": "qX83f49HQEre"
      },
      "source": [
        "Генератор - функция, которая определяет правила для __next__  \n",
        "При этом вместо того, чтобы возвращать значение с помощью __return__, мы их __yield__'им"
      ]
    },
    {
      "cell_type": "code",
      "metadata": {
        "id": "0W6_PS2yKwFw"
      },
      "source": [],
      "execution_count": null,
      "outputs": []
    },
    {
      "cell_type": "code",
      "metadata": {
        "id": "uuQ_sZaqP3F7"
      },
      "source": [
        "def simple_generator(val):\n",
        "  while val > 0:\n",
        "    val -= 1\n",
        "    yield 1\n",
        "\n",
        "g = simple_generator(3)\n",
        "print(next(g))\n",
        "print(next(g))\n",
        "print(next(g))\n",
        "print(next(g))"
      ],
      "execution_count": null,
      "outputs": []
    },
    {
      "cell_type": "markdown",
      "metadata": {
        "id": "A-1rJ-GeQz0F"
      },
      "source": [
        "Важно учитывать, что:\n",
        "- генератор не хранит в себе все значения\n",
        "- генератор как бы замораживается в процессе работы, ожидая очередную своб итерацию\n",
        "- можно добавить сообщение в конце!"
      ]
    },
    {
      "cell_type": "code",
      "metadata": {
        "id": "5vHsgPnaRHXx"
      },
      "source": [
        "def simple_generator(val):\n",
        "  while val > 0:\n",
        "    val -= 1\n",
        "    yield 1\n",
        "  return \"the end!\"\n",
        "\n",
        "\n",
        "g = simple_generator(3)\n",
        "print(next(g))\n",
        "print(next(g))\n",
        "print(next(g))\n",
        "print(next(g))"
      ],
      "execution_count": null,
      "outputs": []
    },
    {
      "cell_type": "markdown",
      "metadata": {
        "id": "xZpIsU_O8J3g"
      },
      "source": [
        "## Линтеры"
      ]
    },
    {
      "cell_type": "markdown",
      "metadata": {
        "id": "bfTbD_KXM6_K"
      },
      "source": [
        "Существуют инструменты, которые проверяют как стиль написания кода, так и сам код (к примеру, говорят, что объявленная переменная нигде не используется). Их называют линтерами. Самым известным линтером можно назвать Flake8"
      ]
    },
    {
      "cell_type": "markdown",
      "metadata": {
        "id": "gXgchJ3OTVgs"
      },
      "source": [
        "# Некоторые из частых ошибок"
      ]
    },
    {
      "cell_type": "markdown",
      "metadata": {
        "id": "gzZd_7qUTZza"
      },
      "source": [
        "## Работа с массивом, а не с его копией"
      ]
    },
    {
      "cell_type": "code",
      "metadata": {
        "id": "Vb32nW2WTVCN"
      },
      "source": [
        "aa = [1,2,3,4,5]\n",
        "for i in range(0, len(aa)):\n",
        "  a = aa[i]\n",
        "  if a == 3 or a == 4:\n",
        "    aa.pop(i)\n",
        "print(aa)"
      ],
      "execution_count": null,
      "outputs": []
    },
    {
      "cell_type": "code",
      "metadata": {
        "id": "bmhLwlasToJk"
      },
      "source": [
        "aa = [1,2,3,4,5]\n",
        "for a in aa:\n",
        "  if a == 3 or a == 4:\n",
        "    aa.remove(a)\n",
        "print(aa)"
      ],
      "execution_count": null,
      "outputs": []
    },
    {
      "cell_type": "code",
      "metadata": {
        "id": "tmlGBockMbA_"
      },
      "source": [
        "aa = [1,2,3,4,5]\n",
        "for a in aa.copy():\n",
        "  if a == 3 or a == 4:\n",
        "    aa.remove(a)\n",
        "print(aa)"
      ],
      "execution_count": null,
      "outputs": []
    },
    {
      "cell_type": "markdown",
      "metadata": {
        "id": "PPd3HcD7UFrB"
      },
      "source": [
        "##Значение по умолчанию, являющееся изменяемым объектом"
      ]
    },
    {
      "cell_type": "code",
      "metadata": {
        "id": "ZvYlOpF-UDtS"
      },
      "source": [
        "def test_list(a=[]):\n",
        "  a.append(\"a\")\n",
        "  return a\n",
        "\n",
        "print(test_list())\n",
        "print(test_list())"
      ],
      "execution_count": null,
      "outputs": []
    },
    {
      "cell_type": "code",
      "metadata": {
        "id": "XJyGKm5xUUMU"
      },
      "source": [
        "def test_dict(key, a={}):\n",
        "  a[key] = 0\n",
        "  return a\n",
        "\n",
        "print(test_dict(\"a\"))\n",
        "print(test_dict(\"b\"))"
      ],
      "execution_count": null,
      "outputs": []
    },
    {
      "cell_type": "markdown",
      "metadata": {
        "id": "AVAppWZwU0-m"
      },
      "source": [
        "## Поля класса"
      ]
    },
    {
      "cell_type": "code",
      "metadata": {
        "id": "ZlcKyidbUnOv"
      },
      "source": [
        "class A():\n",
        "  val = 1\n",
        "\n",
        "class B(A):\n",
        "  pass\n",
        "\n",
        "class C(A):\n",
        "  pass\n",
        "\n",
        "a = A()\n",
        "b = B()\n",
        "c = C()"
      ],
      "execution_count": null,
      "outputs": []
    },
    {
      "cell_type": "code",
      "metadata": {
        "id": "rw48-vuJVE80"
      },
      "source": [
        "print(a.val, b.val, c.val)\n",
        "print(a.__dict__, b.__dict__, c.__dict__)"
      ],
      "execution_count": null,
      "outputs": []
    },
    {
      "cell_type": "markdown",
      "metadata": {
        "id": "9xY5Xz7NONts"
      },
      "source": [
        "При изменении __val__ у экземпляра __b__ на самом деле мы добавляем ему такое поле  (раньше он искал его у __super()__'а"
      ]
    },
    {
      "cell_type": "code",
      "metadata": {
        "id": "JJWokNtWOfEA"
      },
      "source": [
        "b.val = 2\n",
        "print(a.val, b.val, c.val)\n",
        "print(a.__dict__, b.__dict__, c.__dict__)"
      ],
      "execution_count": null,
      "outputs": []
    },
    {
      "cell_type": "markdown",
      "metadata": {
        "id": "y2euyVxXOy19"
      },
      "source": [
        "Даже если мы у экземлпяра класса родителя изменим __val__, это ни на кого не повлияет"
      ]
    },
    {
      "cell_type": "code",
      "metadata": {
        "id": "hHoz2MSAOjuS"
      },
      "source": [
        "a.val = 10\n",
        "print(a.val, b.val, c.val)\n",
        "print(a.__dict__, b.__dict__, c.__dict__)"
      ],
      "execution_count": null,
      "outputs": []
    },
    {
      "cell_type": "markdown",
      "metadata": {
        "id": "Yh2HswDsO8Z7"
      },
      "source": [
        "Изменение же значения поля всего класса повлечет изменение значения у __c__, потому что __c.val__ на самом деле ссылается на __A.val__"
      ]
    },
    {
      "cell_type": "code",
      "metadata": {
        "id": "XVLVz7OMOkuo"
      },
      "source": [
        "A.val=9\n",
        "print(a.val, b.val, c.val)\n",
        "print(a.__dict__, b.__dict__, c.__dict__)"
      ],
      "execution_count": null,
      "outputs": []
    }
  ]
}