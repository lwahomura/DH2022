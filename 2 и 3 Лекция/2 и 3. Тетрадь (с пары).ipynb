{
  "nbformat": 4,
  "nbformat_minor": 0,
  "metadata": {
    "colab": {
      "provenance": []
    },
    "kernelspec": {
      "name": "python3",
      "display_name": "Python 3"
    },
    "language_info": {
      "name": "python"
    }
  },
  "cells": [
    {
      "cell_type": "code",
      "metadata": {
        "id": "jpe4ovD60CFs"
      },
      "source": [
        "import types\n",
        "import abc\n",
        "import math\n",
        "import time"
      ],
      "execution_count": null,
      "outputs": []
    },
    {
      "cell_type": "markdown",
      "metadata": {
        "id": "pti6nSnSi0u1"
      },
      "source": [
        "# ООП"
      ]
    },
    {
      "cell_type": "markdown",
      "metadata": {
        "id": "IRbAesBui3zi"
      },
      "source": [
        "## Определение"
      ]
    },
    {
      "cell_type": "markdown",
      "metadata": {
        "id": "qWfXmVd2i6OK"
      },
      "source": [
        "Часто говорят, что ООП это три принципа:\n",
        "- инкапсуляция\n",
        "- полиморфизм\n",
        "- наследование\n",
        "\n",
        "На самом деле, это не совсем так. Если обратиться к словам Алана Кэя (http://userpage.fu-berlin.de/~ram/pub/pub_jf47ht81Ht/doc_kay_oop_en), можно обратить внимание, что он, отвечая на вопрос о том, что же такое ООП, отвечал, что \"OOP to me means only messaging, local retention and protection and hiding of state-process, and extreme late-binding of all things.\"  "
      ]
    },
    {
      "cell_type": "markdown",
      "metadata": {
        "id": "GYslrn-8kROb"
      },
      "source": [
        "Разберем это высказывание.\n",
        "- messaging - мы присылаем какие-либо данные объекту, а он решает, как на них ответить\n",
        "- local retention - поля и методы класса недоступны извне\n",
        "- extreme late-binding - связывание происходит в рантайме\n"
      ]
    },
    {
      "cell_type": "markdown",
      "metadata": {
        "id": "OMzI8SqLlCx_"
      },
      "source": [
        "Конечно, можно сказать, что изначальная задумка эволюционировала и изменилась; тем не менее, стоит понимать, что есть ООП языки, которые могут не подчиняться этим самым \"трем принципам\""
      ]
    },
    {
      "cell_type": "markdown",
      "metadata": {
        "id": "lWKOi1hBmLws"
      },
      "source": [
        "## Наш базовый класс"
      ]
    },
    {
      "cell_type": "code",
      "metadata": {
        "id": "rKf-zGceoKzQ",
        "colab": {
          "base_uri": "https://localhost:8080/"
        },
        "outputId": "dd3d1b60-7da6-4ecb-aa40-cba2def3f308"
      },
      "source": [
        "class Point():\n",
        "  dummy = 0\n",
        "\n",
        "  def __init__(self, x, y):\n",
        "    self.x = x\n",
        "    self.y = y\n",
        "\n",
        "  def test_x(self, a):\n",
        "    return self.x + a\n",
        "\n",
        "  @classmethod\n",
        "  def test_class(cls):\n",
        "    return cls.dummy\n",
        "\n",
        "p = Point(1,1) #__init__(Point_ex, 1, 1)\n",
        "a = 10\n",
        "print(p.test_x(a)) #test_x(p, a)\n",
        "print(Point.test_class()) #test_class(Point)"
      ],
      "execution_count": null,
      "outputs": [
        {
          "output_type": "stream",
          "name": "stdout",
          "text": [
            "11\n",
            "0\n"
          ]
        }
      ]
    },
    {
      "cell_type": "code",
      "source": [
        "class Test():\n",
        "  b = 9\n",
        "\n",
        "  def __init__(another):\n",
        "    another.a = 1\n",
        "\n",
        "  @classmethod\n",
        "  def test(another_class):\n",
        "    print(another_class.b)"
      ],
      "metadata": {
        "id": "cnvOLXhi5HaQ"
      },
      "execution_count": null,
      "outputs": []
    },
    {
      "cell_type": "code",
      "source": [
        "t = Test()\n",
        "print(t.a)\n",
        "Test.test()"
      ],
      "metadata": {
        "id": "JrhB75Eb5T9w",
        "colab": {
          "base_uri": "https://localhost:8080/"
        },
        "outputId": "456d78b3-6deb-4a8f-e7f6-6901acc12e5e"
      },
      "execution_count": null,
      "outputs": [
        {
          "output_type": "stream",
          "name": "stdout",
          "text": [
            "1\n",
            "9\n"
          ]
        }
      ]
    },
    {
      "cell_type": "code",
      "source": [
        "def delete_doubles(words):\n",
        "  return words\n",
        "\n",
        "class Morphology():\n",
        "  def __init__(self, words):\n",
        "    self.__words = delete_doubles(words)\n",
        "\n",
        "  def get_words():\n",
        "    return self.__words"
      ],
      "metadata": {
        "id": "36sKnh-3ZWIl"
      },
      "execution_count": null,
      "outputs": []
    },
    {
      "cell_type": "code",
      "metadata": {
        "id": "jyqqzZzYu03F"
      },
      "source": [
        "class Money():\n",
        "  def __init__(self, sum): # 100.12\n",
        "    self.__rubles = int(sum / 100) # 100\n",
        "    self.__kopejkas = int((sum - int(sum / 100))*100) # 12\n",
        "    self.__send_to_my_server()\n",
        "\n",
        "  def __send_to_my_server(self):\n",
        "    print(\"got new money!\")\n",
        "\n",
        "  def get(self):\n",
        "    return self.__rubles + self.__kopejkas / 100\n",
        "\n",
        "# 100 = 1 * 2^6 + 1 * 2^5 + 0 * 2^4 + 0 * 2 ^ 3 + 1 * 2 ^ 2 + 1 * 2 ^ 1 + 0 * 2 ^ 0 # 1100110\n",
        "# 0.25 = 0 * 2 ^ -1 + 1 * 2 ^ -2 + 0 * ..... # 010000000000000\n",
        "# 0.33 = 0 * 2 ^ -1 + 1 * 2 ^ -2 + 0 * 2 ^ -3 + 1 * 2 ^-4 ... # 010100000001000000000000000100000000000001000"
      ],
      "execution_count": null,
      "outputs": []
    },
    {
      "cell_type": "code",
      "metadata": {
        "id": "q8d3W3NM0uav"
      },
      "source": [
        "# 0) мы создали некий класс\n",
        "# 1) мы хотим сделать экземпляр класса = класс()\n",
        "# 1.1) мы вызываем класс.__new__ - возвращает нвоый экземпляр\n",
        "# 1.2) мы вызываем экземпляр.__init__\n",
        "# ....\n",
        "# final) мы вызываем метод экземпляр.__del__"
      ],
      "execution_count": null,
      "outputs": []
    },
    {
      "cell_type": "code",
      "source": [
        "class Demo():\n",
        "\n",
        "  @classmethod\n",
        "  def __new__(cls, *args, **kwargs):\n",
        "    print(\"...\")\n",
        "    instance = super().__new__(cls)\n",
        "    return instance\n",
        "\n",
        "  def __init__(self, a, b):\n",
        "    print(\"HI\")\n",
        "    self.a = a\n",
        "    self.b = b\n",
        "\n",
        "  def __del__(self):\n",
        "    print(\"BYE\")"
      ],
      "metadata": {
        "id": "T9fjThE78Bqm"
      },
      "execution_count": null,
      "outputs": []
    },
    {
      "cell_type": "code",
      "source": [
        "d = Demo(1,1)\n",
        "del(d)"
      ],
      "metadata": {
        "id": "5uDxalUM8iIg",
        "colab": {
          "base_uri": "https://localhost:8080/"
        },
        "outputId": "5b604f18-c7d5-4fa0-b56e-9888eaf5431c"
      },
      "execution_count": null,
      "outputs": [
        {
          "output_type": "stream",
          "name": "stdout",
          "text": [
            "...\n",
            "HI\n",
            "BYE\n"
          ]
        }
      ]
    },
    {
      "cell_type": "code",
      "source": [
        "x = Demo(0,0)\n",
        "y = x\n",
        "del(x)"
      ],
      "metadata": {
        "colab": {
          "base_uri": "https://localhost:8080/"
        },
        "id": "z4vKCzScYkka",
        "outputId": "caa89e13-2665-42cb-80ba-5e9ba1254385"
      },
      "execution_count": null,
      "outputs": [
        {
          "output_type": "stream",
          "name": "stdout",
          "text": [
            "...\n",
            "HI\n"
          ]
        }
      ]
    },
    {
      "cell_type": "code",
      "source": [
        "def del_test():\n",
        "  d1 = Demo(1,1)\n",
        "  d2 = d1\n",
        "  del(d1)\n",
        "  del(d2)\n",
        "\n",
        "def del_test2():\n",
        "  d1 = Demo(1,1)\n",
        "  d2 = d1"
      ],
      "metadata": {
        "id": "kq0kAYVz9J_H"
      },
      "execution_count": null,
      "outputs": []
    },
    {
      "cell_type": "code",
      "source": [
        "del_test()"
      ],
      "metadata": {
        "id": "eoPPtx989b9v",
        "colab": {
          "base_uri": "https://localhost:8080/"
        },
        "outputId": "ed1d572d-410a-4cc7-8e9a-abbbece015e9"
      },
      "execution_count": null,
      "outputs": [
        {
          "output_type": "stream",
          "name": "stdout",
          "text": [
            "...\n",
            "HI\n",
            "BYE\n"
          ]
        }
      ]
    },
    {
      "cell_type": "code",
      "source": [
        "del_test2()"
      ],
      "metadata": {
        "id": "FDM1ydEs9fmD",
        "colab": {
          "base_uri": "https://localhost:8080/"
        },
        "outputId": "9bad2521-5b8b-49ef-9937-389e011ffc68"
      },
      "execution_count": null,
      "outputs": [
        {
          "output_type": "stream",
          "name": "stdout",
          "text": [
            "...\n",
            "HI\n",
            "BYE\n"
          ]
        }
      ]
    },
    {
      "cell_type": "code",
      "metadata": {
        "id": "arYSzfF3i5i6"
      },
      "source": [
        "class MyClass():\n",
        "  field_0 = \"field 0\"\n",
        "\n",
        "  def __init__(self):\n",
        "    self.field_1 = \"field 1\"\n",
        "    self._field_2 = \"field 2\"\n",
        "    self.__field_3 = \"field 3\"\n",
        "\n",
        "  def m_1(self):\n",
        "    return self.field_1\n",
        "\n",
        "  def _m_2(self):\n",
        "    return self._field_2\n",
        "\n",
        "  def __m_3(self):\n",
        "    return self.__field_3\n",
        "\n",
        "  @staticmethod\n",
        "  def s_m():\n",
        "    return \"no field\"\n",
        "\n",
        "  def help():\n",
        "    return \"m_1 returns public field field_1\\_m_2 returns private field _field_2\"\n",
        "\n",
        "  @staticmethod\n",
        "  def static_help():\n",
        "    return \"m_1 returns public field field_1\\_m_2 returns private field _field_2\"\n",
        "\n",
        "  @classmethod\n",
        "  def c_m(cls):\n",
        "    return cls.field_0"
      ],
      "execution_count": null,
      "outputs": []
    },
    {
      "cell_type": "code",
      "metadata": {
        "id": "E5iFzKXsl8uV"
      },
      "source": [
        "c = MyClass()"
      ],
      "execution_count": null,
      "outputs": []
    },
    {
      "cell_type": "code",
      "metadata": {
        "id": "uqcaMiJYzfAB"
      },
      "source": [
        "c.help() # help(c)"
      ],
      "execution_count": null,
      "outputs": []
    },
    {
      "cell_type": "code",
      "metadata": {
        "id": "VaVLzhlq0bgI",
        "colab": {
          "base_uri": "https://localhost:8080/",
          "height": 35
        },
        "outputId": "8f07c527-8793-4e37-9982-51869f2c352d"
      },
      "source": [
        "c.static_help()"
      ],
      "execution_count": null,
      "outputs": [
        {
          "output_type": "execute_result",
          "data": {
            "text/plain": [
              "'m_1 returns public field field_1\\\\_m_2 returns private field _field_2'"
            ],
            "application/vnd.google.colaboratory.intrinsic+json": {
              "type": "string"
            }
          },
          "metadata": {},
          "execution_count": 20
        }
      ]
    },
    {
      "cell_type": "code",
      "metadata": {
        "id": "m-D5IxGTz1fE"
      },
      "source": [
        "class Adder():\n",
        "  def __init__(self, initial):\n",
        "    self.initial = initial\n",
        "\n",
        "  def change_value(self):\n",
        "    self.initial += 1\n",
        "\n",
        "  def add(self, value):\n",
        "    return self.initial + value\n",
        "\n",
        "a = Adder(10)\n",
        "a.add(4)\n",
        "print(a.initial)\n",
        "a.change_value()\n",
        "print(a.initial)\n",
        "a.__init__(5)\n",
        "print(a.initial)"
      ],
      "execution_count": null,
      "outputs": []
    },
    {
      "cell_type": "markdown",
      "metadata": {
        "id": "N2ba8y1GnzCu"
      },
      "source": [
        "### Инкапсуляция"
      ]
    },
    {
      "cell_type": "markdown",
      "metadata": {
        "id": "hSlpERQZnIDi"
      },
      "source": [
        "Публичные и приватные методы можно вызывать"
      ]
    },
    {
      "cell_type": "code",
      "metadata": {
        "id": "KQqJRZe_i0GH",
        "colab": {
          "base_uri": "https://localhost:8080/"
        },
        "outputId": "21be4bd6-4aa9-4d4c-cd69-ac8929be9dff"
      },
      "source": [
        "print(c.m_1())\n",
        "print(c._m_2())"
      ],
      "execution_count": null,
      "outputs": [
        {
          "output_type": "stream",
          "name": "stdout",
          "text": [
            "field 1\n",
            "field 2\n"
          ]
        }
      ]
    },
    {
      "cell_type": "markdown",
      "metadata": {
        "id": "Ba7ize10nP89"
      },
      "source": [
        "Защищенные - нельзя(?)"
      ]
    },
    {
      "cell_type": "code",
      "metadata": {
        "id": "kGsCeBE4nG4u"
      },
      "source": [
        "print(c.__m_3())"
      ],
      "execution_count": null,
      "outputs": []
    },
    {
      "cell_type": "markdown",
      "metadata": {
        "id": "_j9CKNsWnjwd"
      },
      "source": [
        "С помощью __dict__ можно посмотреть все поля, с помощью __dir()__ все методы, там мы увидим кое-что интересное"
      ]
    },
    {
      "cell_type": "code",
      "metadata": {
        "id": "QiNEuKFOni7Z",
        "colab": {
          "base_uri": "https://localhost:8080/"
        },
        "outputId": "d337311e-49b2-4a66-8527-086d96952925"
      },
      "source": [
        "c.__dict__"
      ],
      "execution_count": null,
      "outputs": [
        {
          "output_type": "execute_result",
          "data": {
            "text/plain": [
              "{'field_1': 'field 1', '_field_2': 'field 2', '_MyClass__field_3': 'field 3'}"
            ]
          },
          "metadata": {},
          "execution_count": 23
        }
      ]
    },
    {
      "cell_type": "code",
      "metadata": {
        "id": "K4_q9Ts5nbv-",
        "colab": {
          "base_uri": "https://localhost:8080/"
        },
        "outputId": "ae5b412a-6528-44c3-f8e3-ae87f14340da"
      },
      "source": [
        "print(c._MyClass__field_3)"
      ],
      "execution_count": null,
      "outputs": [
        {
          "output_type": "stream",
          "name": "stdout",
          "text": [
            "field 3\n"
          ]
        }
      ]
    },
    {
      "cell_type": "code",
      "metadata": {
        "id": "3Sn_BiosnxHk"
      },
      "source": [
        "dir(c)"
      ],
      "execution_count": null,
      "outputs": []
    },
    {
      "cell_type": "code",
      "metadata": {
        "id": "Ktna1T8tnek2",
        "colab": {
          "base_uri": "https://localhost:8080/"
        },
        "outputId": "af51ae9f-f6f8-4e25-efe3-88536f9e701e"
      },
      "source": [
        "print(c._MyClass__m_3())"
      ],
      "execution_count": null,
      "outputs": [
        {
          "output_type": "stream",
          "name": "stdout",
          "text": [
            "field 3\n"
          ]
        }
      ]
    },
    {
      "cell_type": "markdown",
      "metadata": {
        "id": "fXpuNs-9oAep"
      },
      "source": [
        "Статические методы"
      ]
    },
    {
      "cell_type": "code",
      "metadata": {
        "id": "4p_aF31EnF5H",
        "colab": {
          "base_uri": "https://localhost:8080/"
        },
        "outputId": "33226862-d302-4075-da85-70a0d738c388"
      },
      "source": [
        "print(c.s_m())\n",
        "print(MyClass.s_m())"
      ],
      "execution_count": null,
      "outputs": [
        {
          "output_type": "stream",
          "name": "stdout",
          "text": [
            "no field\n",
            "no field\n"
          ]
        }
      ]
    },
    {
      "cell_type": "markdown",
      "metadata": {
        "id": "VaIlPxUhoJJp"
      },
      "source": [
        "Методы класса"
      ]
    },
    {
      "cell_type": "code",
      "metadata": {
        "id": "msKXKh8EmnY9",
        "colab": {
          "base_uri": "https://localhost:8080/"
        },
        "outputId": "cbb411af-53ac-49e3-f37e-89188f4b7ff5"
      },
      "source": [
        "print(c.c_m())\n",
        "print(MyClass.c_m())"
      ],
      "execution_count": null,
      "outputs": [
        {
          "output_type": "stream",
          "name": "stdout",
          "text": [
            "field 0\n",
            "field 0\n"
          ]
        }
      ]
    },
    {
      "cell_type": "markdown",
      "metadata": {
        "id": "5RPC-EZroU6K"
      },
      "source": [
        "## Полиморфизм"
      ]
    },
    {
      "cell_type": "code",
      "metadata": {
        "id": "QvWULbSgoyjf"
      },
      "source": [
        "class Point():\n",
        "  def __init__(self, x, y):\n",
        "    self.x = x\n",
        "    self.y = y\n",
        "\n",
        "  def __eq__(self, other):\n",
        "    return isinstance(other, Point) and self.x == other.x and self.y == other.y\n",
        "\n",
        "class Triangle():\n",
        "  def __init__(self, p1, p2, p3):\n",
        "    self.point1 = p1\n",
        "    self.point2 = p2\n",
        "    self.point3 = p3\n",
        "\n",
        "  def __eq__(self, other):\n",
        "    return isinstance(other, Triangle) and self.point1 == other.point1 and self.point2 == other.point2 and self.point3 == other.point3"
      ],
      "execution_count": null,
      "outputs": []
    },
    {
      "cell_type": "code",
      "metadata": {
        "id": "Hqs69koPpXrA",
        "colab": {
          "base_uri": "https://localhost:8080/"
        },
        "outputId": "95b82bf7-a461-434d-b2e4-f64e932b5bff"
      },
      "source": [
        "p1 = Point(1,2)\n",
        "p1_2 = Point(1,2)\n",
        "p2 = Point(2,3)\n",
        "p3 = Point(3,4)\n",
        "print(p1 == 2)\n",
        "print(p1 == p1_2)\n",
        "print(p1 == p2)"
      ],
      "execution_count": null,
      "outputs": [
        {
          "output_type": "stream",
          "name": "stdout",
          "text": [
            "False\n",
            "True\n",
            "False\n"
          ]
        }
      ]
    },
    {
      "cell_type": "code",
      "metadata": {
        "id": "CSdxoiY_qToz",
        "colab": {
          "base_uri": "https://localhost:8080/"
        },
        "outputId": "823aad59-dc98-4509-c47f-5f779a656eb6"
      },
      "source": [
        "t1 = Triangle(1,2,3)\n",
        "t1_2 = Triangle(1,2,3)\n",
        "t2 = Triangle(2,3,4)\n",
        "print(t1 == t1_2)\n",
        "print(t1 == t2)"
      ],
      "execution_count": null,
      "outputs": [
        {
          "output_type": "stream",
          "name": "stdout",
          "text": [
            "True\n",
            "False\n"
          ]
        }
      ]
    },
    {
      "cell_type": "code",
      "metadata": {
        "id": "9-hgUsgZqwS3",
        "colab": {
          "base_uri": "https://localhost:8080/"
        },
        "outputId": "3baf23e2-dc74-4a16-8044-58daac760890"
      },
      "source": [
        "tp1 = Triangle(p1,p2,p3)\n",
        "tp1_2 = Triangle(p1,p2,p3)\n",
        "tp2 = Triangle(p2,p3,p2)\n",
        "print(tp1 == tp1_2)\n",
        "print(tp1 == tp2)"
      ],
      "execution_count": null,
      "outputs": [
        {
          "output_type": "stream",
          "name": "stdout",
          "text": [
            "True\n",
            "False\n"
          ]
        }
      ]
    },
    {
      "cell_type": "markdown",
      "metadata": {
        "id": "qEf4jM7IoVAL"
      },
      "source": [
        "## Наследование"
      ]
    },
    {
      "cell_type": "code",
      "metadata": {
        "id": "HIyQZlgjmwck"
      },
      "source": [
        "class NewsSource(object):\n",
        "  val = 0\n",
        "  def __init__(self, url):\n",
        "    self.url = url\n",
        "\n",
        "  def get_data(self):\n",
        "    print(\"getting data from\", self.url)\n",
        "\n",
        "class WashingtonPost(NewsSource):\n",
        "  pass\n",
        "\n",
        "class VKontakte(NewsSource):\n",
        "  def __init__(self, login, password):\n",
        "    self.login = login\n",
        "    self.password = password\n",
        "\n",
        "  def get_data(self):\n",
        "    print(\"logging in personal account using credentials\")\n",
        "\n",
        "class Twitter(NewsSource):\n",
        "  def solve_captcha(self):\n",
        "    print(\"solving captcha\")\n",
        "\n",
        "  def get_data_super(self):\n",
        "    super().get_data()\n",
        "\n",
        "  def get_data(self):\n",
        "    self.solve_captcha()\n",
        "    print(\"getting data from twitter\")"
      ],
      "execution_count": null,
      "outputs": []
    },
    {
      "cell_type": "code",
      "metadata": {
        "id": "K5vWef2ntoIo",
        "colab": {
          "base_uri": "https://localhost:8080/"
        },
        "outputId": "36b41df3-6b74-4170-bd8c-6594a8f9ea77"
      },
      "source": [
        "source = NewsSource(\"url 1\")\n",
        "source_2 = NewsSource(\"url 2\")\n",
        "source.get_data()\n",
        "source_2.get_data()"
      ],
      "execution_count": null,
      "outputs": [
        {
          "output_type": "stream",
          "name": "stdout",
          "text": [
            "getting data from url 1\n",
            "getting data from url 2\n"
          ]
        }
      ]
    },
    {
      "cell_type": "code",
      "metadata": {
        "id": "ULWzrzr7zVjm",
        "colab": {
          "base_uri": "https://localhost:8080/"
        },
        "outputId": "793bce9e-3146-4b04-f1de-5f5d059b7063"
      },
      "source": [
        "wp = WashingtonPost(\"http://wp.com\")\n",
        "wp.get_data()"
      ],
      "execution_count": null,
      "outputs": [
        {
          "output_type": "stream",
          "name": "stdout",
          "text": [
            "getting data from http://wp.com\n"
          ]
        }
      ]
    },
    {
      "cell_type": "code",
      "metadata": {
        "id": "Y8PSbNWwt0-H",
        "colab": {
          "base_uri": "https://localhost:8080/"
        },
        "outputId": "1e6cca13-260c-4786-d124-40795e474c69"
      },
      "source": [
        "vk = VKontakte(\"login\", \"password\")\n",
        "vk.get_data()"
      ],
      "execution_count": null,
      "outputs": [
        {
          "output_type": "stream",
          "name": "stdout",
          "text": [
            "logging in personal account using credentials\n"
          ]
        }
      ]
    },
    {
      "cell_type": "markdown",
      "metadata": {
        "id": "ZtL46MMQyiLz"
      },
      "source": [
        "Т.к. мы переопределили метод __init__, поле __url__ нам уже недоступно"
      ]
    },
    {
      "cell_type": "code",
      "metadata": {
        "id": "Kazq8kUqyRXJ",
        "colab": {
          "base_uri": "https://localhost:8080/"
        },
        "outputId": "81702ade-ce6e-464c-f6aa-0558438480a0"
      },
      "source": [
        "print(vk.__dict__)"
      ],
      "execution_count": null,
      "outputs": [
        {
          "output_type": "stream",
          "name": "stdout",
          "text": [
            "{'login': 'login', 'password': 'password'}\n"
          ]
        }
      ]
    },
    {
      "cell_type": "code",
      "metadata": {
        "id": "s42LGAYmyu3e",
        "colab": {
          "base_uri": "https://localhost:8080/"
        },
        "outputId": "bc74a520-9d0a-42dd-d6b8-65591f012014"
      },
      "source": [
        "tw = Twitter(\"http://twitter.com\")\n",
        "tw.get_data()"
      ],
      "execution_count": null,
      "outputs": [
        {
          "output_type": "stream",
          "name": "stdout",
          "text": [
            "solving captcha\n",
            "getting data from twitter\n"
          ]
        }
      ]
    },
    {
      "cell_type": "code",
      "metadata": {
        "id": "X1g1OtI56ctf",
        "colab": {
          "base_uri": "https://localhost:8080/"
        },
        "outputId": "fec4301b-d6d0-4878-a36d-f9baab057742"
      },
      "source": [
        "sources = [NewsSource(\"izvestia\"), NewsSource(\"thetimes\"), VKontakte(\"login\", \"password\"), Twitter(\"www.twitter.com\")]\n",
        "for s in sources:\n",
        "  # if isinstance(s, NewsSource) ...\n",
        "  s.get_data()"
      ],
      "execution_count": null,
      "outputs": [
        {
          "output_type": "stream",
          "name": "stdout",
          "text": [
            "getting data from izvestia\n",
            "getting data from thetimes\n",
            "logging in personal account using credentials\n",
            "solving captcha\n",
            "getting data from twitter\n"
          ]
        }
      ]
    },
    {
      "cell_type": "markdown",
      "metadata": {
        "id": "wxs-omZo4qK5"
      },
      "source": [
        "Что, если мы хотим вызвать метод родительского класса?"
      ]
    },
    {
      "cell_type": "code",
      "metadata": {
        "id": "v7srrJuI4uD8",
        "colab": {
          "base_uri": "https://localhost:8080/"
        },
        "outputId": "1cd067d2-7faa-4c7d-a3fe-c4fab0a5896f"
      },
      "source": [
        "tw.get_data_super()"
      ],
      "execution_count": null,
      "outputs": [
        {
          "output_type": "stream",
          "name": "stdout",
          "text": [
            "getting data from http://twitter.com\n"
          ]
        }
      ]
    },
    {
      "cell_type": "markdown",
      "metadata": {
        "id": "agA5qNtp4-P8"
      },
      "source": [
        "При этом мы можем искать во всех классах-родственниках (только вверх, правда). Чтобы узнать, в ком мы можем искать, можно вызвать метод __mro__:"
      ]
    },
    {
      "cell_type": "code",
      "metadata": {
        "id": "kwhtx24g5KyR",
        "colab": {
          "base_uri": "https://localhost:8080/"
        },
        "outputId": "f011eb60-063a-4164-b6b2-83648e7c68f7"
      },
      "source": [
        "Twitter.mro()"
      ],
      "execution_count": null,
      "outputs": [
        {
          "output_type": "execute_result",
          "data": {
            "text/plain": [
              "[__main__.Twitter, __main__.NewsSource, object]"
            ]
          },
          "metadata": {},
          "execution_count": 54
        }
      ]
    },
    {
      "cell_type": "code",
      "source": [
        "tw == Twitter(\"new_url\")"
      ],
      "metadata": {
        "colab": {
          "base_uri": "https://localhost:8080/"
        },
        "id": "VemsxHVyg_MD",
        "outputId": "b0e4b953-77b1-4732-b27a-2fb5f7aec55e"
      },
      "execution_count": null,
      "outputs": [
        {
          "output_type": "execute_result",
          "data": {
            "text/plain": [
              "False"
            ]
          },
          "metadata": {},
          "execution_count": 57
        }
      ]
    },
    {
      "cell_type": "markdown",
      "metadata": {
        "id": "lBTu-ZfIz4aE"
      },
      "source": [
        "Что, если мы хотим привязать какую-нибудь функцию к экземпляру классу?"
      ]
    },
    {
      "cell_type": "code",
      "metadata": {
        "id": "axG8IPkpzj8E",
        "colab": {
          "base_uri": "https://localhost:8080/",
          "height": 210
        },
        "outputId": "2bd67fb5-a02c-4bf7-8088-9076c3476a29"
      },
      "source": [
        "def wp_specific(self):\n",
        "  print(\"this is washington post\")\n",
        "\n",
        "wp.get_data = wp_specific\n",
        "wp.get_data()"
      ],
      "execution_count": null,
      "outputs": [
        {
          "output_type": "error",
          "ename": "TypeError",
          "evalue": "ignored",
          "traceback": [
            "\u001b[0;31m---------------------------------------------------------------------------\u001b[0m",
            "\u001b[0;31mTypeError\u001b[0m                                 Traceback (most recent call last)",
            "\u001b[0;32m<ipython-input-58-16d14899f6d8>\u001b[0m in \u001b[0;36m<cell line: 5>\u001b[0;34m()\u001b[0m\n\u001b[1;32m      3\u001b[0m \u001b[0;34m\u001b[0m\u001b[0m\n\u001b[1;32m      4\u001b[0m \u001b[0mwp\u001b[0m\u001b[0;34m.\u001b[0m\u001b[0mget_data\u001b[0m \u001b[0;34m=\u001b[0m \u001b[0mwp_specific\u001b[0m\u001b[0;34m\u001b[0m\u001b[0;34m\u001b[0m\u001b[0m\n\u001b[0;32m----> 5\u001b[0;31m \u001b[0mwp\u001b[0m\u001b[0;34m.\u001b[0m\u001b[0mget_data\u001b[0m\u001b[0;34m(\u001b[0m\u001b[0;34m)\u001b[0m\u001b[0;34m\u001b[0m\u001b[0;34m\u001b[0m\u001b[0m\n\u001b[0m",
            "\u001b[0;31mTypeError\u001b[0m: wp_specific() missing 1 required positional argument: 'self'"
          ]
        }
      ]
    },
    {
      "cell_type": "code",
      "metadata": {
        "id": "84SWG9HK0duV",
        "colab": {
          "base_uri": "https://localhost:8080/"
        },
        "outputId": "7f907843-f0bc-424f-e02a-885f226007c6"
      },
      "source": [
        "wp.get_data=types.MethodType(wp_specific, wp)\n",
        "wp.get_data()"
      ],
      "execution_count": null,
      "outputs": [
        {
          "output_type": "stream",
          "name": "stdout",
          "text": [
            "this is washington post\n"
          ]
        }
      ]
    },
    {
      "cell_type": "markdown",
      "metadata": {
        "id": "4irKlFVz2Jyo"
      },
      "source": [
        "А если к самому классу?"
      ]
    },
    {
      "cell_type": "code",
      "metadata": {
        "id": "BVYvMMWr0vSN",
        "colab": {
          "base_uri": "https://localhost:8080/"
        },
        "outputId": "b3626aeb-b823-4df6-e090-2b88f9f47249"
      },
      "source": [
        "def wp_class_specific(self):\n",
        "  print(\"i belong to wp\")\n",
        "\n",
        "WashingtonPost.get_data = wp_class_specific\n",
        "wp.get_data()"
      ],
      "execution_count": null,
      "outputs": [
        {
          "output_type": "stream",
          "name": "stdout",
          "text": [
            "this is washington post\n"
          ]
        }
      ]
    },
    {
      "cell_type": "code",
      "metadata": {
        "id": "fuRgrklU1meo",
        "colab": {
          "base_uri": "https://localhost:8080/"
        },
        "outputId": "d281e8da-056b-4a20-c90e-fdd761d5a8ee"
      },
      "source": [
        "wp2 = WashingtonPost(\"https://wp.com\")\n",
        "wp2.get_data()"
      ],
      "execution_count": null,
      "outputs": [
        {
          "output_type": "stream",
          "name": "stdout",
          "text": [
            "i belong to wp\n"
          ]
        }
      ]
    },
    {
      "cell_type": "markdown",
      "metadata": {
        "id": "Socjl09fZqdD"
      },
      "source": [
        "Наследоваться, кстати, можно и от нескольких классов"
      ]
    },
    {
      "cell_type": "code",
      "metadata": {
        "id": "BbHLRJPSZthn"
      },
      "source": [
        "class ParentA():\n",
        "  def a_exclusive(self):\n",
        "    print(\"i'm a exclusive\")\n",
        "\n",
        "  def common(self):\n",
        "    print(\"i'm a common\")\n",
        "\n",
        "class ParentB():\n",
        "  def b_exclusive(self):\n",
        "    print(\"i'm b exclusive\")\n",
        "\n",
        "  def common(self):\n",
        "    print(\"i'm b common\")\n",
        "\n",
        "class ChildAB(ParentA, ParentB):\n",
        "  pass\n",
        "\n",
        "class ChildBA(ParentB, ParentA):\n",
        "  pass"
      ],
      "execution_count": null,
      "outputs": []
    },
    {
      "cell_type": "code",
      "metadata": {
        "id": "IFtIE0Uqafn3",
        "colab": {
          "base_uri": "https://localhost:8080/"
        },
        "outputId": "f50d5f01-980d-4972-df1d-d605cbf435ba"
      },
      "source": [
        "ab = ChildAB()\n",
        "ab.common()\n",
        "ChildAB.mro()"
      ],
      "execution_count": null,
      "outputs": [
        {
          "output_type": "stream",
          "name": "stdout",
          "text": [
            "i'm a common\n"
          ]
        },
        {
          "output_type": "execute_result",
          "data": {
            "text/plain": [
              "[__main__.ChildAB, __main__.ParentA, __main__.ParentB, object]"
            ]
          },
          "metadata": {},
          "execution_count": 66
        }
      ]
    },
    {
      "cell_type": "code",
      "source": [
        "ba = ChildBA()\n",
        "ba.common()\n",
        "ChildBA.mro()"
      ],
      "metadata": {
        "colab": {
          "base_uri": "https://localhost:8080/"
        },
        "id": "T4tFFnBGiKY_",
        "outputId": "72a038be-1dac-4d92-eb54-60fda5bd30d0"
      },
      "execution_count": null,
      "outputs": [
        {
          "output_type": "stream",
          "name": "stdout",
          "text": [
            "i'm b common\n"
          ]
        },
        {
          "output_type": "execute_result",
          "data": {
            "text/plain": [
              "[__main__.ChildBA, __main__.ParentB, __main__.ParentA, object]"
            ]
          },
          "metadata": {},
          "execution_count": 67
        }
      ]
    },
    {
      "cell_type": "markdown",
      "metadata": {
        "id": "jbuvyrl22qpZ"
      },
      "source": [
        "## Абстрактные классы"
      ]
    },
    {
      "cell_type": "markdown",
      "metadata": {
        "id": "vD3uBvU62uqF"
      },
      "source": [
        "Иногда нам хочется просто описать ожидаемое поведение от класса-родителя, а уже в классах-потомках это поведение реализовать. Можно, конечно, сделать так:"
      ]
    },
    {
      "cell_type": "code",
      "metadata": {
        "id": "mPIgYW5S1vhV"
      },
      "source": [
        "class Dummy():\n",
        "  def __init__(self):\n",
        "    pass\n",
        "\n",
        "  def dummy_method(self):\n",
        "    pass\n",
        "\n",
        "  def dummy_method_2(self):\n",
        "    pass\n",
        "\n",
        "class Real(Dummy):\n",
        "  pass"
      ],
      "execution_count": null,
      "outputs": []
    },
    {
      "cell_type": "code",
      "source": [
        "r = Real()"
      ],
      "metadata": {
        "id": "9QUeLNUqjMZK"
      },
      "execution_count": null,
      "outputs": []
    },
    {
      "cell_type": "markdown",
      "metadata": {
        "id": "Egy2z2ST3MLb"
      },
      "source": [
        "Но можно использовать абстрактные классы"
      ]
    },
    {
      "cell_type": "code",
      "metadata": {
        "id": "xk57QpMR3PhP"
      },
      "source": [
        "class NewsSourceV2(abc.ABC):\n",
        "  def tell_class(self):\n",
        "    print(\"i'm a news source\")\n",
        "\n",
        "  @abc.abstractmethod\n",
        "  def get_data(self):\n",
        "    pass\n",
        "\n",
        "  @abc.abstractmethod\n",
        "  def process_data(self):\n",
        "    pass"
      ],
      "execution_count": null,
      "outputs": []
    },
    {
      "cell_type": "markdown",
      "metadata": {
        "id": "GzzW01OA3x41"
      },
      "source": [
        "Создавать экземпляры абстрактного класса нельзя"
      ]
    },
    {
      "cell_type": "code",
      "metadata": {
        "id": "b9ooj8P13xSc",
        "colab": {
          "base_uri": "https://localhost:8080/",
          "height": 176
        },
        "outputId": "4a700f1f-9bc1-4105-8dc0-16fd9b55c526"
      },
      "source": [
        "s = NewsSourceV2()"
      ],
      "execution_count": null,
      "outputs": [
        {
          "output_type": "error",
          "ename": "TypeError",
          "evalue": "ignored",
          "traceback": [
            "\u001b[0;31m---------------------------------------------------------------------------\u001b[0m",
            "\u001b[0;31mTypeError\u001b[0m                                 Traceback (most recent call last)",
            "\u001b[0;32m<ipython-input-69-704523e8ed63>\u001b[0m in \u001b[0;36m<cell line: 1>\u001b[0;34m()\u001b[0m\n\u001b[0;32m----> 1\u001b[0;31m \u001b[0ms\u001b[0m \u001b[0;34m=\u001b[0m \u001b[0mNewsSourceV2\u001b[0m\u001b[0;34m(\u001b[0m\u001b[0;34m)\u001b[0m\u001b[0;34m\u001b[0m\u001b[0;34m\u001b[0m\u001b[0m\n\u001b[0m",
            "\u001b[0;31mTypeError\u001b[0m: Can't instantiate abstract class NewsSourceV2 with abstract methods get_data, process_data"
          ]
        }
      ]
    },
    {
      "cell_type": "markdown",
      "metadata": {
        "id": "SR_W_xZb4GjT"
      },
      "source": [
        "Как и нельзя пытаться создать экземпляр класса-потомка, в котором мы не реализовали абстрактные методы"
      ]
    },
    {
      "cell_type": "code",
      "metadata": {
        "id": "VN9Pf80s32Kg",
        "colab": {
          "base_uri": "https://localhost:8080/",
          "height": 210
        },
        "outputId": "fe44b5cf-400a-4bfd-992c-554203910381"
      },
      "source": [
        "class Twitter(NewsSourceV2):\n",
        "  pass\n",
        "\n",
        "tw = Twitter()"
      ],
      "execution_count": null,
      "outputs": [
        {
          "output_type": "error",
          "ename": "TypeError",
          "evalue": "ignored",
          "traceback": [
            "\u001b[0;31m---------------------------------------------------------------------------\u001b[0m",
            "\u001b[0;31mTypeError\u001b[0m                                 Traceback (most recent call last)",
            "\u001b[0;32m<ipython-input-72-fad8a0156bb5>\u001b[0m in \u001b[0;36m<cell line: 4>\u001b[0;34m()\u001b[0m\n\u001b[1;32m      2\u001b[0m   \u001b[0;32mpass\u001b[0m\u001b[0;34m\u001b[0m\u001b[0;34m\u001b[0m\u001b[0m\n\u001b[1;32m      3\u001b[0m \u001b[0;34m\u001b[0m\u001b[0m\n\u001b[0;32m----> 4\u001b[0;31m \u001b[0mtw\u001b[0m \u001b[0;34m=\u001b[0m \u001b[0mTwitter\u001b[0m\u001b[0;34m(\u001b[0m\u001b[0;34m)\u001b[0m\u001b[0;34m\u001b[0m\u001b[0;34m\u001b[0m\u001b[0m\n\u001b[0m",
            "\u001b[0;31mTypeError\u001b[0m: Can't instantiate abstract class Twitter with abstract methods get_data, process_data"
          ]
        }
      ]
    },
    {
      "cell_type": "code",
      "metadata": {
        "id": "4ypl-CPt4DtI",
        "colab": {
          "base_uri": "https://localhost:8080/",
          "height": 228
        },
        "outputId": "72db72e5-fa47-40dd-d630-d89271f920a5"
      },
      "source": [
        "class Twitter(NewsSourceV2):\n",
        "  def get_data(self):\n",
        "    print(\"getting data from twitter\")\n",
        "\n",
        "tw = Twitter()\n",
        "tw.get_data()"
      ],
      "execution_count": null,
      "outputs": [
        {
          "output_type": "error",
          "ename": "TypeError",
          "evalue": "ignored",
          "traceback": [
            "\u001b[0;31m---------------------------------------------------------------------------\u001b[0m",
            "\u001b[0;31mTypeError\u001b[0m                                 Traceback (most recent call last)",
            "\u001b[0;32m<ipython-input-73-c94ad87b68a9>\u001b[0m in \u001b[0;36m<cell line: 5>\u001b[0;34m()\u001b[0m\n\u001b[1;32m      3\u001b[0m     \u001b[0mprint\u001b[0m\u001b[0;34m(\u001b[0m\u001b[0;34m\"getting data from twitter\"\u001b[0m\u001b[0;34m)\u001b[0m\u001b[0;34m\u001b[0m\u001b[0;34m\u001b[0m\u001b[0m\n\u001b[1;32m      4\u001b[0m \u001b[0;34m\u001b[0m\u001b[0m\n\u001b[0;32m----> 5\u001b[0;31m \u001b[0mtw\u001b[0m \u001b[0;34m=\u001b[0m \u001b[0mTwitter\u001b[0m\u001b[0;34m(\u001b[0m\u001b[0;34m)\u001b[0m\u001b[0;34m\u001b[0m\u001b[0;34m\u001b[0m\u001b[0m\n\u001b[0m\u001b[1;32m      6\u001b[0m \u001b[0mtw\u001b[0m\u001b[0;34m.\u001b[0m\u001b[0mget_data\u001b[0m\u001b[0;34m(\u001b[0m\u001b[0;34m)\u001b[0m\u001b[0;34m\u001b[0m\u001b[0;34m\u001b[0m\u001b[0m\n",
            "\u001b[0;31mTypeError\u001b[0m: Can't instantiate abstract class Twitter with abstract method process_data"
          ]
        }
      ]
    },
    {
      "cell_type": "code",
      "source": [
        "class Twitter(NewsSourceV2):\n",
        "  def get_data(self):\n",
        "    print(\"getting data from twitter\")\n",
        "\n",
        "  def process_data(self):\n",
        "    print(\"processing data from twitter\")\n",
        "\n",
        "tw = Twitter()\n",
        "tw.get_data()"
      ],
      "metadata": {
        "colab": {
          "base_uri": "https://localhost:8080/"
        },
        "id": "5HVQKTl-jV0j",
        "outputId": "245d8317-1f4c-4a81-9bde-b234c786bf5b"
      },
      "execution_count": null,
      "outputs": [
        {
          "output_type": "stream",
          "name": "stdout",
          "text": [
            "getting data from twitter\n"
          ]
        }
      ]
    },
    {
      "cell_type": "code",
      "metadata": {
        "id": "ByII5317_vrt",
        "colab": {
          "base_uri": "https://localhost:8080/"
        },
        "outputId": "0f071adf-aed8-4732-837c-d4623554b7cc"
      },
      "source": [
        "dir(tw)"
      ],
      "execution_count": null,
      "outputs": [
        {
          "output_type": "execute_result",
          "data": {
            "text/plain": [
              "['__abstractmethods__',\n",
              " '__class__',\n",
              " '__delattr__',\n",
              " '__dict__',\n",
              " '__dir__',\n",
              " '__doc__',\n",
              " '__eq__',\n",
              " '__format__',\n",
              " '__ge__',\n",
              " '__getattribute__',\n",
              " '__gt__',\n",
              " '__hash__',\n",
              " '__init__',\n",
              " '__init_subclass__',\n",
              " '__le__',\n",
              " '__lt__',\n",
              " '__module__',\n",
              " '__ne__',\n",
              " '__new__',\n",
              " '__reduce__',\n",
              " '__reduce_ex__',\n",
              " '__repr__',\n",
              " '__setattr__',\n",
              " '__sizeof__',\n",
              " '__slots__',\n",
              " '__str__',\n",
              " '__subclasshook__',\n",
              " '__weakref__',\n",
              " '_abc_impl',\n",
              " 'get_data',\n",
              " 'process_data',\n",
              " 'tell_class']"
            ]
          },
          "metadata": {},
          "execution_count": 75
        }
      ]
    },
    {
      "cell_type": "code",
      "source": [
        "class rect():\n",
        "  def __init__(self, a, b):\n",
        "    self.a = a\n",
        "    self.b = b\n",
        "  def p(self):\n",
        "    print(self.a*self.b)\n",
        "\n",
        "class  sq(rect):\n",
        "  def __init__(self, a):\n",
        "    super().__init__(a, a)\n"
      ],
      "metadata": {
        "id": "S8Tn2F-try-k"
      },
      "execution_count": null,
      "outputs": []
    },
    {
      "cell_type": "code",
      "source": [
        "r = rect(1,2)\n",
        "r.p()"
      ],
      "metadata": {
        "colab": {
          "base_uri": "https://localhost:8080/"
        },
        "id": "SdjvzPuWsK8x",
        "outputId": "a876f6d3-7026-4233-a1d4-216bcb13b097"
      },
      "execution_count": null,
      "outputs": [
        {
          "output_type": "stream",
          "name": "stdout",
          "text": [
            "2\n"
          ]
        }
      ]
    },
    {
      "cell_type": "code",
      "source": [
        "sq(2).p()"
      ],
      "metadata": {
        "colab": {
          "base_uri": "https://localhost:8080/"
        },
        "id": "6tbOT4hqsQiN",
        "outputId": "07ddb90c-8e6f-49c5-c35d-2e4c96a7785f"
      },
      "execution_count": null,
      "outputs": [
        {
          "output_type": "stream",
          "name": "stdout",
          "text": [
            "4\n"
          ]
        }
      ]
    },
    {
      "cell_type": "markdown",
      "metadata": {
        "id": "_0yq28kp5uCu"
      },
      "source": [
        "## Как же проектировать классы"
      ]
    },
    {
      "cell_type": "markdown",
      "metadata": {
        "id": "GsAOr-2L6Hcd"
      },
      "source": [
        "Что такое хорошая система классов?  \n",
        "\n",
        "Это такая система, которой удобно пользоваться.  \n",
        "Это такая система, которую будет легко расширять.  \n",
        "Это такая система, которая хорошо описывает предметную область."
      ]
    },
    {
      "cell_type": "markdown",
      "source": [
        "## Отношения классов"
      ],
      "metadata": {
        "id": "T6xQfW0xQxBg"
      }
    },
    {
      "cell_type": "markdown",
      "source": [
        "### Наследование"
      ],
      "metadata": {
        "id": "Zh41oX8mRn7C"
      }
    },
    {
      "cell_type": "code",
      "source": [
        "class PieceOfArt(object):\n",
        "  def __init__(self, title, price):\n",
        "    self.title = title\n",
        "    self.price = price\n",
        "\n",
        "  def describe(self):\n",
        "    print(\"This is a {0} with a price of {1}\".format(self.title, self.price))\n",
        "\n",
        "class Painting(PieceOfArt):\n",
        "  def describe(self):\n",
        "    print(\"This is a painting called \\\"{0}\\\", it costs {1}\".format(self.title, self.price))\n",
        "\n",
        "class Figure(PieceOfArt):\n",
        "  def __init__(self, title, price, material):\n",
        "    super().__init__(title, price)\n",
        "    self.material = material"
      ],
      "metadata": {
        "id": "Ib4QBcaZQ1EZ"
      },
      "execution_count": 1,
      "outputs": []
    },
    {
      "cell_type": "code",
      "source": [
        "poa1 = PieceOfArt(\"generic poa\", 100)\n",
        "poa2 = Painting(\"the painting\", 200)\n",
        "poa3 = Figure(\"figure\", 150, \"clay\")\n",
        "\n",
        "for poa in [poa1, poa2, poa3]:\n",
        "  poa.describe()"
      ],
      "metadata": {
        "id": "bEp9FKmoT2cY",
        "colab": {
          "base_uri": "https://localhost:8080/"
        },
        "outputId": "85a6b3cd-3491-4560-c38b-f52ac6f1c1aa"
      },
      "execution_count": 2,
      "outputs": [
        {
          "output_type": "stream",
          "name": "stdout",
          "text": [
            "This is a generic poa with a price of 100\n",
            "This is a painting called \"the painting\", it costs 200\n",
            "This is a figure with a price of 150\n"
          ]
        }
      ]
    },
    {
      "cell_type": "markdown",
      "source": [
        "### Аггрегация (has-a)"
      ],
      "metadata": {
        "id": "mzyv023lRvKk"
      }
    },
    {
      "cell_type": "code",
      "source": [
        "class Author(object):\n",
        "  def __init__(self, name):\n",
        "    self.name = name\n",
        "\n",
        "class PieceOfArt(object):\n",
        "  def __init__(self, title, author):\n",
        "    self.title = title\n",
        "    self.author = author\n",
        "\n",
        "  def describe(self):\n",
        "    print(\"this is a {0} created by {1}\".format(self.title, self.author.name))"
      ],
      "metadata": {
        "id": "6qmRS1WqR1Jn"
      },
      "execution_count": 3,
      "outputs": []
    },
    {
      "cell_type": "code",
      "source": [
        "a = Author(\"Ivan\")\n",
        "poa4 = PieceOfArt(\"generic poa\", a)\n",
        "poa4.describe()"
      ],
      "metadata": {
        "id": "9nie3tHEVf4S",
        "colab": {
          "base_uri": "https://localhost:8080/"
        },
        "outputId": "6212180f-e298-4225-c60c-cd3aada34441"
      },
      "execution_count": 4,
      "outputs": [
        {
          "output_type": "stream",
          "name": "stdout",
          "text": [
            "this is a generic poa created by Ivan\n"
          ]
        }
      ]
    },
    {
      "cell_type": "markdown",
      "source": [
        "### Композиция (part-of)"
      ],
      "metadata": {
        "id": "-HvFWE_VRvRI"
      }
    },
    {
      "cell_type": "code",
      "source": [
        "class Score(object):\n",
        "  def __init__(self):\n",
        "    self.side_a = 0\n",
        "    self.side_b = 0\n",
        "\n",
        "  def increase(self, a):\n",
        "    if a:\n",
        "      self.side_a += 1\n",
        "    else:\n",
        "      self.side_b += 1\n",
        "\n",
        "  def get_winner(self):\n",
        "    if self.side_a > self.side_b:\n",
        "      return \"side A\"\n",
        "    elif self.side_a == self.side_b:\n",
        "      return \"both sides\"\n",
        "    else:\n",
        "      return \"side B\"\n",
        "\n",
        "class Game(object):\n",
        "  def __init__(self, title):\n",
        "    self.title = title\n",
        "    self.score = Score()\n",
        "\n",
        "  def start(self):\n",
        "    print(\"start!\")\n",
        "\n",
        "  def end(self):\n",
        "    print(\"end! the winner is {0}\".format(self.score.get_winner()))"
      ],
      "metadata": {
        "id": "cL0lmpA1R1jp"
      },
      "execution_count": 5,
      "outputs": []
    },
    {
      "cell_type": "code",
      "source": [
        "g = Game(\"match 1\")\n",
        "g.start()\n",
        "g.end()"
      ],
      "metadata": {
        "id": "olUBuztLXdyW",
        "colab": {
          "base_uri": "https://localhost:8080/"
        },
        "outputId": "00536381-d525-45cd-916a-654adbd96766"
      },
      "execution_count": 6,
      "outputs": [
        {
          "output_type": "stream",
          "name": "stdout",
          "text": [
            "start!\n",
            "end! the winner is both sides\n"
          ]
        }
      ]
    },
    {
      "cell_type": "markdown",
      "metadata": {
        "id": "gNJoltbK7XJZ"
      },
      "source": [
        "# QoL improvements"
      ]
    },
    {
      "cell_type": "markdown",
      "metadata": {
        "id": "ofRBBb-O7b-X"
      },
      "source": [
        "## Декораторы"
      ]
    },
    {
      "cell_type": "markdown",
      "metadata": {
        "id": "8qlSpFslJ_f5"
      },
      "source": [
        "Обычно есть 3 функции:\n",
        "- декорирующая\n",
        "- декорируемая\n",
        "- та, которой декорируют"
      ]
    },
    {
      "cell_type": "code",
      "metadata": {
        "id": "TlUUePum7bWs",
        "colab": {
          "base_uri": "https://localhost:8080/"
        },
        "outputId": "6c46093b-a39c-478d-d826-2c3cfb6b6aff"
      },
      "source": [
        "def trace(func): # декорирующая\n",
        "  print(\"trace dec\")\n",
        "  def inner(*args, **kwargs): # та, которой декорируют\n",
        "    print(\"calling function:\", func.__name__, \", parameters\", args, kwargs)\n",
        "    return func(*args, **kwargs)\n",
        "  return inner\n",
        "\n",
        "@trace\n",
        "def calc(a, b, **kwargs): # декорируемая\n",
        "  return a + b\n",
        "\n",
        "calc(1,2, p=\"param\")\n",
        "# trace(calc(1,2, p=\"param\"))\n",
        "# ->\n",
        "# inner(1,2, p=\"param\")\n",
        "# ->\n",
        "# calc(1,2, p=\"param\")"
      ],
      "execution_count": 87,
      "outputs": [
        {
          "output_type": "stream",
          "name": "stdout",
          "text": [
            "trace dec\n",
            "calling function: calc , parameters (1, 2) {'p': 'param'}\n"
          ]
        },
        {
          "output_type": "execute_result",
          "data": {
            "text/plain": [
              "3"
            ]
          },
          "metadata": {},
          "execution_count": 87
        }
      ]
    },
    {
      "cell_type": "code",
      "source": [
        "{}"
      ],
      "metadata": {
        "id": "CMAQQcLA1Ayd"
      },
      "execution_count": null,
      "outputs": []
    },
    {
      "cell_type": "markdown",
      "metadata": {
        "id": "jvROXRKhKYPP"
      },
      "source": [
        "Можно, конечно, попробовать обойтись без той, которой декорируют, но особо полезного ничего не выйдет"
      ]
    },
    {
      "cell_type": "code",
      "metadata": {
        "id": "CHFkdAucJrbg",
        "colab": {
          "base_uri": "https://localhost:8080/"
        },
        "outputId": "76c488ac-a8df-49cc-82de-cf5e7e77f68a"
      },
      "source": [
        "def logger(func):\n",
        "  print(\"logging\")\n",
        "  return func\n",
        "\n",
        "@logger\n",
        "def sum(a, b):\n",
        "  return a + b"
      ],
      "execution_count": 85,
      "outputs": [
        {
          "output_type": "stream",
          "name": "stdout",
          "text": [
            "logging\n"
          ]
        }
      ]
    },
    {
      "cell_type": "code",
      "source": [
        "sum(1,2)"
      ],
      "metadata": {
        "id": "5LE6CLbVZbyI",
        "colab": {
          "base_uri": "https://localhost:8080/"
        },
        "outputId": "4ea4cc44-0b8a-403f-b6dc-635fdd051c6f"
      },
      "execution_count": 86,
      "outputs": [
        {
          "output_type": "execute_result",
          "data": {
            "text/plain": [
              "3"
            ]
          },
          "metadata": {},
          "execution_count": 86
        }
      ]
    },
    {
      "cell_type": "markdown",
      "metadata": {
        "id": "rdtufpYXKfG0"
      },
      "source": [
        "Декораторов может быть и много!  \n",
        "При этом выполняются они снизу вверх"
      ]
    },
    {
      "cell_type": "code",
      "metadata": {
        "id": "8r_Ik7-IKewC",
        "colab": {
          "base_uri": "https://localhost:8080/"
        },
        "outputId": "6ea15a4b-55b6-4ef5-a239-61f8cec4e453"
      },
      "source": [
        "def first(func):\n",
        "  print(\"i'm the first\")\n",
        "  return func\n",
        "\n",
        "def second(func):\n",
        "  print(\"i'm the second\")\n",
        "  return func\n",
        "\n",
        "@second\n",
        "@first\n",
        "def last():\n",
        "  print(\"i'm the last\")"
      ],
      "execution_count": 88,
      "outputs": [
        {
          "output_type": "stream",
          "name": "stdout",
          "text": [
            "i'm the first\n",
            "i'm the second\n"
          ]
        }
      ]
    },
    {
      "cell_type": "code",
      "source": [
        "last()"
      ],
      "metadata": {
        "id": "0xSzs08mZHxB"
      },
      "execution_count": null,
      "outputs": []
    },
    {
      "cell_type": "markdown",
      "source": [
        "## Dataclasses"
      ],
      "metadata": {
        "id": "Uwig42JIEC6h"
      }
    },
    {
      "cell_type": "markdown",
      "source": [
        "Делаем самый простой класс"
      ],
      "metadata": {
        "id": "Kr_XBt_TEKkN"
      }
    },
    {
      "cell_type": "code",
      "source": [
        "class Author:\n",
        "  def __init__(self, name, birthday, country=\"Russia\"):\n",
        "    self.name = name\n",
        "    self.birthday = birthday"
      ],
      "metadata": {
        "id": "5ByjqCZnECSu"
      },
      "execution_count": 11,
      "outputs": []
    },
    {
      "cell_type": "code",
      "source": [
        "Author(\"Ivan\", \"01.01.1990\")"
      ],
      "metadata": {
        "colab": {
          "base_uri": "https://localhost:8080/"
        },
        "id": "vfidabs-cPWJ",
        "outputId": "595925e0-093c-43a8-9e0c-dc96d4826fc0"
      },
      "execution_count": 12,
      "outputs": [
        {
          "output_type": "execute_result",
          "data": {
            "text/plain": [
              "<__main__.Author at 0x7febb158bfd0>"
            ]
          },
          "metadata": {},
          "execution_count": 12
        }
      ]
    },
    {
      "cell_type": "markdown",
      "source": [
        "Но можно и не писать это все самим"
      ],
      "metadata": {
        "id": "YatsVp2zET36"
      }
    },
    {
      "cell_type": "code",
      "source": [
        "from dataclasses import dataclass\n",
        "\n",
        "@dataclass\n",
        "class Author:\n",
        "    name: str\n",
        "    birthday: str"
      ],
      "metadata": {
        "id": "ReaF9gY_EXPk"
      },
      "execution_count": 13,
      "outputs": []
    },
    {
      "cell_type": "code",
      "source": [
        "a = Author(\"Ivan\", \"01.01.1990\")\n",
        "print(a)\n",
        "a.name = \"Mike\"\n",
        "print(a)"
      ],
      "metadata": {
        "id": "uAMRQKzcEx_D",
        "colab": {
          "base_uri": "https://localhost:8080/"
        },
        "outputId": "399357d4-2d87-4e1d-dd6d-b42b1cf31624"
      },
      "execution_count": 14,
      "outputs": [
        {
          "output_type": "stream",
          "name": "stdout",
          "text": [
            "Author(name='Ivan', birthday='01.01.1990')\n",
            "Author(name='Mike', birthday='01.01.1990')\n"
          ]
        }
      ]
    },
    {
      "cell_type": "markdown",
      "source": [
        "Есть и значения по умолчанию"
      ],
      "metadata": {
        "id": "xu-W5ENlEqYS"
      }
    },
    {
      "cell_type": "code",
      "source": [
        "@dataclass\n",
        "class Author:\n",
        "    name: str = \"Ivan\"\n",
        "    birthday: str = \"01.01.1990\""
      ],
      "metadata": {
        "id": "-Pr67WztEtHT"
      },
      "execution_count": 15,
      "outputs": []
    },
    {
      "cell_type": "code",
      "source": [
        "a = Author()\n",
        "print(a)"
      ],
      "metadata": {
        "id": "djJYeAkAFHhF",
        "colab": {
          "base_uri": "https://localhost:8080/"
        },
        "outputId": "ce7fdbc6-2a29-441b-e5b8-bbdc1383f7c6"
      },
      "execution_count": 16,
      "outputs": [
        {
          "output_type": "stream",
          "name": "stdout",
          "text": [
            "Author(name='Ivan', birthday='01.01.1990')\n"
          ]
        }
      ]
    },
    {
      "cell_type": "markdown",
      "source": [
        "А если мы хотим иметь иммутабельные экзмепляры?"
      ],
      "metadata": {
        "id": "7yFbHNkwFxp7"
      }
    },
    {
      "cell_type": "code",
      "source": [
        "@dataclass(frozen=True)\n",
        "class Author:\n",
        "    name: str\n",
        "    birthday: str"
      ],
      "metadata": {
        "id": "gvRu7IkTFZl5"
      },
      "execution_count": 17,
      "outputs": []
    },
    {
      "cell_type": "code",
      "source": [
        "a = Author(\"Ivan\", \"01.01.1990\")\n",
        "print(a)"
      ],
      "metadata": {
        "id": "7HfAapTuFrCX",
        "colab": {
          "base_uri": "https://localhost:8080/"
        },
        "outputId": "0a3d419f-0037-4e80-9d80-765f336b7c44"
      },
      "execution_count": 18,
      "outputs": [
        {
          "output_type": "stream",
          "name": "stdout",
          "text": [
            "Author(name='Ivan', birthday='01.01.1990')\n"
          ]
        }
      ]
    },
    {
      "cell_type": "code",
      "source": [
        "a.name = \"Mike\"\n",
        "print(a)"
      ],
      "metadata": {
        "colab": {
          "base_uri": "https://localhost:8080/",
          "height": 228
        },
        "id": "HIScucH8csS1",
        "outputId": "00757079-a86d-450a-93bd-332def3f1388"
      },
      "execution_count": 19,
      "outputs": [
        {
          "output_type": "error",
          "ename": "FrozenInstanceError",
          "evalue": "ignored",
          "traceback": [
            "\u001b[0;31m---------------------------------------------------------------------------\u001b[0m",
            "\u001b[0;31mFrozenInstanceError\u001b[0m                       Traceback (most recent call last)",
            "\u001b[0;32m<ipython-input-19-1bfc9dba396f>\u001b[0m in \u001b[0;36m<cell line: 1>\u001b[0;34m()\u001b[0m\n\u001b[0;32m----> 1\u001b[0;31m \u001b[0ma\u001b[0m\u001b[0;34m.\u001b[0m\u001b[0mname\u001b[0m \u001b[0;34m=\u001b[0m \u001b[0;34m\"Mike\"\u001b[0m\u001b[0;34m\u001b[0m\u001b[0;34m\u001b[0m\u001b[0m\n\u001b[0m\u001b[1;32m      2\u001b[0m \u001b[0mprint\u001b[0m\u001b[0;34m(\u001b[0m\u001b[0ma\u001b[0m\u001b[0;34m)\u001b[0m\u001b[0;34m\u001b[0m\u001b[0;34m\u001b[0m\u001b[0m\n",
            "\u001b[0;32m<string>\u001b[0m in \u001b[0;36m__setattr__\u001b[0;34m(self, name, value)\u001b[0m\n",
            "\u001b[0;31mFrozenInstanceError\u001b[0m: cannot assign to field 'name'"
          ]
        }
      ]
    },
    {
      "cell_type": "markdown",
      "metadata": {
        "id": "KiAgjerw7pWv"
      },
      "source": [
        "## Перегрузка"
      ]
    },
    {
      "cell_type": "code",
      "metadata": {
        "id": "7A6sE_LF7fQg",
        "colab": {
          "base_uri": "https://localhost:8080/"
        },
        "outputId": "75a7c3bb-12fa-40a6-9ca9-05b5a1b6c287"
      },
      "source": [
        "class InsensitiveString():\n",
        "  def __init__(self, string):\n",
        "    self.string = string\n",
        "\n",
        "s1 = InsensitiveString(\"abc\")\n",
        "s2 = InsensitiveString(\"ABC\")\n",
        "print(s1 == s2)\n",
        "print(s1 != s2)"
      ],
      "execution_count": 20,
      "outputs": [
        {
          "output_type": "stream",
          "name": "stdout",
          "text": [
            "False\n",
            "True\n"
          ]
        }
      ]
    },
    {
      "cell_type": "code",
      "metadata": {
        "id": "6QLJNPYFD45q"
      },
      "source": [
        "class InsensitiveString():\n",
        "  def __init__(self, string):\n",
        "    self.string = string\n",
        "\n",
        "  def __eq__(self, other):\n",
        "    return self.string.lower() == other.string.lower()\n",
        "\n",
        "  def __ne__(self, other):\n",
        "    return self.string.lower() != other.string.lower()\n",
        "\n",
        "  def __add__(self, other):\n",
        "    return self.string + other.string\n",
        "\n",
        "  # # нужно задавать, потому что Python сначала пытается сделать self.__add__(other), если не получается, то other.__radd__(self)\n",
        "  def __radd__(self, other):\n",
        "    return other.string + self.string"
      ],
      "execution_count": 26,
      "outputs": []
    },
    {
      "cell_type": "code",
      "metadata": {
        "id": "YnQJ_1qFEO7y",
        "colab": {
          "base_uri": "https://localhost:8080/"
        },
        "outputId": "aec7795c-598d-4014-8615-fe31d00ba75c"
      },
      "source": [
        "s1 = InsensitiveString(\"abc\")\n",
        "s2 = InsensitiveString(\"ABc\")\n",
        "print(s1 == s2)\n",
        "print(s1 != s2)\n",
        "print(s1 + s2)"
      ],
      "execution_count": 27,
      "outputs": [
        {
          "output_type": "stream",
          "name": "stdout",
          "text": [
            "True\n",
            "False\n",
            "abcABc\n"
          ]
        }
      ]
    },
    {
      "cell_type": "code",
      "source": [
        "class Data_1:\n",
        "  pass\n",
        "\n",
        "class Data_2:\n",
        "  def __radd__(self, other):\n",
        "      return 'called reverse +'\n",
        "\n",
        "x = Data_1()\n",
        "y = Data_2()\n",
        "print(x + y)"
      ],
      "metadata": {
        "id": "0RA2mce_aae5",
        "colab": {
          "base_uri": "https://localhost:8080/"
        },
        "outputId": "5545acdf-5c2f-4186-fa06-3a16785b4c5d"
      },
      "execution_count": 31,
      "outputs": [
        {
          "output_type": "stream",
          "name": "stdout",
          "text": [
            "called reverse +\n"
          ]
        }
      ]
    },
    {
      "cell_type": "markdown",
      "metadata": {
        "id": "QBGJFPghBngN"
      },
      "source": [
        "## Сеттеры и Геттеры"
      ]
    },
    {
      "cell_type": "code",
      "metadata": {
        "id": "LN2bZMymBpab"
      },
      "source": [
        "class MyClass():\n",
        "  def __init__(self):\n",
        "    self.value = 0"
      ],
      "execution_count": 32,
      "outputs": []
    },
    {
      "cell_type": "markdown",
      "metadata": {
        "id": "lj0Hj_-pByop"
      },
      "source": [
        "Конечно, мы можем напрямую работать с полем __value__"
      ]
    },
    {
      "cell_type": "code",
      "metadata": {
        "id": "UVz6PufzB4vO",
        "colab": {
          "base_uri": "https://localhost:8080/"
        },
        "outputId": "57b95e5d-c4c1-4431-830c-cafe352d4a66"
      },
      "source": [
        "c = MyClass()\n",
        "c.value += 1\n",
        "print(c.value)"
      ],
      "execution_count": 33,
      "outputs": [
        {
          "output_type": "stream",
          "name": "stdout",
          "text": [
            "1\n"
          ]
        }
      ]
    },
    {
      "cell_type": "markdown",
      "metadata": {
        "id": "5-I9N96xCGOw"
      },
      "source": [
        "Однако в таком случае мы можем случайно изменять значения полей, что может быть критичным. Более того, мы можем хотеть скрыть внутренности класса."
      ]
    },
    {
      "cell_type": "code",
      "metadata": {
        "id": "JUs7mPVyCO8V"
      },
      "source": [
        "class MyProtectedClass():\n",
        "  def __init__(self):\n",
        "    self.__value = 0\n",
        "\n",
        "  def get_value(self):\n",
        "    return self.__value\n",
        "\n",
        "  def set_value(self, new_value):\n",
        "    self.__value = new_value"
      ],
      "execution_count": 34,
      "outputs": []
    },
    {
      "cell_type": "code",
      "metadata": {
        "id": "Vf8xdPWMCkZ7",
        "colab": {
          "base_uri": "https://localhost:8080/"
        },
        "outputId": "3f8fea2d-995e-4b09-fb12-77914e32371f"
      },
      "source": [
        "c = MyProtectedClass()\n",
        "c.set_value(5)\n",
        "c.get_value()"
      ],
      "execution_count": 35,
      "outputs": [
        {
          "output_type": "execute_result",
          "data": {
            "text/plain": [
              "5"
            ]
          },
          "metadata": {},
          "execution_count": 35
        }
      ]
    },
    {
      "cell_type": "markdown",
      "metadata": {
        "id": "qEBm8BTQ7nDN"
      },
      "source": [
        "## Значения по умолчанию"
      ]
    },
    {
      "cell_type": "markdown",
      "metadata": {
        "id": "zauC7YyEGgsn"
      },
      "source": [
        "Для аргументов можно указывать значение по умолчанию"
      ]
    },
    {
      "cell_type": "code",
      "metadata": {
        "id": "RoU6SwMC7tUd",
        "colab": {
          "base_uri": "https://localhost:8080/"
        },
        "outputId": "72483b6d-d645-42bf-a188-1fbc1724ff2e"
      },
      "source": [
        "def predefined(a, b, c = 3):\n",
        "  print(a, b, c)\n",
        "\n",
        "predefined(1,2)\n",
        "predefined(3,4,5)"
      ],
      "execution_count": 37,
      "outputs": [
        {
          "output_type": "stream",
          "name": "stdout",
          "text": [
            "1 2 3\n",
            "3 4 5\n"
          ]
        }
      ]
    },
    {
      "cell_type": "markdown",
      "metadata": {
        "id": "8R15o-e6GkZH"
      },
      "source": [
        "Но они обязательно идут после аргументов без значения по умолчанию"
      ]
    },
    {
      "cell_type": "code",
      "metadata": {
        "id": "wwkn-EuIGl69",
        "colab": {
          "base_uri": "https://localhost:8080/",
          "height": 141
        },
        "outputId": "60ee8a36-5fe4-4f78-d3e3-c35f0462b4e0"
      },
      "source": [
        "def predefined(a = 1, b, c = 3):\n",
        "  print(a, b, c)\n",
        "\n",
        "predefined(1,2)\n",
        "predefined(3,4,5)"
      ],
      "execution_count": 38,
      "outputs": [
        {
          "output_type": "error",
          "ename": "SyntaxError",
          "evalue": "ignored",
          "traceback": [
            "\u001b[0;36m  File \u001b[0;32m\"<ipython-input-38-e1e447525876>\"\u001b[0;36m, line \u001b[0;32m1\u001b[0m\n\u001b[0;31m    def predefined(a = 1, b, c = 3):\u001b[0m\n\u001b[0m                          ^\u001b[0m\n\u001b[0;31mSyntaxError\u001b[0m\u001b[0;31m:\u001b[0m non-default argument follows default argument\n"
          ]
        }
      ]
    },
    {
      "cell_type": "markdown",
      "metadata": {
        "id": "6a5FaLaj7eYZ"
      },
      "source": [
        "## Произвольные аргументы"
      ]
    },
    {
      "cell_type": "markdown",
      "metadata": {
        "id": "6psJxbm7GMMb"
      },
      "source": [
        "Перед массивом произвольных неименованных аргументов может быть что угодно"
      ]
    },
    {
      "cell_type": "code",
      "metadata": {
        "id": "ZBQ_mnw97k8R"
      },
      "source": [
        "def multiplier(start, *args):\n",
        "  for arg in args:\n",
        "    start *= arg\n",
        "  return start"
      ],
      "execution_count": 39,
      "outputs": []
    },
    {
      "cell_type": "code",
      "source": [
        "print(multiplier(5))\n",
        "print(multiplier(0,2,3,4))\n",
        "print(multiplier(5,2,3,4,10,1))"
      ],
      "metadata": {
        "colab": {
          "base_uri": "https://localhost:8080/"
        },
        "id": "CD-Ze1I2frB9",
        "outputId": "e589733f-af7a-4341-84de-6590164f4338"
      },
      "execution_count": 41,
      "outputs": [
        {
          "output_type": "stream",
          "name": "stdout",
          "text": [
            "5\n",
            "0\n",
            "1200\n"
          ]
        }
      ]
    },
    {
      "cell_type": "markdown",
      "metadata": {
        "id": "Q8MlIUrOGSPY"
      },
      "source": [
        "После массива также можно указать аргументы, но обращатсья к ним можно только по имени"
      ]
    },
    {
      "cell_type": "code",
      "metadata": {
        "id": "SFlKi7I1F5Dx"
      },
      "source": [
        "def multiplier2(start, *args, end):\n",
        "  res = start\n",
        "  for arg in args:\n",
        "    res *= arg\n",
        "  return res + end"
      ],
      "execution_count": 42,
      "outputs": []
    },
    {
      "cell_type": "code",
      "metadata": {
        "id": "1ZmoFAGCGCa9",
        "colab": {
          "base_uri": "https://localhost:8080/",
          "height": 176
        },
        "outputId": "d1244332-66c6-4ce0-d38c-05ecd591d606"
      },
      "source": [
        "multiplier2(1,2,3,4)"
      ],
      "execution_count": 43,
      "outputs": [
        {
          "output_type": "error",
          "ename": "TypeError",
          "evalue": "ignored",
          "traceback": [
            "\u001b[0;31m---------------------------------------------------------------------------\u001b[0m",
            "\u001b[0;31mTypeError\u001b[0m                                 Traceback (most recent call last)",
            "\u001b[0;32m<ipython-input-43-db01573cf029>\u001b[0m in \u001b[0;36m<cell line: 1>\u001b[0;34m()\u001b[0m\n\u001b[0;32m----> 1\u001b[0;31m \u001b[0mmultiplier2\u001b[0m\u001b[0;34m(\u001b[0m\u001b[0;36m1\u001b[0m\u001b[0;34m,\u001b[0m\u001b[0;36m2\u001b[0m\u001b[0;34m,\u001b[0m\u001b[0;36m3\u001b[0m\u001b[0;34m,\u001b[0m\u001b[0;36m4\u001b[0m\u001b[0;34m)\u001b[0m\u001b[0;34m\u001b[0m\u001b[0;34m\u001b[0m\u001b[0m\n\u001b[0m",
            "\u001b[0;31mTypeError\u001b[0m: multiplier2() missing 1 required keyword-only argument: 'end'"
          ]
        }
      ]
    },
    {
      "cell_type": "code",
      "metadata": {
        "id": "sOnEc7niGCdw",
        "colab": {
          "base_uri": "https://localhost:8080/"
        },
        "outputId": "4b563cbf-44ff-45e3-d02c-58f5b7583d5d"
      },
      "source": [
        "multiplier2(1,2,3,end=4)"
      ],
      "execution_count": 44,
      "outputs": [
        {
          "output_type": "execute_result",
          "data": {
            "text/plain": [
              "10"
            ]
          },
          "metadata": {},
          "execution_count": 44
        }
      ]
    },
    {
      "cell_type": "markdown",
      "metadata": {
        "id": "S4uWLCTmItY-"
      },
      "source": [
        "Можно также задавать массив именованных аргументов"
      ]
    },
    {
      "cell_type": "code",
      "metadata": {
        "id": "w38UsjqLIszj",
        "colab": {
          "base_uri": "https://localhost:8080/"
        },
        "outputId": "ae80428a-19f1-46a9-ad8e-7676a0c93fb9"
      },
      "source": [
        "def summer(start, **kwargs):\n",
        "  return start + kwargs[\"end\"]\n",
        "\n",
        "print(summer(\"s\", middle=\"middle\", middle2=\"m2\", end=\"end\"))"
      ],
      "execution_count": 51,
      "outputs": [
        {
          "output_type": "stream",
          "name": "stdout",
          "text": [
            "send\n"
          ]
        }
      ]
    },
    {
      "cell_type": "markdown",
      "metadata": {
        "id": "SqXxhul_72aV"
      },
      "source": [
        "## Указание типов"
      ]
    },
    {
      "cell_type": "markdown",
      "metadata": {
        "id": "Rf2VVajaG8Qk"
      },
      "source": [
        "Мы можем писать, какие мы ожидаем увидеть типы у аргументов и результатов"
      ]
    },
    {
      "cell_type": "code",
      "source": [
        "import math"
      ],
      "metadata": {
        "id": "J4KbxfCSmuXH"
      },
      "execution_count": 55,
      "outputs": []
    },
    {
      "cell_type": "code",
      "metadata": {
        "id": "8ouXRbz374nJ"
      },
      "source": [
        "def power(value_1: int, value_2: int) -> int:\n",
        "  return math.pow(value_1, value_2)"
      ],
      "execution_count": 56,
      "outputs": []
    },
    {
      "cell_type": "code",
      "metadata": {
        "id": "gCADWDO7H5ve",
        "colab": {
          "base_uri": "https://localhost:8080/"
        },
        "outputId": "1c879171-3aa9-4030-ff8d-cf98d6862aea"
      },
      "source": [
        "print(power(2, 3))"
      ],
      "execution_count": 57,
      "outputs": [
        {
          "output_type": "stream",
          "name": "stdout",
          "text": [
            "8.0\n"
          ]
        }
      ]
    },
    {
      "cell_type": "markdown",
      "metadata": {
        "id": "TAtd-XTvH95R"
      },
      "source": [
        "Но это все просто комментарии.."
      ]
    },
    {
      "cell_type": "code",
      "metadata": {
        "id": "zqVK-kQGH5y9",
        "colab": {
          "base_uri": "https://localhost:8080/",
          "height": 245
        },
        "outputId": "76e52cbd-5942-47f6-ff5b-e7b8b34641c3"
      },
      "source": [
        "print(power(\"s\", 3))"
      ],
      "execution_count": 58,
      "outputs": [
        {
          "output_type": "error",
          "ename": "TypeError",
          "evalue": "ignored",
          "traceback": [
            "\u001b[0;31m---------------------------------------------------------------------------\u001b[0m",
            "\u001b[0;31mTypeError\u001b[0m                                 Traceback (most recent call last)",
            "\u001b[0;32m<ipython-input-58-49defa5c9b6e>\u001b[0m in \u001b[0;36m<cell line: 1>\u001b[0;34m()\u001b[0m\n\u001b[0;32m----> 1\u001b[0;31m \u001b[0mprint\u001b[0m\u001b[0;34m(\u001b[0m\u001b[0mpower\u001b[0m\u001b[0;34m(\u001b[0m\u001b[0;34m\"s\"\u001b[0m\u001b[0;34m,\u001b[0m \u001b[0;36m3\u001b[0m\u001b[0;34m)\u001b[0m\u001b[0;34m)\u001b[0m\u001b[0;34m\u001b[0m\u001b[0;34m\u001b[0m\u001b[0m\n\u001b[0m",
            "\u001b[0;32m<ipython-input-56-a1fe6824fbf7>\u001b[0m in \u001b[0;36mpower\u001b[0;34m(value_1, value_2)\u001b[0m\n\u001b[1;32m      1\u001b[0m \u001b[0;32mdef\u001b[0m \u001b[0mpower\u001b[0m\u001b[0;34m(\u001b[0m\u001b[0mvalue_1\u001b[0m\u001b[0;34m:\u001b[0m \u001b[0mint\u001b[0m\u001b[0;34m,\u001b[0m \u001b[0mvalue_2\u001b[0m\u001b[0;34m:\u001b[0m \u001b[0mint\u001b[0m\u001b[0;34m)\u001b[0m \u001b[0;34m->\u001b[0m \u001b[0mint\u001b[0m\u001b[0;34m:\u001b[0m\u001b[0;34m\u001b[0m\u001b[0;34m\u001b[0m\u001b[0m\n\u001b[0;32m----> 2\u001b[0;31m   \u001b[0;32mreturn\u001b[0m \u001b[0mmath\u001b[0m\u001b[0;34m.\u001b[0m\u001b[0mpow\u001b[0m\u001b[0;34m(\u001b[0m\u001b[0mvalue_1\u001b[0m\u001b[0;34m,\u001b[0m \u001b[0mvalue_2\u001b[0m\u001b[0;34m)\u001b[0m\u001b[0;34m\u001b[0m\u001b[0;34m\u001b[0m\u001b[0m\n\u001b[0m",
            "\u001b[0;31mTypeError\u001b[0m: must be real number, not str"
          ]
        }
      ]
    },
    {
      "cell_type": "markdown",
      "metadata": {
        "id": "hPJSYj448CYO"
      },
      "source": [
        "## Имена"
      ]
    },
    {
      "cell_type": "markdown",
      "metadata": {
        "id": "xu1O4FI3RSCM"
      },
      "source": [
        "Именование переменных, функций, классов - важная вещь. По идее, одного взгляда на них должно быть достаточно доя того, чтобы понять, для чего они существуют"
      ]
    },
    {
      "cell_type": "code",
      "metadata": {
        "id": "NJcikgdd8Bzt"
      },
      "source": [
        "def func(a, b):\n",
        "  return [x * y for x in a for y in b]\n",
        "\n",
        "def array_zipper(source, source_2):\n",
        "  return [x * y for x in source for y in source_2]"
      ],
      "execution_count": 59,
      "outputs": []
    },
    {
      "cell_type": "code",
      "metadata": {
        "id": "bZyZt4FASE8H",
        "colab": {
          "base_uri": "https://localhost:8080/"
        },
        "outputId": "28b2f00e-a916-4235-fc36-59cc274ee114"
      },
      "source": [
        "a = [1,2,3]\n",
        "b = [2,4]\n",
        "print(func(a, b))"
      ],
      "execution_count": 60,
      "outputs": [
        {
          "output_type": "stream",
          "name": "stdout",
          "text": [
            "[2, 4, 4, 8, 6, 12]\n"
          ]
        }
      ]
    },
    {
      "cell_type": "code",
      "source": [
        "print(array_zipper(a, b))"
      ],
      "metadata": {
        "colab": {
          "base_uri": "https://localhost:8080/"
        },
        "id": "qqbeVHK2nQOt",
        "outputId": "dceb297b-1441-4273-8fea-700fb2c2711e"
      },
      "execution_count": 61,
      "outputs": [
        {
          "output_type": "stream",
          "name": "stdout",
          "text": [
            "[2, 4, 4, 8, 6, 12]\n"
          ]
        }
      ]
    },
    {
      "cell_type": "code",
      "metadata": {
        "id": "VWR8HtglIIk_"
      },
      "source": [
        "for range_counter in range(0, 10):\n",
        "  range_counter += 1\n",
        "  pass"
      ],
      "execution_count": null,
      "outputs": []
    },
    {
      "cell_type": "markdown",
      "metadata": {
        "id": "9EUOCTY-S25V"
      },
      "source": [
        "При этом очевидно, что все очень сильно зависит от того, какое время жизни у переменной - если переменная нужна лишь на одной строке, нет ничего зазорного в том, чтобы назвать ее __a__ или __x__"
      ]
    },
    {
      "cell_type": "markdown",
      "metadata": {
        "id": "4po8kQ8o986n"
      },
      "source": [
        "## Контекст"
      ]
    },
    {
      "cell_type": "markdown",
      "metadata": {
        "id": "pBPSE2ITAJbR"
      },
      "source": [
        "Обычно контекст используют при работе с файлами:"
      ]
    },
    {
      "cell_type": "code",
      "metadata": {
        "id": "WEtgrhI09-9n"
      },
      "source": [
        "f = open(\"test.txt\", \"w\")\n",
        "f.write(\"test line\")\n",
        "f.close()\n",
        "\n",
        "with open(\"test2.txt\", \"w\") as f:\n",
        "  f.write(\"test line\")"
      ],
      "execution_count": null,
      "outputs": []
    },
    {
      "cell_type": "markdown",
      "metadata": {
        "id": "0Ig7NNrXAMiU"
      },
      "source": [
        "Но на самом деле мы можем написать свой менеджер контекста:"
      ]
    },
    {
      "cell_type": "code",
      "metadata": {
        "id": "hgZ5FSEkAO7y",
        "colab": {
          "base_uri": "https://localhost:8080/"
        },
        "outputId": "6fbfc48f-85f9-4508-802e-906ab4eb4690"
      },
      "source": [
        "class Manager():\n",
        "    def __enter__(self):\n",
        "        print(\"enter\")\n",
        "    def __exit__(self, type, value, traceback):\n",
        "        print(\"exit\")\n",
        "\n",
        "with Manager() as m:\n",
        "  print(\"managing\")"
      ],
      "execution_count": 96,
      "outputs": [
        {
          "output_type": "stream",
          "name": "stdout",
          "text": [
            "enter\n",
            "managing\n",
            "exit\n"
          ]
        }
      ]
    },
    {
      "cell_type": "markdown",
      "metadata": {
        "id": "lXw5NUjd8kOP"
      },
      "source": [
        "## Pattern matching (Python 3.10+)"
      ]
    },
    {
      "cell_type": "code",
      "metadata": {
        "id": "Bpy5asoL8kZa"
      },
      "source": [
        "def do_stuff_v1(value):\n",
        "  if value == \"a\":\n",
        "    print(1)\n",
        "  elif value == \"b\":\n",
        "    print(2)\n",
        "  elif value == \"c\":\n",
        "    print(3)\n",
        "  else:\n",
        "    print(0)"
      ],
      "execution_count": 46,
      "outputs": []
    },
    {
      "cell_type": "code",
      "metadata": {
        "id": "w5UAUEYR88tB",
        "colab": {
          "base_uri": "https://localhost:8080/"
        },
        "outputId": "832f897c-a14b-4a5e-9521-f0cf811f7920"
      },
      "source": [
        "do_stuff_v1(\"a\")\n",
        "do_stuff_v1(\"asd\")"
      ],
      "execution_count": 47,
      "outputs": [
        {
          "output_type": "stream",
          "name": "stdout",
          "text": [
            "1\n",
            "0\n"
          ]
        }
      ]
    },
    {
      "cell_type": "code",
      "metadata": {
        "id": "WHVx4GJd9Bkv"
      },
      "source": [
        "def do_stuff_v2(value):\n",
        "  match value:\n",
        "    case \"a\":\n",
        "      print(1)\n",
        "    case \"b\":\n",
        "      print(2)\n",
        "    case \"c\":\n",
        "      print(3)\n",
        "    case _:\n",
        "      print(0)"
      ],
      "execution_count": 48,
      "outputs": []
    },
    {
      "cell_type": "code",
      "source": [
        "do_stuff_v2(\"a\")\n",
        "do_stuff_v2(\"asd\")"
      ],
      "metadata": {
        "colab": {
          "base_uri": "https://localhost:8080/"
        },
        "id": "SO_IxWDbPAwi",
        "outputId": "fb51b747-4e31-4e66-fc63-0c36c4b2fd5a"
      },
      "execution_count": 49,
      "outputs": [
        {
          "output_type": "stream",
          "name": "stdout",
          "text": [
            "1\n",
            "0\n"
          ]
        }
      ]
    },
    {
      "cell_type": "markdown",
      "metadata": {
        "id": "ELcBs6J982X2"
      },
      "source": [
        "## Кэширование"
      ]
    },
    {
      "cell_type": "markdown",
      "metadata": {
        "id": "seYLmYlPLCPE"
      },
      "source": [
        "Часто нам необходимо долго обрабатывать данные, при этом входные данные могут повторяться. Для того, чтобы сэкономить себе время, мы можем сделать себе кэш"
      ]
    },
    {
      "cell_type": "code",
      "source": [
        "import time"
      ],
      "metadata": {
        "id": "KxByeUKrxW68"
      },
      "execution_count": 78,
      "outputs": []
    },
    {
      "cell_type": "code",
      "metadata": {
        "id": "a9UUEboy87On"
      },
      "source": [
        "def compute_output(input):\n",
        "  time.sleep(2)\n",
        "  return input * 10\n",
        "\n",
        "def compute(input):\n",
        "  # if input in cache.keys():\n",
        "  #   return cache[input]\n",
        "  output = compute_output(input)\n",
        "  # cache[input] = output\n",
        "  return output"
      ],
      "execution_count": 76,
      "outputs": []
    },
    {
      "cell_type": "code",
      "metadata": {
        "id": "7JfDX3eQLsA3",
        "colab": {
          "base_uri": "https://localhost:8080/",
          "height": 70
        },
        "outputId": "fd27f5b8-dfcf-4f4f-9870-795cfb05daae"
      },
      "source": [
        "%%time\n",
        "compute(\"a\")"
      ],
      "execution_count": 79,
      "outputs": [
        {
          "output_type": "stream",
          "name": "stdout",
          "text": [
            "CPU times: user 11.5 ms, sys: 952 µs, total: 12.5 ms\n",
            "Wall time: 2 s\n"
          ]
        },
        {
          "output_type": "execute_result",
          "data": {
            "text/plain": [
              "'aaaaaaaaaa'"
            ],
            "application/vnd.google.colaboratory.intrinsic+json": {
              "type": "string"
            }
          },
          "metadata": {},
          "execution_count": 79
        }
      ]
    },
    {
      "cell_type": "code",
      "metadata": {
        "id": "8-ZLrwgQME9h",
        "colab": {
          "base_uri": "https://localhost:8080/",
          "height": 70
        },
        "outputId": "755fdcfd-7d8a-49db-899d-7cf86c22d696"
      },
      "source": [
        "%%time\n",
        "compute(\"a\")"
      ],
      "execution_count": 80,
      "outputs": [
        {
          "output_type": "stream",
          "name": "stdout",
          "text": [
            "CPU times: user 11.5 ms, sys: 1.3 ms, total: 12.8 ms\n",
            "Wall time: 2 s\n"
          ]
        },
        {
          "output_type": "execute_result",
          "data": {
            "text/plain": [
              "'aaaaaaaaaa'"
            ],
            "application/vnd.google.colaboratory.intrinsic+json": {
              "type": "string"
            }
          },
          "metadata": {},
          "execution_count": 80
        }
      ]
    },
    {
      "cell_type": "code",
      "source": [
        "cache = {} # ключ - input, значение - output\n",
        "\n",
        "def compute(input):\n",
        "  if input in cache.keys():\n",
        "    return cache[input]\n",
        "  output = compute_output(input)\n",
        "  cache[input] = output\n",
        "  return output"
      ],
      "metadata": {
        "id": "OZXVJb6cxfj1"
      },
      "execution_count": 81,
      "outputs": []
    },
    {
      "cell_type": "code",
      "source": [
        "%%time\n",
        "compute(\"b\")"
      ],
      "metadata": {
        "colab": {
          "base_uri": "https://localhost:8080/",
          "height": 70
        },
        "id": "YQpV-QGWxvD-",
        "outputId": "b4e37d2c-71ed-48fd-e668-df716b32b27f"
      },
      "execution_count": 82,
      "outputs": [
        {
          "output_type": "stream",
          "name": "stdout",
          "text": [
            "CPU times: user 11.4 ms, sys: 3.43 ms, total: 14.9 ms\n",
            "Wall time: 2 s\n"
          ]
        },
        {
          "output_type": "execute_result",
          "data": {
            "text/plain": [
              "'bbbbbbbbbb'"
            ],
            "application/vnd.google.colaboratory.intrinsic+json": {
              "type": "string"
            }
          },
          "metadata": {},
          "execution_count": 82
        }
      ]
    },
    {
      "cell_type": "code",
      "source": [
        "%%time\n",
        "compute(\"b\")"
      ],
      "metadata": {
        "colab": {
          "base_uri": "https://localhost:8080/",
          "height": 70
        },
        "id": "-TBZdXyYxvGX",
        "outputId": "d2d57a2a-4932-433c-bdcb-d338be32c7bb"
      },
      "execution_count": 83,
      "outputs": [
        {
          "output_type": "stream",
          "name": "stdout",
          "text": [
            "CPU times: user 8 µs, sys: 1e+03 ns, total: 9 µs\n",
            "Wall time: 13.6 µs\n"
          ]
        },
        {
          "output_type": "execute_result",
          "data": {
            "text/plain": [
              "'bbbbbbbbbb'"
            ],
            "application/vnd.google.colaboratory.intrinsic+json": {
              "type": "string"
            }
          },
          "metadata": {},
          "execution_count": 83
        }
      ]
    },
    {
      "cell_type": "markdown",
      "metadata": {
        "id": "1trd4WZxA5s0"
      },
      "source": [
        "## Работа с исключениями"
      ]
    },
    {
      "cell_type": "code",
      "source": [
        "def divider(a, b):\n",
        "  if b == 0:\n",
        "    return None, \"b == 0\"\n",
        "  return a/b, None"
      ],
      "metadata": {
        "id": "eIMqbLu_rrbq"
      },
      "execution_count": null,
      "outputs": []
    },
    {
      "cell_type": "markdown",
      "metadata": {
        "id": "ZqJvatgsN3fQ"
      },
      "source": [
        "Иногда мы хотим написать простую функцию"
      ]
    },
    {
      "cell_type": "code",
      "metadata": {
        "id": "P83-VeGxA7KR"
      },
      "source": [
        "def divider(a, b):\n",
        "  res = a / b\n",
        "  return res"
      ],
      "execution_count": 63,
      "outputs": []
    },
    {
      "cell_type": "markdown",
      "metadata": {
        "id": "hsJPnKzSOBSv"
      },
      "source": [
        "Но что-то может пойти не так"
      ]
    },
    {
      "cell_type": "code",
      "metadata": {
        "id": "As0Ue1VRNV0A",
        "colab": {
          "base_uri": "https://localhost:8080/",
          "height": 263
        },
        "outputId": "86ead6a7-4fab-4e51-c82c-4acbabbd35ec"
      },
      "source": [
        "print(divider(1, 0))"
      ],
      "execution_count": 64,
      "outputs": [
        {
          "output_type": "error",
          "ename": "ZeroDivisionError",
          "evalue": "ignored",
          "traceback": [
            "\u001b[0;31m---------------------------------------------------------------------------\u001b[0m",
            "\u001b[0;31mZeroDivisionError\u001b[0m                         Traceback (most recent call last)",
            "\u001b[0;32m<ipython-input-64-8d28da81ed76>\u001b[0m in \u001b[0;36m<cell line: 1>\u001b[0;34m()\u001b[0m\n\u001b[0;32m----> 1\u001b[0;31m \u001b[0mprint\u001b[0m\u001b[0;34m(\u001b[0m\u001b[0mdivider\u001b[0m\u001b[0;34m(\u001b[0m\u001b[0;36m1\u001b[0m\u001b[0;34m,\u001b[0m \u001b[0;36m0\u001b[0m\u001b[0;34m)\u001b[0m\u001b[0;34m)\u001b[0m\u001b[0;34m\u001b[0m\u001b[0;34m\u001b[0m\u001b[0m\n\u001b[0m",
            "\u001b[0;32m<ipython-input-63-35951b9dd3ba>\u001b[0m in \u001b[0;36mdivider\u001b[0;34m(a, b)\u001b[0m\n\u001b[1;32m      1\u001b[0m \u001b[0;32mdef\u001b[0m \u001b[0mdivider\u001b[0m\u001b[0;34m(\u001b[0m\u001b[0ma\u001b[0m\u001b[0;34m,\u001b[0m \u001b[0mb\u001b[0m\u001b[0;34m)\u001b[0m\u001b[0;34m:\u001b[0m\u001b[0;34m\u001b[0m\u001b[0;34m\u001b[0m\u001b[0m\n\u001b[0;32m----> 2\u001b[0;31m   \u001b[0mres\u001b[0m \u001b[0;34m=\u001b[0m \u001b[0ma\u001b[0m \u001b[0;34m/\u001b[0m \u001b[0mb\u001b[0m\u001b[0;34m\u001b[0m\u001b[0;34m\u001b[0m\u001b[0m\n\u001b[0m\u001b[1;32m      3\u001b[0m   \u001b[0;32mreturn\u001b[0m \u001b[0mres\u001b[0m\u001b[0;34m\u001b[0m\u001b[0;34m\u001b[0m\u001b[0m\n",
            "\u001b[0;31mZeroDivisionError\u001b[0m: division by zero"
          ]
        }
      ]
    },
    {
      "cell_type": "markdown",
      "metadata": {
        "id": "ryhx8LyTOB_5"
      },
      "source": [
        "Для того, чтобы уберечь себя, мы можем использовать конструкцию try-except:\n",
        "- try - что пытаемся сделать\n",
        "- except - какие исключения пытаемся ловить и что делаем, если их поймаем\n",
        "- else - что делаем, если не словили ошибку\n",
        "- finally - что делаем при любом исходе"
      ]
    },
    {
      "cell_type": "code",
      "metadata": {
        "id": "mzr40ZRFNZQ5"
      },
      "source": [
        "def safe_divider(a, b):\n",
        "  try:\n",
        "    res = a / b\n",
        "  except ZeroDivisionError:\n",
        "    print(\"unsafe division!\")\n",
        "    res = 0\n",
        "  else:\n",
        "    print(\"safe division!\")\n",
        "  finally:\n",
        "    return res"
      ],
      "execution_count": 65,
      "outputs": []
    },
    {
      "cell_type": "code",
      "metadata": {
        "id": "BgUWeRVXN1P2",
        "colab": {
          "base_uri": "https://localhost:8080/"
        },
        "outputId": "38c70059-3574-43af-9979-2ebc638a3fcc"
      },
      "source": [
        "print(safe_divider(1,1))"
      ],
      "execution_count": 66,
      "outputs": [
        {
          "output_type": "stream",
          "name": "stdout",
          "text": [
            "safe division!\n",
            "1.0\n"
          ]
        }
      ]
    },
    {
      "cell_type": "code",
      "metadata": {
        "id": "FYRnxak_N1rF",
        "colab": {
          "base_uri": "https://localhost:8080/"
        },
        "outputId": "c246898e-db56-4232-a76d-b8b518e50585"
      },
      "source": [
        "print(safe_divider(1,0))"
      ],
      "execution_count": 67,
      "outputs": [
        {
          "output_type": "stream",
          "name": "stdout",
          "text": [
            "unsafe division!\n",
            "0\n"
          ]
        }
      ]
    },
    {
      "cell_type": "markdown",
      "source": [
        "Исключения можно создавать и самим"
      ],
      "metadata": {
        "id": "l269fl57SXiw"
      }
    },
    {
      "cell_type": "code",
      "source": [
        "def exceptional_func():\n",
        "  raise ValueError(\"test\")"
      ],
      "metadata": {
        "id": "d4BnRUHkSVPi"
      },
      "execution_count": 71,
      "outputs": []
    },
    {
      "cell_type": "code",
      "source": [
        "exceptional_func()"
      ],
      "metadata": {
        "colab": {
          "base_uri": "https://localhost:8080/",
          "height": 245
        },
        "id": "Ft3B_KAXs7cX",
        "outputId": "2d46fb08-2a67-4fe7-c434-130f6d350f33"
      },
      "execution_count": 72,
      "outputs": [
        {
          "output_type": "error",
          "ename": "ValueError",
          "evalue": "ignored",
          "traceback": [
            "\u001b[0;31m---------------------------------------------------------------------------\u001b[0m",
            "\u001b[0;31mValueError\u001b[0m                                Traceback (most recent call last)",
            "\u001b[0;32m<ipython-input-72-430e3e2f268b>\u001b[0m in \u001b[0;36m<cell line: 1>\u001b[0;34m()\u001b[0m\n\u001b[0;32m----> 1\u001b[0;31m \u001b[0mexceptional_func\u001b[0m\u001b[0;34m(\u001b[0m\u001b[0;34m)\u001b[0m\u001b[0;34m\u001b[0m\u001b[0;34m\u001b[0m\u001b[0m\n\u001b[0m",
            "\u001b[0;32m<ipython-input-71-4faeb4a0d8ba>\u001b[0m in \u001b[0;36mexceptional_func\u001b[0;34m()\u001b[0m\n\u001b[1;32m      1\u001b[0m \u001b[0;32mdef\u001b[0m \u001b[0mexceptional_func\u001b[0m\u001b[0;34m(\u001b[0m\u001b[0;34m)\u001b[0m\u001b[0;34m:\u001b[0m\u001b[0;34m\u001b[0m\u001b[0;34m\u001b[0m\u001b[0m\n\u001b[0;32m----> 2\u001b[0;31m   \u001b[0;32mraise\u001b[0m \u001b[0mValueError\u001b[0m\u001b[0;34m(\u001b[0m\u001b[0;34m\"test\"\u001b[0m\u001b[0;34m)\u001b[0m\u001b[0;34m\u001b[0m\u001b[0;34m\u001b[0m\u001b[0m\n\u001b[0m",
            "\u001b[0;31mValueError\u001b[0m: test"
          ]
        }
      ]
    },
    {
      "cell_type": "code",
      "source": [
        "class MyException(Exception):\n",
        "  pass\n",
        "\n",
        "def my_exceptional_func():\n",
        "  raise MyException(\"my message\")"
      ],
      "metadata": {
        "id": "j0Qby3fxSWgJ"
      },
      "execution_count": 73,
      "outputs": []
    },
    {
      "cell_type": "code",
      "source": [
        "my_exceptional_func()"
      ],
      "metadata": {
        "colab": {
          "base_uri": "https://localhost:8080/",
          "height": 263
        },
        "id": "5OsXAktctM0R",
        "outputId": "b58b2222-db05-47e7-d35c-69f90ea42d58"
      },
      "execution_count": 74,
      "outputs": [
        {
          "output_type": "error",
          "ename": "MyException",
          "evalue": "ignored",
          "traceback": [
            "\u001b[0;31m---------------------------------------------------------------------------\u001b[0m",
            "\u001b[0;31mMyException\u001b[0m                               Traceback (most recent call last)",
            "\u001b[0;32m<ipython-input-74-14ccce316df5>\u001b[0m in \u001b[0;36m<cell line: 1>\u001b[0;34m()\u001b[0m\n\u001b[0;32m----> 1\u001b[0;31m \u001b[0mmy_exceptional_func\u001b[0m\u001b[0;34m(\u001b[0m\u001b[0;34m)\u001b[0m\u001b[0;34m\u001b[0m\u001b[0;34m\u001b[0m\u001b[0m\n\u001b[0m",
            "\u001b[0;32m<ipython-input-73-3e0ac80266d7>\u001b[0m in \u001b[0;36mmy_exceptional_func\u001b[0;34m()\u001b[0m\n\u001b[1;32m      3\u001b[0m \u001b[0;34m\u001b[0m\u001b[0m\n\u001b[1;32m      4\u001b[0m \u001b[0;32mdef\u001b[0m \u001b[0mmy_exceptional_func\u001b[0m\u001b[0;34m(\u001b[0m\u001b[0;34m)\u001b[0m\u001b[0;34m:\u001b[0m\u001b[0;34m\u001b[0m\u001b[0;34m\u001b[0m\u001b[0m\n\u001b[0;32m----> 5\u001b[0;31m   \u001b[0;32mraise\u001b[0m \u001b[0mMyException\u001b[0m\u001b[0;34m(\u001b[0m\u001b[0;34m\"my message\"\u001b[0m\u001b[0;34m)\u001b[0m\u001b[0;34m\u001b[0m\u001b[0;34m\u001b[0m\u001b[0m\n\u001b[0m",
            "\u001b[0;31mMyException\u001b[0m: my message"
          ]
        }
      ]
    },
    {
      "cell_type": "code",
      "source": [
        "MyException.mro()"
      ],
      "metadata": {
        "colab": {
          "base_uri": "https://localhost:8080/"
        },
        "id": "476fbzr8tUxM",
        "outputId": "2918344a-c718-4a0e-f88d-05184f047806"
      },
      "execution_count": 75,
      "outputs": [
        {
          "output_type": "execute_result",
          "data": {
            "text/plain": [
              "[__main__.MyException, Exception, BaseException, object]"
            ]
          },
          "metadata": {},
          "execution_count": 75
        }
      ]
    },
    {
      "cell_type": "markdown",
      "metadata": {
        "id": "TTa-vMg2Bi4y"
      },
      "source": [
        "## Итераторы"
      ]
    },
    {
      "cell_type": "markdown",
      "metadata": {
        "id": "ZXEuq5Z5Orob"
      },
      "source": [
        "Итераторы нужны для того, чтобы можно было удобно проходить по элементам некоей сущности. Обычно при проходе по элементам списка мы делаем так:"
      ]
    },
    {
      "cell_type": "code",
      "metadata": {
        "id": "4FshnOSeBlNi",
        "colab": {
          "base_uri": "https://localhost:8080/"
        },
        "outputId": "a441941a-7091-4b47-b7f7-a2db23c1579c"
      },
      "source": [
        "num_list = [1, 2, 3]\n",
        "for i in num_list:\n",
        "  print(i)"
      ],
      "execution_count": 97,
      "outputs": [
        {
          "output_type": "stream",
          "name": "stdout",
          "text": [
            "1\n",
            "2\n",
            "3\n"
          ]
        }
      ]
    },
    {
      "cell_type": "markdown",
      "metadata": {
        "id": "px6bfw0qPIc8"
      },
      "source": [
        "Но можно создать итератор - объект, который может вернуть нам очередной элемент или же кинуть исключение"
      ]
    },
    {
      "cell_type": "code",
      "metadata": {
        "id": "Qe5QI8NoO1Vm",
        "colab": {
          "base_uri": "https://localhost:8080/",
          "height": 263
        },
        "outputId": "52bcabdc-9bb7-4fe6-fd2a-e4d61fe61219"
      },
      "source": [
        "itr = iter(num_list)\n",
        "print(next(itr))\n",
        "print(next(itr))\n",
        "print(next(itr))\n",
        "print(next(itr))"
      ],
      "execution_count": 98,
      "outputs": [
        {
          "output_type": "stream",
          "name": "stdout",
          "text": [
            "1\n",
            "2\n",
            "3\n"
          ]
        },
        {
          "output_type": "error",
          "ename": "StopIteration",
          "evalue": "ignored",
          "traceback": [
            "\u001b[0;31m---------------------------------------------------------------------------\u001b[0m",
            "\u001b[0;31mStopIteration\u001b[0m                             Traceback (most recent call last)",
            "\u001b[0;32m<ipython-input-98-35d4dbbac9c3>\u001b[0m in \u001b[0;36m<cell line: 5>\u001b[0;34m()\u001b[0m\n\u001b[1;32m      3\u001b[0m \u001b[0mprint\u001b[0m\u001b[0;34m(\u001b[0m\u001b[0mnext\u001b[0m\u001b[0;34m(\u001b[0m\u001b[0mitr\u001b[0m\u001b[0;34m)\u001b[0m\u001b[0;34m)\u001b[0m\u001b[0;34m\u001b[0m\u001b[0;34m\u001b[0m\u001b[0m\n\u001b[1;32m      4\u001b[0m \u001b[0mprint\u001b[0m\u001b[0;34m(\u001b[0m\u001b[0mnext\u001b[0m\u001b[0;34m(\u001b[0m\u001b[0mitr\u001b[0m\u001b[0;34m)\u001b[0m\u001b[0;34m)\u001b[0m\u001b[0;34m\u001b[0m\u001b[0;34m\u001b[0m\u001b[0m\n\u001b[0;32m----> 5\u001b[0;31m \u001b[0mprint\u001b[0m\u001b[0;34m(\u001b[0m\u001b[0mnext\u001b[0m\u001b[0;34m(\u001b[0m\u001b[0mitr\u001b[0m\u001b[0;34m)\u001b[0m\u001b[0;34m)\u001b[0m\u001b[0;34m\u001b[0m\u001b[0;34m\u001b[0m\u001b[0m\n\u001b[0m",
            "\u001b[0;31mStopIteration\u001b[0m: "
          ]
        }
      ]
    },
    {
      "cell_type": "markdown",
      "metadata": {
        "id": "WxMdQPcjPd3n"
      },
      "source": [
        "Мы можем делать и собственные итераторы"
      ]
    },
    {
      "cell_type": "code",
      "metadata": {
        "id": "ylGb9a4aPdSx"
      },
      "source": [
        "class SimpleIterator:\n",
        "  def __init__(self, limit):\n",
        "    self.limit = limit\n",
        "    self.counter = 0\n",
        "\n",
        "  def __next__(self):\n",
        "    if self.counter < self.limit:\n",
        "      self.counter += 1\n",
        "      return 1\n",
        "    else:\n",
        "      raise StopIteration"
      ],
      "execution_count": 100,
      "outputs": []
    },
    {
      "cell_type": "code",
      "source": [
        "s_iter1 = SimpleIterator(3)\n",
        "print(next(s_iter1))\n",
        "print(next(s_iter1))\n",
        "print(next(s_iter1))\n",
        "print(next(s_iter1))"
      ],
      "metadata": {
        "colab": {
          "base_uri": "https://localhost:8080/",
          "height": 349
        },
        "id": "ypKw-ZSd485N",
        "outputId": "faf833dd-7dec-462d-a629-51e5a29c24d2"
      },
      "execution_count": 101,
      "outputs": [
        {
          "output_type": "stream",
          "name": "stdout",
          "text": [
            "1\n",
            "1\n",
            "1\n"
          ]
        },
        {
          "output_type": "error",
          "ename": "StopIteration",
          "evalue": "ignored",
          "traceback": [
            "\u001b[0;31m---------------------------------------------------------------------------\u001b[0m",
            "\u001b[0;31mStopIteration\u001b[0m                             Traceback (most recent call last)",
            "\u001b[0;32m<ipython-input-101-072051fa3cd7>\u001b[0m in \u001b[0;36m<cell line: 5>\u001b[0;34m()\u001b[0m\n\u001b[1;32m      3\u001b[0m \u001b[0mprint\u001b[0m\u001b[0;34m(\u001b[0m\u001b[0mnext\u001b[0m\u001b[0;34m(\u001b[0m\u001b[0ms_iter1\u001b[0m\u001b[0;34m)\u001b[0m\u001b[0;34m)\u001b[0m\u001b[0;34m\u001b[0m\u001b[0;34m\u001b[0m\u001b[0m\n\u001b[1;32m      4\u001b[0m \u001b[0mprint\u001b[0m\u001b[0;34m(\u001b[0m\u001b[0mnext\u001b[0m\u001b[0;34m(\u001b[0m\u001b[0ms_iter1\u001b[0m\u001b[0;34m)\u001b[0m\u001b[0;34m)\u001b[0m\u001b[0;34m\u001b[0m\u001b[0;34m\u001b[0m\u001b[0m\n\u001b[0;32m----> 5\u001b[0;31m \u001b[0mprint\u001b[0m\u001b[0;34m(\u001b[0m\u001b[0mnext\u001b[0m\u001b[0;34m(\u001b[0m\u001b[0ms_iter1\u001b[0m\u001b[0;34m)\u001b[0m\u001b[0;34m)\u001b[0m\u001b[0;34m\u001b[0m\u001b[0;34m\u001b[0m\u001b[0m\n\u001b[0m",
            "\u001b[0;32m<ipython-input-100-90c5dc210dac>\u001b[0m in \u001b[0;36m__next__\u001b[0;34m(self)\u001b[0m\n\u001b[1;32m      9\u001b[0m       \u001b[0;32mreturn\u001b[0m \u001b[0;36m1\u001b[0m\u001b[0;34m\u001b[0m\u001b[0;34m\u001b[0m\u001b[0m\n\u001b[1;32m     10\u001b[0m     \u001b[0;32melse\u001b[0m\u001b[0;34m:\u001b[0m\u001b[0;34m\u001b[0m\u001b[0;34m\u001b[0m\u001b[0m\n\u001b[0;32m---> 11\u001b[0;31m       \u001b[0;32mraise\u001b[0m \u001b[0mStopIteration\u001b[0m\u001b[0;34m\u001b[0m\u001b[0;34m\u001b[0m\u001b[0m\n\u001b[0m",
            "\u001b[0;31mStopIteration\u001b[0m: "
          ]
        }
      ]
    },
    {
      "cell_type": "markdown",
      "metadata": {
        "id": "J27B7A4RP0EE"
      },
      "source": [
        "## Генераторы"
      ]
    },
    {
      "cell_type": "markdown",
      "metadata": {
        "id": "qX83f49HQEre"
      },
      "source": [
        "Генератор - функция, которая определяет правила для __next__  \n",
        "При этом вместо того, чтобы возвращать значение с помощью __return__, мы их __yield__'им"
      ]
    },
    {
      "cell_type": "code",
      "metadata": {
        "id": "uuQ_sZaqP3F7",
        "colab": {
          "base_uri": "https://localhost:8080/",
          "height": 263
        },
        "outputId": "d8ad1ad4-c564-4b7b-8f3a-cf44c968df9c"
      },
      "source": [
        "def simple_generator(val):\n",
        "  while val > 0:\n",
        "    val -= 1\n",
        "    yield 1\n",
        "\n",
        "g = simple_generator(3)\n",
        "print(next(g))\n",
        "print(next(g))\n",
        "print(next(g))\n",
        "print(next(g))"
      ],
      "execution_count": 102,
      "outputs": [
        {
          "output_type": "stream",
          "name": "stdout",
          "text": [
            "1\n",
            "1\n",
            "1\n"
          ]
        },
        {
          "output_type": "error",
          "ename": "StopIteration",
          "evalue": "ignored",
          "traceback": [
            "\u001b[0;31m---------------------------------------------------------------------------\u001b[0m",
            "\u001b[0;31mStopIteration\u001b[0m                             Traceback (most recent call last)",
            "\u001b[0;32m<ipython-input-102-321c13b06ca1>\u001b[0m in \u001b[0;36m<cell line: 10>\u001b[0;34m()\u001b[0m\n\u001b[1;32m      8\u001b[0m \u001b[0mprint\u001b[0m\u001b[0;34m(\u001b[0m\u001b[0mnext\u001b[0m\u001b[0;34m(\u001b[0m\u001b[0mg\u001b[0m\u001b[0;34m)\u001b[0m\u001b[0;34m)\u001b[0m\u001b[0;34m\u001b[0m\u001b[0;34m\u001b[0m\u001b[0m\n\u001b[1;32m      9\u001b[0m \u001b[0mprint\u001b[0m\u001b[0;34m(\u001b[0m\u001b[0mnext\u001b[0m\u001b[0;34m(\u001b[0m\u001b[0mg\u001b[0m\u001b[0;34m)\u001b[0m\u001b[0;34m)\u001b[0m\u001b[0;34m\u001b[0m\u001b[0;34m\u001b[0m\u001b[0m\n\u001b[0;32m---> 10\u001b[0;31m \u001b[0mprint\u001b[0m\u001b[0;34m(\u001b[0m\u001b[0mnext\u001b[0m\u001b[0;34m(\u001b[0m\u001b[0mg\u001b[0m\u001b[0;34m)\u001b[0m\u001b[0;34m)\u001b[0m\u001b[0;34m\u001b[0m\u001b[0;34m\u001b[0m\u001b[0m\n\u001b[0m",
            "\u001b[0;31mStopIteration\u001b[0m: "
          ]
        }
      ]
    },
    {
      "cell_type": "markdown",
      "metadata": {
        "id": "A-1rJ-GeQz0F"
      },
      "source": [
        "Важно учитывать, что:\n",
        "- генератор не хранит в себе все значения\n",
        "- генератор как бы замораживается в процессе работы, ожидая очередную своб итерацию\n",
        "- можно добавить сообщение в конце!"
      ]
    },
    {
      "cell_type": "code",
      "metadata": {
        "id": "5vHsgPnaRHXx",
        "colab": {
          "base_uri": "https://localhost:8080/",
          "height": 263
        },
        "outputId": "b1415ac4-af83-44e3-8f51-2255fa973305"
      },
      "source": [
        "def simple_generator(val):\n",
        "  while val > 0:\n",
        "    val -= 1\n",
        "    yield 1\n",
        "  return \"the end!\"\n",
        "\n",
        "\n",
        "g = simple_generator(3)\n",
        "print(next(g))\n",
        "print(next(g))\n",
        "print(next(g))\n",
        "print(next(g))"
      ],
      "execution_count": 103,
      "outputs": [
        {
          "output_type": "stream",
          "name": "stdout",
          "text": [
            "1\n",
            "1\n",
            "1\n"
          ]
        },
        {
          "output_type": "error",
          "ename": "StopIteration",
          "evalue": "ignored",
          "traceback": [
            "\u001b[0;31m---------------------------------------------------------------------------\u001b[0m",
            "\u001b[0;31mStopIteration\u001b[0m                             Traceback (most recent call last)",
            "\u001b[0;32m<ipython-input-103-8457c438fbef>\u001b[0m in \u001b[0;36m<cell line: 12>\u001b[0;34m()\u001b[0m\n\u001b[1;32m     10\u001b[0m \u001b[0mprint\u001b[0m\u001b[0;34m(\u001b[0m\u001b[0mnext\u001b[0m\u001b[0;34m(\u001b[0m\u001b[0mg\u001b[0m\u001b[0;34m)\u001b[0m\u001b[0;34m)\u001b[0m\u001b[0;34m\u001b[0m\u001b[0;34m\u001b[0m\u001b[0m\n\u001b[1;32m     11\u001b[0m \u001b[0mprint\u001b[0m\u001b[0;34m(\u001b[0m\u001b[0mnext\u001b[0m\u001b[0;34m(\u001b[0m\u001b[0mg\u001b[0m\u001b[0;34m)\u001b[0m\u001b[0;34m)\u001b[0m\u001b[0;34m\u001b[0m\u001b[0;34m\u001b[0m\u001b[0m\n\u001b[0;32m---> 12\u001b[0;31m \u001b[0mprint\u001b[0m\u001b[0;34m(\u001b[0m\u001b[0mnext\u001b[0m\u001b[0;34m(\u001b[0m\u001b[0mg\u001b[0m\u001b[0;34m)\u001b[0m\u001b[0;34m)\u001b[0m\u001b[0;34m\u001b[0m\u001b[0;34m\u001b[0m\u001b[0m\n\u001b[0m",
            "\u001b[0;31mStopIteration\u001b[0m: the end!"
          ]
        }
      ]
    },
    {
      "cell_type": "markdown",
      "metadata": {
        "id": "xZpIsU_O8J3g"
      },
      "source": [
        "## Линтеры"
      ]
    },
    {
      "cell_type": "code",
      "source": [
        "1+  1\n",
        "1 + 1\n",
        "1+1"
      ],
      "metadata": {
        "id": "oPqg76JU5vy_"
      },
      "execution_count": null,
      "outputs": []
    },
    {
      "cell_type": "markdown",
      "metadata": {
        "id": "bfTbD_KXM6_K"
      },
      "source": [
        "Существуют инструменты, которые проверяют как стиль написания кода, так и сам код (к примеру, говорят, что объявленная переменная нигде не используется). Их называют линтерами. Самым известным линтером можно назвать Flake8"
      ]
    },
    {
      "cell_type": "markdown",
      "metadata": {
        "id": "gXgchJ3OTVgs"
      },
      "source": [
        "# Некоторые из частых ошибок"
      ]
    },
    {
      "cell_type": "markdown",
      "metadata": {
        "id": "gzZd_7qUTZza"
      },
      "source": [
        "## Работа с массивом, а не с его копией"
      ]
    },
    {
      "cell_type": "code",
      "metadata": {
        "id": "Vb32nW2WTVCN",
        "colab": {
          "base_uri": "https://localhost:8080/",
          "height": 245
        },
        "outputId": "a02a3231-fb3b-4b52-99a0-54db8e012341"
      },
      "source": [
        "aa = [1,2,3,4,5]\n",
        "for i in range(0, len(aa)):\n",
        "  a = aa[i]\n",
        "  if a == 3 or a == 4:\n",
        "    aa.pop(i)\n",
        "print(aa)"
      ],
      "execution_count": 104,
      "outputs": [
        {
          "output_type": "error",
          "ename": "IndexError",
          "evalue": "ignored",
          "traceback": [
            "\u001b[0;31m---------------------------------------------------------------------------\u001b[0m",
            "\u001b[0;31mIndexError\u001b[0m                                Traceback (most recent call last)",
            "\u001b[0;32m<ipython-input-104-a382966d5020>\u001b[0m in \u001b[0;36m<cell line: 2>\u001b[0;34m()\u001b[0m\n\u001b[1;32m      1\u001b[0m \u001b[0maa\u001b[0m \u001b[0;34m=\u001b[0m \u001b[0;34m[\u001b[0m\u001b[0;36m1\u001b[0m\u001b[0;34m,\u001b[0m\u001b[0;36m2\u001b[0m\u001b[0;34m,\u001b[0m\u001b[0;36m3\u001b[0m\u001b[0;34m,\u001b[0m\u001b[0;36m4\u001b[0m\u001b[0;34m,\u001b[0m\u001b[0;36m5\u001b[0m\u001b[0;34m]\u001b[0m\u001b[0;34m\u001b[0m\u001b[0;34m\u001b[0m\u001b[0m\n\u001b[1;32m      2\u001b[0m \u001b[0;32mfor\u001b[0m \u001b[0mi\u001b[0m \u001b[0;32min\u001b[0m \u001b[0mrange\u001b[0m\u001b[0;34m(\u001b[0m\u001b[0;36m0\u001b[0m\u001b[0;34m,\u001b[0m \u001b[0mlen\u001b[0m\u001b[0;34m(\u001b[0m\u001b[0maa\u001b[0m\u001b[0;34m)\u001b[0m\u001b[0;34m)\u001b[0m\u001b[0;34m:\u001b[0m\u001b[0;34m\u001b[0m\u001b[0;34m\u001b[0m\u001b[0m\n\u001b[0;32m----> 3\u001b[0;31m   \u001b[0ma\u001b[0m \u001b[0;34m=\u001b[0m \u001b[0maa\u001b[0m\u001b[0;34m[\u001b[0m\u001b[0mi\u001b[0m\u001b[0;34m]\u001b[0m\u001b[0;34m\u001b[0m\u001b[0;34m\u001b[0m\u001b[0m\n\u001b[0m\u001b[1;32m      4\u001b[0m   \u001b[0;32mif\u001b[0m \u001b[0ma\u001b[0m \u001b[0;34m==\u001b[0m \u001b[0;36m3\u001b[0m \u001b[0;32mor\u001b[0m \u001b[0ma\u001b[0m \u001b[0;34m==\u001b[0m \u001b[0;36m4\u001b[0m\u001b[0;34m:\u001b[0m\u001b[0;34m\u001b[0m\u001b[0;34m\u001b[0m\u001b[0m\n\u001b[1;32m      5\u001b[0m     \u001b[0maa\u001b[0m\u001b[0;34m.\u001b[0m\u001b[0mpop\u001b[0m\u001b[0;34m(\u001b[0m\u001b[0mi\u001b[0m\u001b[0;34m)\u001b[0m\u001b[0;34m\u001b[0m\u001b[0;34m\u001b[0m\u001b[0m\n",
            "\u001b[0;31mIndexError\u001b[0m: list index out of range"
          ]
        }
      ]
    },
    {
      "cell_type": "code",
      "metadata": {
        "id": "bmhLwlasToJk",
        "colab": {
          "base_uri": "https://localhost:8080/"
        },
        "outputId": "fb8a2bcb-109e-4848-f6d7-6a2873031dd9"
      },
      "source": [
        "aa = [1,2,3,4,5]\n",
        "for a in aa:\n",
        "  if a == 3 or a == 4:\n",
        "    aa.remove(a)\n",
        "print(aa)"
      ],
      "execution_count": 105,
      "outputs": [
        {
          "output_type": "stream",
          "name": "stdout",
          "text": [
            "[1, 2, 4, 5]\n"
          ]
        }
      ]
    },
    {
      "cell_type": "code",
      "metadata": {
        "id": "tmlGBockMbA_",
        "colab": {
          "base_uri": "https://localhost:8080/"
        },
        "outputId": "b7f2b056-c39b-4675-9d27-71c029397627"
      },
      "source": [
        "aa = [1,2,3,4,5]\n",
        "for a in aa.copy():\n",
        "  if a == 3 or a == 4:\n",
        "    aa.remove(a)\n",
        "print(aa)"
      ],
      "execution_count": 106,
      "outputs": [
        {
          "output_type": "stream",
          "name": "stdout",
          "text": [
            "[1, 2, 5]\n"
          ]
        }
      ]
    },
    {
      "cell_type": "markdown",
      "metadata": {
        "id": "PPd3HcD7UFrB"
      },
      "source": [
        "##Значение по умолчанию, являющееся изменяемым объектом"
      ]
    },
    {
      "cell_type": "code",
      "metadata": {
        "id": "ZvYlOpF-UDtS",
        "colab": {
          "base_uri": "https://localhost:8080/"
        },
        "outputId": "9793fa99-0a70-4edc-ce10-5bce105cc478"
      },
      "source": [
        "def test_list(a=[]):\n",
        "  a.append(\"a\")\n",
        "  return a\n",
        "\n",
        "print(test_list())\n",
        "print(test_list())"
      ],
      "execution_count": 107,
      "outputs": [
        {
          "output_type": "stream",
          "name": "stdout",
          "text": [
            "['a']\n",
            "['a', 'a']\n"
          ]
        }
      ]
    },
    {
      "cell_type": "code",
      "metadata": {
        "id": "XJyGKm5xUUMU",
        "colab": {
          "base_uri": "https://localhost:8080/"
        },
        "outputId": "32e8147f-a08d-47b2-bfd1-7a67247e8185"
      },
      "source": [
        "def test_dict(key, a={}):\n",
        "  a[key] = 0\n",
        "  return a\n",
        "\n",
        "print(test_dict(\"a\"))\n",
        "print(test_dict(\"b\"))"
      ],
      "execution_count": 108,
      "outputs": [
        {
          "output_type": "stream",
          "name": "stdout",
          "text": [
            "{'a': 0}\n",
            "{'a': 0, 'b': 0}\n"
          ]
        }
      ]
    },
    {
      "cell_type": "markdown",
      "metadata": {
        "id": "AVAppWZwU0-m"
      },
      "source": [
        "## Поля класса"
      ]
    },
    {
      "cell_type": "code",
      "metadata": {
        "id": "ZlcKyidbUnOv"
      },
      "source": [
        "class A():\n",
        "  val = 1\n",
        "\n",
        "class B(A):\n",
        "  pass\n",
        "\n",
        "class C(A):\n",
        "  pass\n",
        "\n",
        "a = A()\n",
        "b = B()\n",
        "c = C()"
      ],
      "execution_count": 109,
      "outputs": []
    },
    {
      "cell_type": "code",
      "metadata": {
        "id": "rw48-vuJVE80",
        "colab": {
          "base_uri": "https://localhost:8080/"
        },
        "outputId": "d0363107-a1a4-4062-b2fb-d2e06403c0f3"
      },
      "source": [
        "print(a.val, b.val, c.val)\n",
        "print(a.__dict__, b.__dict__, c.__dict__)"
      ],
      "execution_count": 110,
      "outputs": [
        {
          "output_type": "stream",
          "name": "stdout",
          "text": [
            "1 1 1\n",
            "{} {} {}\n"
          ]
        }
      ]
    },
    {
      "cell_type": "markdown",
      "metadata": {
        "id": "9xY5Xz7NONts"
      },
      "source": [
        "При изменении __val__ у экземпляра __b__ на самом деле мы добавляем ему такое поле  (раньше он искал его у __super()__'а"
      ]
    },
    {
      "cell_type": "code",
      "metadata": {
        "id": "JJWokNtWOfEA",
        "colab": {
          "base_uri": "https://localhost:8080/"
        },
        "outputId": "6e868106-6e64-4819-d255-81263ae86e06"
      },
      "source": [
        "b.val = 2\n",
        "print(a.val, b.val, c.val)\n",
        "print(a.__dict__, b.__dict__, c.__dict__)"
      ],
      "execution_count": 113,
      "outputs": [
        {
          "output_type": "stream",
          "name": "stdout",
          "text": [
            "1 2 1\n",
            "{} {'val': 2} {}\n"
          ]
        }
      ]
    },
    {
      "cell_type": "markdown",
      "metadata": {
        "id": "y2euyVxXOy19"
      },
      "source": [
        "Даже если мы у экземлпяра класса родителя изменим __val__, это ни на кого не повлияет"
      ]
    },
    {
      "cell_type": "code",
      "metadata": {
        "id": "hHoz2MSAOjuS",
        "colab": {
          "base_uri": "https://localhost:8080/"
        },
        "outputId": "4d4b4ce9-b1a2-4b86-cc38-c76b5b1dbaeb"
      },
      "source": [
        "a.val = 10\n",
        "print(a.val, b.val, c.val)\n",
        "print(a.__dict__, b.__dict__, c.__dict__)"
      ],
      "execution_count": 114,
      "outputs": [
        {
          "output_type": "stream",
          "name": "stdout",
          "text": [
            "10 2 1\n",
            "{'val': 10} {'val': 2} {}\n"
          ]
        }
      ]
    },
    {
      "cell_type": "markdown",
      "metadata": {
        "id": "Yh2HswDsO8Z7"
      },
      "source": [
        "Изменение же значения поля всего класса повлечет изменение значения у __c__, потому что __c.val__ на самом деле ссылается на __A.val__"
      ]
    },
    {
      "cell_type": "code",
      "metadata": {
        "id": "XVLVz7OMOkuo",
        "colab": {
          "base_uri": "https://localhost:8080/"
        },
        "outputId": "677041fa-f4a5-48fb-ffbb-81e5f8bfccca"
      },
      "source": [
        "A.val=9\n",
        "print(a.val, b.val, c.val)\n",
        "print(a.__dict__, b.__dict__, c.__dict__)"
      ],
      "execution_count": 115,
      "outputs": [
        {
          "output_type": "stream",
          "name": "stdout",
          "text": [
            "10 2 9\n",
            "{'val': 10} {'val': 2} {}\n"
          ]
        }
      ]
    },
    {
      "cell_type": "code",
      "source": [],
      "metadata": {
        "id": "LN6MOJubeAlE"
      },
      "execution_count": null,
      "outputs": []
    }
  ]
}