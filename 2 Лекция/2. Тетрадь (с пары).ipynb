{
  "nbformat": 4,
  "nbformat_minor": 0,
  "metadata": {
    "colab": {
      "provenance": []
    },
    "kernelspec": {
      "name": "python3",
      "display_name": "Python 3"
    },
    "language_info": {
      "name": "python"
    }
  },
  "cells": [
    {
      "cell_type": "code",
      "metadata": {
        "id": "jpe4ovD60CFs"
      },
      "source": [
        "import types\n",
        "import abc\n",
        "import math\n",
        "import time"
      ],
      "execution_count": 1,
      "outputs": []
    },
    {
      "cell_type": "markdown",
      "metadata": {
        "id": "pti6nSnSi0u1"
      },
      "source": [
        "# ООП"
      ]
    },
    {
      "cell_type": "markdown",
      "metadata": {
        "id": "IRbAesBui3zi"
      },
      "source": [
        "## Определение"
      ]
    },
    {
      "cell_type": "markdown",
      "metadata": {
        "id": "qWfXmVd2i6OK"
      },
      "source": [
        "Часто говорят, что ООП это три принципа:\n",
        "- инкапсуляция\n",
        "- полиморфизм\n",
        "- наследование\n",
        "\n",
        "На самом деле, это не совсем так. Если обратиться к словам Алана Кэя (http://userpage.fu-berlin.de/~ram/pub/pub_jf47ht81Ht/doc_kay_oop_en), можно обратить внимание, что он, отвечая на вопрос о том, что же такое ООП, отвечал, что \"OOP to me means only messaging, local retention and protection and hiding of state-process, and extreme late-binding of all things.\"  "
      ]
    },
    {
      "cell_type": "markdown",
      "metadata": {
        "id": "GYslrn-8kROb"
      },
      "source": [
        "Разберем это высказывание.\n",
        "- messaging - мы присылаем какие-либо данные объекту, а он решает, как на них ответить\n",
        "- local retention - поля и методы класса недоступны извне\n",
        "- extreme late-binding - связывание происходит в рантайме\n"
      ]
    },
    {
      "cell_type": "markdown",
      "metadata": {
        "id": "OMzI8SqLlCx_"
      },
      "source": [
        "Конечно, можно сказать, что изначальная задумка эволюционировала и изменилась; тем не менее, стоит понимать, что есть ООП языки, которые могут не подчиняться этим самым \"трем принципам\""
      ]
    },
    {
      "cell_type": "markdown",
      "metadata": {
        "id": "lWKOi1hBmLws"
      },
      "source": [
        "## Наш базовый класс"
      ]
    },
    {
      "cell_type": "code",
      "metadata": {
        "id": "rKf-zGceoKzQ",
        "colab": {
          "base_uri": "https://localhost:8080/"
        },
        "outputId": "dd3d1b60-7da6-4ecb-aa40-cba2def3f308"
      },
      "source": [
        "class Point():\n",
        "  dummy = 0\n",
        "\n",
        "  def __init__(self, x, y):\n",
        "    self.x = x\n",
        "    self.y = y\n",
        "\n",
        "  def test_x(self, a):\n",
        "    return self.x + a\n",
        "\n",
        "  @classmethod\n",
        "  def test_class(cls):\n",
        "    return cls.dummy\n",
        "\n",
        "p = Point(1,1) #__init__(Point_ex, 1, 1)\n",
        "a = 10\n",
        "print(p.test_x(a)) #test_x(p, a)\n",
        "print(Point.test_class()) #test_class(Point)"
      ],
      "execution_count": 2,
      "outputs": [
        {
          "output_type": "stream",
          "name": "stdout",
          "text": [
            "11\n",
            "0\n"
          ]
        }
      ]
    },
    {
      "cell_type": "code",
      "source": [
        "class Test():\n",
        "  b = 9\n",
        "\n",
        "  def __init__(another):\n",
        "    another.a = 1\n",
        "\n",
        "  @classmethod\n",
        "  def test(another_class):\n",
        "    print(another_class.b)"
      ],
      "metadata": {
        "id": "cnvOLXhi5HaQ"
      },
      "execution_count": 13,
      "outputs": []
    },
    {
      "cell_type": "code",
      "source": [
        "t = Test()\n",
        "print(t.a)\n",
        "Test.test()"
      ],
      "metadata": {
        "id": "JrhB75Eb5T9w",
        "colab": {
          "base_uri": "https://localhost:8080/"
        },
        "outputId": "456d78b3-6deb-4a8f-e7f6-6901acc12e5e"
      },
      "execution_count": 14,
      "outputs": [
        {
          "output_type": "stream",
          "name": "stdout",
          "text": [
            "1\n",
            "9\n"
          ]
        }
      ]
    },
    {
      "cell_type": "code",
      "source": [
        "def delete_doubles(words):\n",
        "  return words\n",
        "\n",
        "class Morphology():\n",
        "  def __init__(self, words):\n",
        "    self.__words = delete_doubles(words)\n",
        "\n",
        "  def get_words():\n",
        "    return self.__words"
      ],
      "metadata": {
        "id": "36sKnh-3ZWIl"
      },
      "execution_count": 15,
      "outputs": []
    },
    {
      "cell_type": "code",
      "metadata": {
        "id": "jyqqzZzYu03F"
      },
      "source": [
        "class Money():\n",
        "  def __init__(self, sum): # 100.12\n",
        "    self.__rubles = int(sum / 100) # 100\n",
        "    self.__kopejkas = int((sum - int(sum / 100))*100) # 12\n",
        "    self.__send_to_my_server()\n",
        "\n",
        "  def __send_to_my_server(self):\n",
        "    print(\"got new money!\")\n",
        "\n",
        "  def get(self):\n",
        "    return self.__rubles + self.__kopejkas / 100\n",
        "\n",
        "# 100 = 1 * 2^6 + 1 * 2^5 + 0 * 2^4 + 0 * 2 ^ 3 + 1 * 2 ^ 2 + 1 * 2 ^ 1 + 0 * 2 ^ 0 # 1100110\n",
        "# 0.25 = 0 * 2 ^ -1 + 1 * 2 ^ -2 + 0 * ..... # 010000000000000\n",
        "# 0.33 = 0 * 2 ^ -1 + 1 * 2 ^ -2 + 0 * 2 ^ -3 + 1 * 2 ^-4 ... # 010100000001000000000000000100000000000001000"
      ],
      "execution_count": null,
      "outputs": []
    },
    {
      "cell_type": "code",
      "metadata": {
        "id": "q8d3W3NM0uav"
      },
      "source": [
        "# 0) мы создали некий класс\n",
        "# 1) мы хотим сделать экземпляр класса = класс()\n",
        "# 1.1) мы вызываем класс.__new__ - возвращает нвоый экземпляр\n",
        "# 1.2) мы вызываем экземпляр.__init__\n",
        "# ....\n",
        "# final) мы вызываем метод экземпляр.__del__"
      ],
      "execution_count": null,
      "outputs": []
    },
    {
      "cell_type": "code",
      "source": [
        "class Demo():\n",
        "\n",
        "  @classmethod\n",
        "  def __new__(cls, *args, **kwargs):\n",
        "    print(\"...\")\n",
        "    instance = super().__new__(cls)\n",
        "    return instance\n",
        "\n",
        "  def __init__(self, a, b):\n",
        "    print(\"HI\")\n",
        "    self.a = a\n",
        "    self.b = b\n",
        "\n",
        "  def __del__(self):\n",
        "    print(\"BYE\")"
      ],
      "metadata": {
        "id": "T9fjThE78Bqm"
      },
      "execution_count": 6,
      "outputs": []
    },
    {
      "cell_type": "code",
      "source": [
        "d = Demo(1,1)\n",
        "del(d)"
      ],
      "metadata": {
        "id": "5uDxalUM8iIg",
        "colab": {
          "base_uri": "https://localhost:8080/"
        },
        "outputId": "5b604f18-c7d5-4fa0-b56e-9888eaf5431c"
      },
      "execution_count": 8,
      "outputs": [
        {
          "output_type": "stream",
          "name": "stdout",
          "text": [
            "...\n",
            "HI\n",
            "BYE\n"
          ]
        }
      ]
    },
    {
      "cell_type": "code",
      "source": [
        "x = Demo(0,0)\n",
        "y = x\n",
        "del(x)"
      ],
      "metadata": {
        "colab": {
          "base_uri": "https://localhost:8080/"
        },
        "id": "z4vKCzScYkka",
        "outputId": "caa89e13-2665-42cb-80ba-5e9ba1254385"
      },
      "execution_count": 9,
      "outputs": [
        {
          "output_type": "stream",
          "name": "stdout",
          "text": [
            "...\n",
            "HI\n"
          ]
        }
      ]
    },
    {
      "cell_type": "code",
      "source": [
        "def del_test():\n",
        "  d1 = Demo(1,1)\n",
        "  d2 = d1\n",
        "  del(d1)\n",
        "  del(d2)\n",
        "\n",
        "def del_test2():\n",
        "  d1 = Demo(1,1)\n",
        "  d2 = d1"
      ],
      "metadata": {
        "id": "kq0kAYVz9J_H"
      },
      "execution_count": 10,
      "outputs": []
    },
    {
      "cell_type": "code",
      "source": [
        "del_test()"
      ],
      "metadata": {
        "id": "eoPPtx989b9v",
        "colab": {
          "base_uri": "https://localhost:8080/"
        },
        "outputId": "ed1d572d-410a-4cc7-8e9a-abbbece015e9"
      },
      "execution_count": 11,
      "outputs": [
        {
          "output_type": "stream",
          "name": "stdout",
          "text": [
            "...\n",
            "HI\n",
            "BYE\n"
          ]
        }
      ]
    },
    {
      "cell_type": "code",
      "source": [
        "del_test2()"
      ],
      "metadata": {
        "id": "FDM1ydEs9fmD",
        "colab": {
          "base_uri": "https://localhost:8080/"
        },
        "outputId": "9bad2521-5b8b-49ef-9937-389e011ffc68"
      },
      "execution_count": 12,
      "outputs": [
        {
          "output_type": "stream",
          "name": "stdout",
          "text": [
            "...\n",
            "HI\n",
            "BYE\n"
          ]
        }
      ]
    },
    {
      "cell_type": "code",
      "metadata": {
        "id": "arYSzfF3i5i6"
      },
      "source": [
        "class MyClass():\n",
        "  field_0 = \"field 0\"\n",
        "\n",
        "  def __init__(self):\n",
        "    self.field_1 = \"field 1\"\n",
        "    self._field_2 = \"field 2\"\n",
        "    self.__field_3 = \"field 3\"\n",
        "\n",
        "  def m_1(self):\n",
        "    return self.field_1\n",
        "\n",
        "  def _m_2(self):\n",
        "    return self._field_2\n",
        "\n",
        "  def __m_3(self):\n",
        "    return self.__field_3\n",
        "\n",
        "  @staticmethod\n",
        "  def s_m():\n",
        "    return \"no field\"\n",
        "\n",
        "  def help():\n",
        "    return \"m_1 returns public field field_1\\_m_2 returns private field _field_2\"\n",
        "\n",
        "  @staticmethod\n",
        "  def static_help():\n",
        "    return \"m_1 returns public field field_1\\_m_2 returns private field _field_2\"\n",
        "\n",
        "  @classmethod\n",
        "  def c_m(cls):\n",
        "    return cls.field_0"
      ],
      "execution_count": 17,
      "outputs": []
    },
    {
      "cell_type": "code",
      "metadata": {
        "id": "E5iFzKXsl8uV"
      },
      "source": [
        "c = MyClass()"
      ],
      "execution_count": 18,
      "outputs": []
    },
    {
      "cell_type": "code",
      "metadata": {
        "id": "uqcaMiJYzfAB"
      },
      "source": [
        "c.help() # help(c)"
      ],
      "execution_count": null,
      "outputs": []
    },
    {
      "cell_type": "code",
      "metadata": {
        "id": "VaVLzhlq0bgI",
        "colab": {
          "base_uri": "https://localhost:8080/",
          "height": 35
        },
        "outputId": "8f07c527-8793-4e37-9982-51869f2c352d"
      },
      "source": [
        "c.static_help()"
      ],
      "execution_count": 20,
      "outputs": [
        {
          "output_type": "execute_result",
          "data": {
            "text/plain": [
              "'m_1 returns public field field_1\\\\_m_2 returns private field _field_2'"
            ],
            "application/vnd.google.colaboratory.intrinsic+json": {
              "type": "string"
            }
          },
          "metadata": {},
          "execution_count": 20
        }
      ]
    },
    {
      "cell_type": "code",
      "metadata": {
        "id": "m-D5IxGTz1fE"
      },
      "source": [
        "class Adder():\n",
        "  def __init__(self, initial):\n",
        "    self.initial = initial\n",
        "\n",
        "  def change_value(self):\n",
        "    self.initial += 1\n",
        "\n",
        "  def add(self, value):\n",
        "    return self.initial + value\n",
        "\n",
        "a = Adder(10)\n",
        "a.add(4)\n",
        "print(a.initial)\n",
        "a.change_value()\n",
        "print(a.initial)\n",
        "a.__init__(5)\n",
        "print(a.initial)"
      ],
      "execution_count": null,
      "outputs": []
    },
    {
      "cell_type": "markdown",
      "metadata": {
        "id": "N2ba8y1GnzCu"
      },
      "source": [
        "### Инкапсуляция"
      ]
    },
    {
      "cell_type": "markdown",
      "metadata": {
        "id": "hSlpERQZnIDi"
      },
      "source": [
        "Публичные и приватные методы можно вызывать"
      ]
    },
    {
      "cell_type": "code",
      "metadata": {
        "id": "KQqJRZe_i0GH",
        "colab": {
          "base_uri": "https://localhost:8080/"
        },
        "outputId": "21be4bd6-4aa9-4d4c-cd69-ac8929be9dff"
      },
      "source": [
        "print(c.m_1())\n",
        "print(c._m_2())"
      ],
      "execution_count": 21,
      "outputs": [
        {
          "output_type": "stream",
          "name": "stdout",
          "text": [
            "field 1\n",
            "field 2\n"
          ]
        }
      ]
    },
    {
      "cell_type": "markdown",
      "metadata": {
        "id": "Ba7ize10nP89"
      },
      "source": [
        "Защищенные - нельзя(?)"
      ]
    },
    {
      "cell_type": "code",
      "metadata": {
        "id": "kGsCeBE4nG4u"
      },
      "source": [
        "print(c.__m_3())"
      ],
      "execution_count": null,
      "outputs": []
    },
    {
      "cell_type": "markdown",
      "metadata": {
        "id": "_j9CKNsWnjwd"
      },
      "source": [
        "С помощью __dict__ можно посмотреть все поля, с помощью __dir()__ все методы, там мы увидим кое-что интересное"
      ]
    },
    {
      "cell_type": "code",
      "metadata": {
        "id": "QiNEuKFOni7Z",
        "colab": {
          "base_uri": "https://localhost:8080/"
        },
        "outputId": "d337311e-49b2-4a66-8527-086d96952925"
      },
      "source": [
        "c.__dict__"
      ],
      "execution_count": 23,
      "outputs": [
        {
          "output_type": "execute_result",
          "data": {
            "text/plain": [
              "{'field_1': 'field 1', '_field_2': 'field 2', '_MyClass__field_3': 'field 3'}"
            ]
          },
          "metadata": {},
          "execution_count": 23
        }
      ]
    },
    {
      "cell_type": "code",
      "metadata": {
        "id": "K4_q9Ts5nbv-",
        "colab": {
          "base_uri": "https://localhost:8080/"
        },
        "outputId": "ae5b412a-6528-44c3-f8e3-ae87f14340da"
      },
      "source": [
        "print(c._MyClass__field_3)"
      ],
      "execution_count": 24,
      "outputs": [
        {
          "output_type": "stream",
          "name": "stdout",
          "text": [
            "field 3\n"
          ]
        }
      ]
    },
    {
      "cell_type": "code",
      "metadata": {
        "id": "3Sn_BiosnxHk"
      },
      "source": [
        "dir(c)"
      ],
      "execution_count": null,
      "outputs": []
    },
    {
      "cell_type": "code",
      "metadata": {
        "id": "Ktna1T8tnek2",
        "colab": {
          "base_uri": "https://localhost:8080/"
        },
        "outputId": "af51ae9f-f6f8-4e25-efe3-88536f9e701e"
      },
      "source": [
        "print(c._MyClass__m_3())"
      ],
      "execution_count": 26,
      "outputs": [
        {
          "output_type": "stream",
          "name": "stdout",
          "text": [
            "field 3\n"
          ]
        }
      ]
    },
    {
      "cell_type": "markdown",
      "metadata": {
        "id": "fXpuNs-9oAep"
      },
      "source": [
        "Статические методы"
      ]
    },
    {
      "cell_type": "code",
      "metadata": {
        "id": "4p_aF31EnF5H",
        "colab": {
          "base_uri": "https://localhost:8080/"
        },
        "outputId": "33226862-d302-4075-da85-70a0d738c388"
      },
      "source": [
        "print(c.s_m())\n",
        "print(MyClass.s_m())"
      ],
      "execution_count": 27,
      "outputs": [
        {
          "output_type": "stream",
          "name": "stdout",
          "text": [
            "no field\n",
            "no field\n"
          ]
        }
      ]
    },
    {
      "cell_type": "markdown",
      "metadata": {
        "id": "VaIlPxUhoJJp"
      },
      "source": [
        "Методы класса"
      ]
    },
    {
      "cell_type": "code",
      "metadata": {
        "id": "msKXKh8EmnY9",
        "colab": {
          "base_uri": "https://localhost:8080/"
        },
        "outputId": "cbb411af-53ac-49e3-f37e-89188f4b7ff5"
      },
      "source": [
        "print(c.c_m())\n",
        "print(MyClass.c_m())"
      ],
      "execution_count": 28,
      "outputs": [
        {
          "output_type": "stream",
          "name": "stdout",
          "text": [
            "field 0\n",
            "field 0\n"
          ]
        }
      ]
    },
    {
      "cell_type": "markdown",
      "metadata": {
        "id": "5RPC-EZroU6K"
      },
      "source": [
        "## Полиморфизм"
      ]
    },
    {
      "cell_type": "code",
      "metadata": {
        "id": "QvWULbSgoyjf"
      },
      "source": [
        "class Point():\n",
        "  def __init__(self, x, y):\n",
        "    self.x = x\n",
        "    self.y = y\n",
        "\n",
        "  def __eq__(self, other):\n",
        "    return isinstance(other, Point) and self.x == other.x and self.y == other.y\n",
        "\n",
        "class Triangle():\n",
        "  def __init__(self, p1, p2, p3):\n",
        "    self.point1 = p1\n",
        "    self.point2 = p2\n",
        "    self.point3 = p3\n",
        "\n",
        "  def __eq__(self, other):\n",
        "    return isinstance(other, Triangle) and self.point1 == other.point1 and self.point2 == other.point2 and self.point3 == other.point3"
      ],
      "execution_count": 40,
      "outputs": []
    },
    {
      "cell_type": "code",
      "metadata": {
        "id": "Hqs69koPpXrA",
        "colab": {
          "base_uri": "https://localhost:8080/"
        },
        "outputId": "95b82bf7-a461-434d-b2e4-f64e932b5bff"
      },
      "source": [
        "p1 = Point(1,2)\n",
        "p1_2 = Point(1,2)\n",
        "p2 = Point(2,3)\n",
        "p3 = Point(3,4)\n",
        "print(p1 == 2)\n",
        "print(p1 == p1_2)\n",
        "print(p1 == p2)"
      ],
      "execution_count": 41,
      "outputs": [
        {
          "output_type": "stream",
          "name": "stdout",
          "text": [
            "False\n",
            "True\n",
            "False\n"
          ]
        }
      ]
    },
    {
      "cell_type": "code",
      "metadata": {
        "id": "CSdxoiY_qToz",
        "colab": {
          "base_uri": "https://localhost:8080/"
        },
        "outputId": "823aad59-dc98-4509-c47f-5f779a656eb6"
      },
      "source": [
        "t1 = Triangle(1,2,3)\n",
        "t1_2 = Triangle(1,2,3)\n",
        "t2 = Triangle(2,3,4)\n",
        "print(t1 == t1_2)\n",
        "print(t1 == t2)"
      ],
      "execution_count": 42,
      "outputs": [
        {
          "output_type": "stream",
          "name": "stdout",
          "text": [
            "True\n",
            "False\n"
          ]
        }
      ]
    },
    {
      "cell_type": "code",
      "metadata": {
        "id": "9-hgUsgZqwS3",
        "colab": {
          "base_uri": "https://localhost:8080/"
        },
        "outputId": "3baf23e2-dc74-4a16-8044-58daac760890"
      },
      "source": [
        "tp1 = Triangle(p1,p2,p3)\n",
        "tp1_2 = Triangle(p1,p2,p3)\n",
        "tp2 = Triangle(p2,p3,p2)\n",
        "print(tp1 == tp1_2)\n",
        "print(tp1 == tp2)"
      ],
      "execution_count": 43,
      "outputs": [
        {
          "output_type": "stream",
          "name": "stdout",
          "text": [
            "True\n",
            "False\n"
          ]
        }
      ]
    },
    {
      "cell_type": "markdown",
      "metadata": {
        "id": "qEf4jM7IoVAL"
      },
      "source": [
        "## Наследование"
      ]
    },
    {
      "cell_type": "code",
      "metadata": {
        "id": "HIyQZlgjmwck"
      },
      "source": [
        "class NewsSource(object):\n",
        "  val = 0\n",
        "  def __init__(self, url):\n",
        "    self.url = url\n",
        "\n",
        "  def get_data(self):\n",
        "    print(\"getting data from\", self.url)\n",
        "\n",
        "class WashingtonPost(NewsSource):\n",
        "  pass\n",
        "\n",
        "class VKontakte(NewsSource):\n",
        "  def __init__(self, login, password):\n",
        "    self.login = login\n",
        "    self.password = password\n",
        "\n",
        "  def get_data(self):\n",
        "    print(\"logging in personal account using credentials\")\n",
        "\n",
        "class Twitter(NewsSource):\n",
        "  def solve_captcha(self):\n",
        "    print(\"solving captcha\")\n",
        "\n",
        "  def get_data_super(self):\n",
        "    super().get_data()\n",
        "\n",
        "  def get_data(self):\n",
        "    self.solve_captcha()\n",
        "    print(\"getting data from twitter\")"
      ],
      "execution_count": 51,
      "outputs": []
    },
    {
      "cell_type": "code",
      "metadata": {
        "id": "K5vWef2ntoIo",
        "colab": {
          "base_uri": "https://localhost:8080/"
        },
        "outputId": "36b41df3-6b74-4170-bd8c-6594a8f9ea77"
      },
      "source": [
        "source = NewsSource(\"url 1\")\n",
        "source_2 = NewsSource(\"url 2\")\n",
        "source.get_data()\n",
        "source_2.get_data()"
      ],
      "execution_count": 45,
      "outputs": [
        {
          "output_type": "stream",
          "name": "stdout",
          "text": [
            "getting data from url 1\n",
            "getting data from url 2\n"
          ]
        }
      ]
    },
    {
      "cell_type": "code",
      "metadata": {
        "id": "ULWzrzr7zVjm",
        "colab": {
          "base_uri": "https://localhost:8080/"
        },
        "outputId": "793bce9e-3146-4b04-f1de-5f5d059b7063"
      },
      "source": [
        "wp = WashingtonPost(\"http://wp.com\")\n",
        "wp.get_data()"
      ],
      "execution_count": 46,
      "outputs": [
        {
          "output_type": "stream",
          "name": "stdout",
          "text": [
            "getting data from http://wp.com\n"
          ]
        }
      ]
    },
    {
      "cell_type": "code",
      "metadata": {
        "id": "Y8PSbNWwt0-H",
        "colab": {
          "base_uri": "https://localhost:8080/"
        },
        "outputId": "1e6cca13-260c-4786-d124-40795e474c69"
      },
      "source": [
        "vk = VKontakte(\"login\", \"password\")\n",
        "vk.get_data()"
      ],
      "execution_count": 47,
      "outputs": [
        {
          "output_type": "stream",
          "name": "stdout",
          "text": [
            "logging in personal account using credentials\n"
          ]
        }
      ]
    },
    {
      "cell_type": "markdown",
      "metadata": {
        "id": "ZtL46MMQyiLz"
      },
      "source": [
        "Т.к. мы переопределили метод __init__, поле __url__ нам уже недоступно"
      ]
    },
    {
      "cell_type": "code",
      "metadata": {
        "id": "Kazq8kUqyRXJ",
        "colab": {
          "base_uri": "https://localhost:8080/"
        },
        "outputId": "81702ade-ce6e-464c-f6aa-0558438480a0"
      },
      "source": [
        "print(vk.__dict__)"
      ],
      "execution_count": 48,
      "outputs": [
        {
          "output_type": "stream",
          "name": "stdout",
          "text": [
            "{'login': 'login', 'password': 'password'}\n"
          ]
        }
      ]
    },
    {
      "cell_type": "code",
      "metadata": {
        "id": "s42LGAYmyu3e",
        "colab": {
          "base_uri": "https://localhost:8080/"
        },
        "outputId": "bc74a520-9d0a-42dd-d6b8-65591f012014"
      },
      "source": [
        "tw = Twitter(\"http://twitter.com\")\n",
        "tw.get_data()"
      ],
      "execution_count": 52,
      "outputs": [
        {
          "output_type": "stream",
          "name": "stdout",
          "text": [
            "solving captcha\n",
            "getting data from twitter\n"
          ]
        }
      ]
    },
    {
      "cell_type": "code",
      "metadata": {
        "id": "X1g1OtI56ctf",
        "colab": {
          "base_uri": "https://localhost:8080/"
        },
        "outputId": "fec4301b-d6d0-4878-a36d-f9baab057742"
      },
      "source": [
        "sources = [NewsSource(\"izvestia\"), NewsSource(\"thetimes\"), VKontakte(\"login\", \"password\"), Twitter(\"www.twitter.com\")]\n",
        "for s in sources:\n",
        "  # if isinstance(s, NewsSource) ...\n",
        "  s.get_data()"
      ],
      "execution_count": 50,
      "outputs": [
        {
          "output_type": "stream",
          "name": "stdout",
          "text": [
            "getting data from izvestia\n",
            "getting data from thetimes\n",
            "logging in personal account using credentials\n",
            "solving captcha\n",
            "getting data from twitter\n"
          ]
        }
      ]
    },
    {
      "cell_type": "markdown",
      "metadata": {
        "id": "wxs-omZo4qK5"
      },
      "source": [
        "Что, если мы хотим вызвать метод родительского класса?"
      ]
    },
    {
      "cell_type": "code",
      "metadata": {
        "id": "v7srrJuI4uD8",
        "colab": {
          "base_uri": "https://localhost:8080/"
        },
        "outputId": "1cd067d2-7faa-4c7d-a3fe-c4fab0a5896f"
      },
      "source": [
        "tw.get_data_super()"
      ],
      "execution_count": 53,
      "outputs": [
        {
          "output_type": "stream",
          "name": "stdout",
          "text": [
            "getting data from http://twitter.com\n"
          ]
        }
      ]
    },
    {
      "cell_type": "markdown",
      "metadata": {
        "id": "agA5qNtp4-P8"
      },
      "source": [
        "При этом мы можем искать во всех классах-родственниках (только вверх, правда). Чтобы узнать, в ком мы можем искать, можно вызвать метод __mro__:"
      ]
    },
    {
      "cell_type": "code",
      "metadata": {
        "id": "kwhtx24g5KyR",
        "colab": {
          "base_uri": "https://localhost:8080/"
        },
        "outputId": "f011eb60-063a-4164-b6b2-83648e7c68f7"
      },
      "source": [
        "Twitter.mro()"
      ],
      "execution_count": 54,
      "outputs": [
        {
          "output_type": "execute_result",
          "data": {
            "text/plain": [
              "[__main__.Twitter, __main__.NewsSource, object]"
            ]
          },
          "metadata": {},
          "execution_count": 54
        }
      ]
    },
    {
      "cell_type": "code",
      "source": [
        "tw == Twitter(\"new_url\")"
      ],
      "metadata": {
        "colab": {
          "base_uri": "https://localhost:8080/"
        },
        "id": "VemsxHVyg_MD",
        "outputId": "b0e4b953-77b1-4732-b27a-2fb5f7aec55e"
      },
      "execution_count": 57,
      "outputs": [
        {
          "output_type": "execute_result",
          "data": {
            "text/plain": [
              "False"
            ]
          },
          "metadata": {},
          "execution_count": 57
        }
      ]
    },
    {
      "cell_type": "markdown",
      "metadata": {
        "id": "lBTu-ZfIz4aE"
      },
      "source": [
        "Что, если мы хотим привязать какую-нибудь функцию к экземпляру классу?"
      ]
    },
    {
      "cell_type": "code",
      "metadata": {
        "id": "axG8IPkpzj8E",
        "colab": {
          "base_uri": "https://localhost:8080/",
          "height": 210
        },
        "outputId": "2bd67fb5-a02c-4bf7-8088-9076c3476a29"
      },
      "source": [
        "def wp_specific(self):\n",
        "  print(\"this is washington post\")\n",
        "\n",
        "wp.get_data = wp_specific\n",
        "wp.get_data()"
      ],
      "execution_count": 58,
      "outputs": [
        {
          "output_type": "error",
          "ename": "TypeError",
          "evalue": "ignored",
          "traceback": [
            "\u001b[0;31m---------------------------------------------------------------------------\u001b[0m",
            "\u001b[0;31mTypeError\u001b[0m                                 Traceback (most recent call last)",
            "\u001b[0;32m<ipython-input-58-16d14899f6d8>\u001b[0m in \u001b[0;36m<cell line: 5>\u001b[0;34m()\u001b[0m\n\u001b[1;32m      3\u001b[0m \u001b[0;34m\u001b[0m\u001b[0m\n\u001b[1;32m      4\u001b[0m \u001b[0mwp\u001b[0m\u001b[0;34m.\u001b[0m\u001b[0mget_data\u001b[0m \u001b[0;34m=\u001b[0m \u001b[0mwp_specific\u001b[0m\u001b[0;34m\u001b[0m\u001b[0;34m\u001b[0m\u001b[0m\n\u001b[0;32m----> 5\u001b[0;31m \u001b[0mwp\u001b[0m\u001b[0;34m.\u001b[0m\u001b[0mget_data\u001b[0m\u001b[0;34m(\u001b[0m\u001b[0;34m)\u001b[0m\u001b[0;34m\u001b[0m\u001b[0;34m\u001b[0m\u001b[0m\n\u001b[0m",
            "\u001b[0;31mTypeError\u001b[0m: wp_specific() missing 1 required positional argument: 'self'"
          ]
        }
      ]
    },
    {
      "cell_type": "code",
      "metadata": {
        "id": "84SWG9HK0duV",
        "colab": {
          "base_uri": "https://localhost:8080/"
        },
        "outputId": "7f907843-f0bc-424f-e02a-885f226007c6"
      },
      "source": [
        "wp.get_data=types.MethodType(wp_specific, wp)\n",
        "wp.get_data()"
      ],
      "execution_count": 59,
      "outputs": [
        {
          "output_type": "stream",
          "name": "stdout",
          "text": [
            "this is washington post\n"
          ]
        }
      ]
    },
    {
      "cell_type": "markdown",
      "metadata": {
        "id": "4irKlFVz2Jyo"
      },
      "source": [
        "А если к самому классу?"
      ]
    },
    {
      "cell_type": "code",
      "metadata": {
        "id": "BVYvMMWr0vSN",
        "colab": {
          "base_uri": "https://localhost:8080/"
        },
        "outputId": "b3626aeb-b823-4df6-e090-2b88f9f47249"
      },
      "source": [
        "def wp_class_specific(self):\n",
        "  print(\"i belong to wp\")\n",
        "\n",
        "WashingtonPost.get_data = wp_class_specific\n",
        "wp.get_data()"
      ],
      "execution_count": 60,
      "outputs": [
        {
          "output_type": "stream",
          "name": "stdout",
          "text": [
            "this is washington post\n"
          ]
        }
      ]
    },
    {
      "cell_type": "code",
      "metadata": {
        "id": "fuRgrklU1meo",
        "colab": {
          "base_uri": "https://localhost:8080/"
        },
        "outputId": "d281e8da-056b-4a20-c90e-fdd761d5a8ee"
      },
      "source": [
        "wp2 = WashingtonPost(\"https://wp.com\")\n",
        "wp2.get_data()"
      ],
      "execution_count": 61,
      "outputs": [
        {
          "output_type": "stream",
          "name": "stdout",
          "text": [
            "i belong to wp\n"
          ]
        }
      ]
    },
    {
      "cell_type": "markdown",
      "metadata": {
        "id": "Socjl09fZqdD"
      },
      "source": [
        "Наследоваться, кстати, можно и от нескольких классов"
      ]
    },
    {
      "cell_type": "code",
      "metadata": {
        "id": "BbHLRJPSZthn"
      },
      "source": [
        "class ParentA():\n",
        "  def a_exclusive(self):\n",
        "    print(\"i'm a exclusive\")\n",
        "\n",
        "  def common(self):\n",
        "    print(\"i'm a common\")\n",
        "\n",
        "class ParentB():\n",
        "  def b_exclusive(self):\n",
        "    print(\"i'm b exclusive\")\n",
        "\n",
        "  def common(self):\n",
        "    print(\"i'm b common\")\n",
        "\n",
        "class ChildAB(ParentA, ParentB):\n",
        "  pass\n",
        "\n",
        "class ChildBA(ParentB, ParentA):\n",
        "  pass"
      ],
      "execution_count": 62,
      "outputs": []
    },
    {
      "cell_type": "code",
      "metadata": {
        "id": "IFtIE0Uqafn3",
        "colab": {
          "base_uri": "https://localhost:8080/"
        },
        "outputId": "f50d5f01-980d-4972-df1d-d605cbf435ba"
      },
      "source": [
        "ab = ChildAB()\n",
        "ab.common()\n",
        "ChildAB.mro()"
      ],
      "execution_count": 66,
      "outputs": [
        {
          "output_type": "stream",
          "name": "stdout",
          "text": [
            "i'm a common\n"
          ]
        },
        {
          "output_type": "execute_result",
          "data": {
            "text/plain": [
              "[__main__.ChildAB, __main__.ParentA, __main__.ParentB, object]"
            ]
          },
          "metadata": {},
          "execution_count": 66
        }
      ]
    },
    {
      "cell_type": "code",
      "source": [
        "ba = ChildBA()\n",
        "ba.common()\n",
        "ChildBA.mro()"
      ],
      "metadata": {
        "colab": {
          "base_uri": "https://localhost:8080/"
        },
        "id": "T4tFFnBGiKY_",
        "outputId": "72a038be-1dac-4d92-eb54-60fda5bd30d0"
      },
      "execution_count": 67,
      "outputs": [
        {
          "output_type": "stream",
          "name": "stdout",
          "text": [
            "i'm b common\n"
          ]
        },
        {
          "output_type": "execute_result",
          "data": {
            "text/plain": [
              "[__main__.ChildBA, __main__.ParentB, __main__.ParentA, object]"
            ]
          },
          "metadata": {},
          "execution_count": 67
        }
      ]
    },
    {
      "cell_type": "markdown",
      "metadata": {
        "id": "jbuvyrl22qpZ"
      },
      "source": [
        "## Абстрактные классы"
      ]
    },
    {
      "cell_type": "markdown",
      "metadata": {
        "id": "vD3uBvU62uqF"
      },
      "source": [
        "Иногда нам хочется просто описать ожидаемое поведение от класса-родителя, а уже в классах-потомках это поведение реализовать. Можно, конечно, сделать так:"
      ]
    },
    {
      "cell_type": "code",
      "metadata": {
        "id": "mPIgYW5S1vhV"
      },
      "source": [
        "class Dummy():\n",
        "  def __init__(self):\n",
        "    pass\n",
        "\n",
        "  def dummy_method(self):\n",
        "    pass\n",
        "\n",
        "  def dummy_method_2(self):\n",
        "    pass\n",
        "\n",
        "class Real(Dummy):\n",
        "  pass"
      ],
      "execution_count": 70,
      "outputs": []
    },
    {
      "cell_type": "code",
      "source": [
        "r = Real()"
      ],
      "metadata": {
        "id": "9QUeLNUqjMZK"
      },
      "execution_count": 71,
      "outputs": []
    },
    {
      "cell_type": "markdown",
      "metadata": {
        "id": "Egy2z2ST3MLb"
      },
      "source": [
        "Но можно использовать абстрактные классы"
      ]
    },
    {
      "cell_type": "code",
      "metadata": {
        "id": "xk57QpMR3PhP"
      },
      "source": [
        "class NewsSourceV2(abc.ABC):\n",
        "  def tell_class(self):\n",
        "    print(\"i'm a news source\")\n",
        "\n",
        "  @abc.abstractmethod\n",
        "  def get_data(self):\n",
        "    pass\n",
        "\n",
        "  @abc.abstractmethod\n",
        "  def process_data(self):\n",
        "    pass"
      ],
      "execution_count": 68,
      "outputs": []
    },
    {
      "cell_type": "markdown",
      "metadata": {
        "id": "GzzW01OA3x41"
      },
      "source": [
        "Создавать экземпляры абстрактного класса нельзя"
      ]
    },
    {
      "cell_type": "code",
      "metadata": {
        "id": "b9ooj8P13xSc",
        "colab": {
          "base_uri": "https://localhost:8080/",
          "height": 176
        },
        "outputId": "4a700f1f-9bc1-4105-8dc0-16fd9b55c526"
      },
      "source": [
        "s = NewsSourceV2()"
      ],
      "execution_count": 69,
      "outputs": [
        {
          "output_type": "error",
          "ename": "TypeError",
          "evalue": "ignored",
          "traceback": [
            "\u001b[0;31m---------------------------------------------------------------------------\u001b[0m",
            "\u001b[0;31mTypeError\u001b[0m                                 Traceback (most recent call last)",
            "\u001b[0;32m<ipython-input-69-704523e8ed63>\u001b[0m in \u001b[0;36m<cell line: 1>\u001b[0;34m()\u001b[0m\n\u001b[0;32m----> 1\u001b[0;31m \u001b[0ms\u001b[0m \u001b[0;34m=\u001b[0m \u001b[0mNewsSourceV2\u001b[0m\u001b[0;34m(\u001b[0m\u001b[0;34m)\u001b[0m\u001b[0;34m\u001b[0m\u001b[0;34m\u001b[0m\u001b[0m\n\u001b[0m",
            "\u001b[0;31mTypeError\u001b[0m: Can't instantiate abstract class NewsSourceV2 with abstract methods get_data, process_data"
          ]
        }
      ]
    },
    {
      "cell_type": "markdown",
      "metadata": {
        "id": "SR_W_xZb4GjT"
      },
      "source": [
        "Как и нельзя пытаться создать экземпляр класса-потомка, в котором мы не реализовали абстрактные методы"
      ]
    },
    {
      "cell_type": "code",
      "metadata": {
        "id": "VN9Pf80s32Kg",
        "colab": {
          "base_uri": "https://localhost:8080/",
          "height": 210
        },
        "outputId": "fe44b5cf-400a-4bfd-992c-554203910381"
      },
      "source": [
        "class Twitter(NewsSourceV2):\n",
        "  pass\n",
        "\n",
        "tw = Twitter()"
      ],
      "execution_count": 72,
      "outputs": [
        {
          "output_type": "error",
          "ename": "TypeError",
          "evalue": "ignored",
          "traceback": [
            "\u001b[0;31m---------------------------------------------------------------------------\u001b[0m",
            "\u001b[0;31mTypeError\u001b[0m                                 Traceback (most recent call last)",
            "\u001b[0;32m<ipython-input-72-fad8a0156bb5>\u001b[0m in \u001b[0;36m<cell line: 4>\u001b[0;34m()\u001b[0m\n\u001b[1;32m      2\u001b[0m   \u001b[0;32mpass\u001b[0m\u001b[0;34m\u001b[0m\u001b[0;34m\u001b[0m\u001b[0m\n\u001b[1;32m      3\u001b[0m \u001b[0;34m\u001b[0m\u001b[0m\n\u001b[0;32m----> 4\u001b[0;31m \u001b[0mtw\u001b[0m \u001b[0;34m=\u001b[0m \u001b[0mTwitter\u001b[0m\u001b[0;34m(\u001b[0m\u001b[0;34m)\u001b[0m\u001b[0;34m\u001b[0m\u001b[0;34m\u001b[0m\u001b[0m\n\u001b[0m",
            "\u001b[0;31mTypeError\u001b[0m: Can't instantiate abstract class Twitter with abstract methods get_data, process_data"
          ]
        }
      ]
    },
    {
      "cell_type": "code",
      "metadata": {
        "id": "4ypl-CPt4DtI",
        "colab": {
          "base_uri": "https://localhost:8080/",
          "height": 228
        },
        "outputId": "72db72e5-fa47-40dd-d630-d89271f920a5"
      },
      "source": [
        "class Twitter(NewsSourceV2):\n",
        "  def get_data(self):\n",
        "    print(\"getting data from twitter\")\n",
        "\n",
        "tw = Twitter()\n",
        "tw.get_data()"
      ],
      "execution_count": 73,
      "outputs": [
        {
          "output_type": "error",
          "ename": "TypeError",
          "evalue": "ignored",
          "traceback": [
            "\u001b[0;31m---------------------------------------------------------------------------\u001b[0m",
            "\u001b[0;31mTypeError\u001b[0m                                 Traceback (most recent call last)",
            "\u001b[0;32m<ipython-input-73-c94ad87b68a9>\u001b[0m in \u001b[0;36m<cell line: 5>\u001b[0;34m()\u001b[0m\n\u001b[1;32m      3\u001b[0m     \u001b[0mprint\u001b[0m\u001b[0;34m(\u001b[0m\u001b[0;34m\"getting data from twitter\"\u001b[0m\u001b[0;34m)\u001b[0m\u001b[0;34m\u001b[0m\u001b[0;34m\u001b[0m\u001b[0m\n\u001b[1;32m      4\u001b[0m \u001b[0;34m\u001b[0m\u001b[0m\n\u001b[0;32m----> 5\u001b[0;31m \u001b[0mtw\u001b[0m \u001b[0;34m=\u001b[0m \u001b[0mTwitter\u001b[0m\u001b[0;34m(\u001b[0m\u001b[0;34m)\u001b[0m\u001b[0;34m\u001b[0m\u001b[0;34m\u001b[0m\u001b[0m\n\u001b[0m\u001b[1;32m      6\u001b[0m \u001b[0mtw\u001b[0m\u001b[0;34m.\u001b[0m\u001b[0mget_data\u001b[0m\u001b[0;34m(\u001b[0m\u001b[0;34m)\u001b[0m\u001b[0;34m\u001b[0m\u001b[0;34m\u001b[0m\u001b[0m\n",
            "\u001b[0;31mTypeError\u001b[0m: Can't instantiate abstract class Twitter with abstract method process_data"
          ]
        }
      ]
    },
    {
      "cell_type": "code",
      "source": [
        "class Twitter(NewsSourceV2):\n",
        "  def get_data(self):\n",
        "    print(\"getting data from twitter\")\n",
        "\n",
        "  def process_data(self):\n",
        "    print(\"processing data from twitter\")\n",
        "\n",
        "tw = Twitter()\n",
        "tw.get_data()"
      ],
      "metadata": {
        "colab": {
          "base_uri": "https://localhost:8080/"
        },
        "id": "5HVQKTl-jV0j",
        "outputId": "245d8317-1f4c-4a81-9bde-b234c786bf5b"
      },
      "execution_count": 74,
      "outputs": [
        {
          "output_type": "stream",
          "name": "stdout",
          "text": [
            "getting data from twitter\n"
          ]
        }
      ]
    },
    {
      "cell_type": "code",
      "metadata": {
        "id": "ByII5317_vrt",
        "colab": {
          "base_uri": "https://localhost:8080/"
        },
        "outputId": "0f071adf-aed8-4732-837c-d4623554b7cc"
      },
      "source": [
        "dir(tw)"
      ],
      "execution_count": 75,
      "outputs": [
        {
          "output_type": "execute_result",
          "data": {
            "text/plain": [
              "['__abstractmethods__',\n",
              " '__class__',\n",
              " '__delattr__',\n",
              " '__dict__',\n",
              " '__dir__',\n",
              " '__doc__',\n",
              " '__eq__',\n",
              " '__format__',\n",
              " '__ge__',\n",
              " '__getattribute__',\n",
              " '__gt__',\n",
              " '__hash__',\n",
              " '__init__',\n",
              " '__init_subclass__',\n",
              " '__le__',\n",
              " '__lt__',\n",
              " '__module__',\n",
              " '__ne__',\n",
              " '__new__',\n",
              " '__reduce__',\n",
              " '__reduce_ex__',\n",
              " '__repr__',\n",
              " '__setattr__',\n",
              " '__sizeof__',\n",
              " '__slots__',\n",
              " '__str__',\n",
              " '__subclasshook__',\n",
              " '__weakref__',\n",
              " '_abc_impl',\n",
              " 'get_data',\n",
              " 'process_data',\n",
              " 'tell_class']"
            ]
          },
          "metadata": {},
          "execution_count": 75
        }
      ]
    },
    {
      "cell_type": "code",
      "source": [
        "class rect():\n",
        "  def __init__(self, a, b):\n",
        "    self.a = a\n",
        "    self.b = b\n",
        "  def p(self):\n",
        "    print(self.a*self.b)\n",
        "\n",
        "class  sq(rect):\n",
        "  def __init__(self, a):\n",
        "    super().__init__(a, a)\n"
      ],
      "metadata": {
        "id": "S8Tn2F-try-k"
      },
      "execution_count": 78,
      "outputs": []
    },
    {
      "cell_type": "code",
      "source": [
        "r = rect(1,2)\n",
        "r.p()"
      ],
      "metadata": {
        "colab": {
          "base_uri": "https://localhost:8080/"
        },
        "id": "SdjvzPuWsK8x",
        "outputId": "a876f6d3-7026-4233-a1d4-216bcb13b097"
      },
      "execution_count": 79,
      "outputs": [
        {
          "output_type": "stream",
          "name": "stdout",
          "text": [
            "2\n"
          ]
        }
      ]
    },
    {
      "cell_type": "code",
      "source": [
        "sq(2).p()"
      ],
      "metadata": {
        "colab": {
          "base_uri": "https://localhost:8080/"
        },
        "id": "6tbOT4hqsQiN",
        "outputId": "07ddb90c-8e6f-49c5-c35d-2e4c96a7785f"
      },
      "execution_count": 80,
      "outputs": [
        {
          "output_type": "stream",
          "name": "stdout",
          "text": [
            "4\n"
          ]
        }
      ]
    },
    {
      "cell_type": "markdown",
      "metadata": {
        "id": "_0yq28kp5uCu"
      },
      "source": [
        "## Как же проектировать классы"
      ]
    },
    {
      "cell_type": "markdown",
      "metadata": {
        "id": "GsAOr-2L6Hcd"
      },
      "source": [
        "Что такое хорошая система классов?  \n",
        "\n",
        "Это такая система, которой удобно пользоваться.  \n",
        "Это такая система, которую будет легко расширять.  \n",
        "Это такая система, которая хорошо описывает предметную область."
      ]
    },
    {
      "cell_type": "markdown",
      "metadata": {
        "id": "gNJoltbK7XJZ"
      },
      "source": [
        "# QoL improvements"
      ]
    },
    {
      "cell_type": "markdown",
      "metadata": {
        "id": "ofRBBb-O7b-X"
      },
      "source": [
        "## Декораторы"
      ]
    },
    {
      "cell_type": "markdown",
      "metadata": {
        "id": "8qlSpFslJ_f5"
      },
      "source": [
        "Обычно есть 3 функции:\n",
        "- декорирующая\n",
        "- декорируемая\n",
        "- та, которой декорируют"
      ]
    },
    {
      "cell_type": "code",
      "metadata": {
        "id": "TlUUePum7bWs"
      },
      "source": [
        "def trace(func): # декорирующая\n",
        "  def inner(*args, **kwargs): # та, которой декорируют\n",
        "    print(\"calling function:\", func.__name__, \", parameters\", args, kwargs)\n",
        "    return func(*args, **kwargs)\n",
        "  return inner\n",
        "\n",
        "@trace\n",
        "def calc(a, b, **kwargs): # декорируемая\n",
        "  return a + b\n",
        "\n",
        "calc(1,2, p=\"param\")\n",
        "# trace(calc(1,2, p=\"param\"))\n",
        "# ->\n",
        "# inner(1,2, p=\"param\")\n",
        "# ->\n",
        "# calc(1,2, p=\"param\")"
      ],
      "execution_count": null,
      "outputs": []
    },
    {
      "cell_type": "markdown",
      "metadata": {
        "id": "jvROXRKhKYPP"
      },
      "source": [
        "Но мы вполне можем жить и без той, кем декорируют"
      ]
    },
    {
      "cell_type": "code",
      "metadata": {
        "id": "CHFkdAucJrbg"
      },
      "source": [
        "def logger(func):\n",
        "  print(\"logging\")\n",
        "  return func\n",
        "\n",
        "@logger\n",
        "def sum(a, b):\n",
        "  return a + b\n",
        "\n",
        "sum(1,2)"
      ],
      "execution_count": null,
      "outputs": []
    },
    {
      "cell_type": "markdown",
      "metadata": {
        "id": "rdtufpYXKfG0"
      },
      "source": [
        "Декораторов может быть и много!  \n",
        "При этом выполняются они снизу вверх"
      ]
    },
    {
      "cell_type": "code",
      "metadata": {
        "id": "8r_Ik7-IKewC"
      },
      "source": [
        "def first(func):\n",
        "  print(\"i'm the first\")\n",
        "  return func\n",
        "\n",
        "def second(func):\n",
        "  print(\"i'm the second\")\n",
        "  return func\n",
        "\n",
        "@second\n",
        "@first\n",
        "def last():\n",
        "  print(\"i'm the last\")\n",
        "\n",
        "@second\n",
        "def last_2():\n",
        "  print(\"a\")\n",
        "\n",
        "last()\n",
        "print()\n",
        "first(second(last()))"
      ],
      "execution_count": null,
      "outputs": []
    },
    {
      "cell_type": "markdown",
      "source": [
        "## Dataclasses"
      ],
      "metadata": {
        "id": "Uwig42JIEC6h"
      }
    },
    {
      "cell_type": "markdown",
      "source": [
        "Делаем самый простой класс"
      ],
      "metadata": {
        "id": "Kr_XBt_TEKkN"
      }
    },
    {
      "cell_type": "code",
      "source": [
        "class Author:\n",
        "  def __init__(self, name, birthday):\n",
        "    self.name = name\n",
        "    self.birthday = birthday"
      ],
      "metadata": {
        "id": "5ByjqCZnECSu"
      },
      "execution_count": null,
      "outputs": []
    },
    {
      "cell_type": "markdown",
      "source": [
        "Но можно и не писать это все самим"
      ],
      "metadata": {
        "id": "YatsVp2zET36"
      }
    },
    {
      "cell_type": "code",
      "source": [
        "from dataclasses import dataclass\n",
        "\n",
        "@dataclass\n",
        "class Author:\n",
        "    name: str\n",
        "    birthday: str"
      ],
      "metadata": {
        "id": "ReaF9gY_EXPk"
      },
      "execution_count": null,
      "outputs": []
    },
    {
      "cell_type": "code",
      "source": [
        "a = Author(\"Ivan\", \"01.01.1990\")\n",
        "print(a)\n",
        "a.name = \"Mike\"\n",
        "print(a)"
      ],
      "metadata": {
        "id": "uAMRQKzcEx_D"
      },
      "execution_count": null,
      "outputs": []
    },
    {
      "cell_type": "markdown",
      "source": [
        "Есть и значения по умолчанию"
      ],
      "metadata": {
        "id": "xu-W5ENlEqYS"
      }
    },
    {
      "cell_type": "code",
      "source": [
        "@dataclass\n",
        "class Author:\n",
        "    name: str = \"Ivan\"\n",
        "    birthday: str = \"01.01.1990\""
      ],
      "metadata": {
        "id": "-Pr67WztEtHT"
      },
      "execution_count": null,
      "outputs": []
    },
    {
      "cell_type": "code",
      "source": [
        "a = Author()\n",
        "print(a)"
      ],
      "metadata": {
        "id": "djJYeAkAFHhF"
      },
      "execution_count": null,
      "outputs": []
    },
    {
      "cell_type": "markdown",
      "source": [
        "А если мы хотим иметь иммутабельные экзмепляры?"
      ],
      "metadata": {
        "id": "7yFbHNkwFxp7"
      }
    },
    {
      "cell_type": "code",
      "source": [
        "@dataclass(frozen=True)\n",
        "class Author:\n",
        "    name: str\n",
        "    birthday: str"
      ],
      "metadata": {
        "id": "gvRu7IkTFZl5"
      },
      "execution_count": null,
      "outputs": []
    },
    {
      "cell_type": "code",
      "source": [
        "a = Author(\"Ivan\", \"01.01.1990\")\n",
        "print(a)\n",
        "a.name = \"Mike\"\n",
        "print(a)"
      ],
      "metadata": {
        "id": "7HfAapTuFrCX"
      },
      "execution_count": null,
      "outputs": []
    },
    {
      "cell_type": "markdown",
      "metadata": {
        "id": "KiAgjerw7pWv"
      },
      "source": [
        "## Перегрузка"
      ]
    },
    {
      "cell_type": "code",
      "metadata": {
        "id": "7A6sE_LF7fQg"
      },
      "source": [
        "class InsensitiveString():\n",
        "  def __init__(self, string):\n",
        "    self.string = string\n",
        "\n",
        "s1 = InsensitiveString(\"abc\")\n",
        "s2 = InsensitiveString(\"ABc\")\n",
        "print(s1 == s2)\n",
        "print(s1 != s2)"
      ],
      "execution_count": null,
      "outputs": []
    },
    {
      "cell_type": "code",
      "metadata": {
        "id": "6QLJNPYFD45q"
      },
      "source": [
        "class InsensitiveString():\n",
        "  def __init__(self, string):\n",
        "    self.string = string\n",
        "\n",
        "  def __eq__(self, other):\n",
        "    return self.string.lower() == other.string.lower()\n",
        "\n",
        "  def __ne__(self, other):\n",
        "    return self.string.lower() != other.string.lower()\n",
        "\n",
        "  def __add__(self, other):\n",
        "    return self.string + other.string\n",
        "\n",
        "  # нужно задавать, потому что Python сначала пытается сделать self.__add__(other), если не получается, то other.__radd__(self)\n",
        "  def __radd__(self, other):\n",
        "    return other.string + self.string"
      ],
      "execution_count": null,
      "outputs": []
    },
    {
      "cell_type": "code",
      "metadata": {
        "id": "YnQJ_1qFEO7y"
      },
      "source": [
        "s1 = InsensitiveString(\"abc\")\n",
        "s2 = InsensitiveString(\"ABc\")\n",
        "print(s1 == s2)\n",
        "print(s1 != s2)\n",
        "print(s1 + s2)"
      ],
      "execution_count": null,
      "outputs": []
    },
    {
      "cell_type": "markdown",
      "metadata": {
        "id": "QBGJFPghBngN"
      },
      "source": [
        "## Сеттеры и Геттеры"
      ]
    },
    {
      "cell_type": "code",
      "metadata": {
        "id": "LN2bZMymBpab"
      },
      "source": [
        "class MyClass():\n",
        "  def __init__(self):\n",
        "    self.value = 0"
      ],
      "execution_count": null,
      "outputs": []
    },
    {
      "cell_type": "markdown",
      "metadata": {
        "id": "lj0Hj_-pByop"
      },
      "source": [
        "Конечно, мы можем напрямую работать с полем __value__"
      ]
    },
    {
      "cell_type": "code",
      "metadata": {
        "id": "UVz6PufzB4vO"
      },
      "source": [
        "c = MyClass()\n",
        "c.value += 1\n",
        "print(c.value)"
      ],
      "execution_count": null,
      "outputs": []
    },
    {
      "cell_type": "markdown",
      "metadata": {
        "id": "5-I9N96xCGOw"
      },
      "source": [
        "Однако в таком случае мы можем случайно изменять значения полей, что может быть критичным. Более того, мы можем хотеть скрыть внутренности класса."
      ]
    },
    {
      "cell_type": "code",
      "metadata": {
        "id": "JUs7mPVyCO8V"
      },
      "source": [
        "class MyProtectedClass():\n",
        "  def __init__(self):\n",
        "    self.__value = 0\n",
        "\n",
        "  def get_value(self):\n",
        "    return self.__value\n",
        "\n",
        "  def set_value(self, new_value):\n",
        "    self.__value = new_value"
      ],
      "execution_count": null,
      "outputs": []
    },
    {
      "cell_type": "code",
      "metadata": {
        "id": "Vf8xdPWMCkZ7"
      },
      "source": [
        "c = MyProtectedClass()\n",
        "c.set_value(5)\n",
        "c.get_value()"
      ],
      "execution_count": null,
      "outputs": []
    },
    {
      "cell_type": "markdown",
      "metadata": {
        "id": "qEBm8BTQ7nDN"
      },
      "source": [
        "## Значения по умолчанию"
      ]
    },
    {
      "cell_type": "markdown",
      "metadata": {
        "id": "zauC7YyEGgsn"
      },
      "source": [
        "Для аргументов можно указывать значение по умолчанию"
      ]
    },
    {
      "cell_type": "code",
      "metadata": {
        "id": "RoU6SwMC7tUd"
      },
      "source": [
        "def predefined(a, b, c = 3):\n",
        "  print(a, b, c)\n",
        "\n",
        "predefined(1,2)\n",
        "predefined(3,4,5)"
      ],
      "execution_count": null,
      "outputs": []
    },
    {
      "cell_type": "markdown",
      "metadata": {
        "id": "8R15o-e6GkZH"
      },
      "source": [
        "Но они обязательно идут после аргументов без значения по умолчанию"
      ]
    },
    {
      "cell_type": "code",
      "metadata": {
        "id": "wwkn-EuIGl69"
      },
      "source": [
        "def predefined(a = 1, b, c = 3):\n",
        "  print(a, b, c)\n",
        "\n",
        "predefined(1,2)\n",
        "predefined(3,4,5)"
      ],
      "execution_count": null,
      "outputs": []
    },
    {
      "cell_type": "code",
      "metadata": {
        "id": "MEusF8PrFboB"
      },
      "source": [
        "predefined(2,3) #?"
      ],
      "execution_count": null,
      "outputs": []
    },
    {
      "cell_type": "code",
      "metadata": {
        "id": "UoPuxB2mFwB2"
      },
      "source": [
        "def tokenize(data, tokenizer=T, mtc:max_token_count=2, token_lngth,...)\n",
        "\n",
        "tokenize(data, mtc=2)"
      ],
      "execution_count": null,
      "outputs": []
    },
    {
      "cell_type": "markdown",
      "metadata": {
        "id": "6a5FaLaj7eYZ"
      },
      "source": [
        "## Произвольные аргументы"
      ]
    },
    {
      "cell_type": "markdown",
      "metadata": {
        "id": "6psJxbm7GMMb"
      },
      "source": [
        "Перед массивом произвольных неименованных аргументов может быть что угодно"
      ]
    },
    {
      "cell_type": "code",
      "metadata": {
        "id": "ZBQ_mnw97k8R"
      },
      "source": [
        "def multiplier(start, *args):\n",
        "  for arg in args:\n",
        "    start *= arg\n",
        "  return start\n",
        "\n",
        "print(multiplier(5))\n",
        "print(multiplier(0,2,3,4))\n",
        "print(multiplier(5,2,3,4,10,1))"
      ],
      "execution_count": null,
      "outputs": []
    },
    {
      "cell_type": "markdown",
      "metadata": {
        "id": "Q8MlIUrOGSPY"
      },
      "source": [
        "После массива также можно указать аргументы, но образатсья к ним можно только по имени"
      ]
    },
    {
      "cell_type": "code",
      "metadata": {
        "id": "SFlKi7I1F5Dx"
      },
      "source": [
        "def multiplier2(start, *args, end):\n",
        "  res = start\n",
        "  for arg in args:\n",
        "    res *= arg\n",
        "  return res + end"
      ],
      "execution_count": null,
      "outputs": []
    },
    {
      "cell_type": "code",
      "metadata": {
        "id": "1ZmoFAGCGCa9"
      },
      "source": [
        "multiplier2(1,2,3,4)"
      ],
      "execution_count": null,
      "outputs": []
    },
    {
      "cell_type": "code",
      "metadata": {
        "id": "sOnEc7niGCdw"
      },
      "source": [
        "multiplier2(1,2,3,end=4)"
      ],
      "execution_count": null,
      "outputs": []
    },
    {
      "cell_type": "markdown",
      "metadata": {
        "id": "S4uWLCTmItY-"
      },
      "source": [
        "Можно также задавать массив именованных аргументов"
      ]
    },
    {
      "cell_type": "code",
      "metadata": {
        "id": "w38UsjqLIszj"
      },
      "source": [
        "def summer(start, **kwargs):\n",
        "  return start + kwargs[\"end\"]\n",
        "\n",
        "print(summer(\"s\", middle=\"middle\", middle2=\"m2\", end=\"end\"))"
      ],
      "execution_count": null,
      "outputs": []
    },
    {
      "cell_type": "markdown",
      "metadata": {
        "id": "SqXxhul_72aV"
      },
      "source": [
        "## Указание типов"
      ]
    },
    {
      "cell_type": "markdown",
      "metadata": {
        "id": "Rf2VVajaG8Qk"
      },
      "source": [
        "Мы можем писать, какие мы ожидаем увидеть типы у аргументов и результатов"
      ]
    },
    {
      "cell_type": "code",
      "metadata": {
        "id": "8ouXRbz374nJ"
      },
      "source": [
        "def power(value_1: int, value_2: int) -> int:\n",
        "  return math.pow(value_1, value_2)"
      ],
      "execution_count": null,
      "outputs": []
    },
    {
      "cell_type": "code",
      "metadata": {
        "id": "gCADWDO7H5ve"
      },
      "source": [
        "print(power(2, 3))"
      ],
      "execution_count": null,
      "outputs": []
    },
    {
      "cell_type": "markdown",
      "metadata": {
        "id": "TAtd-XTvH95R"
      },
      "source": [
        "Но это все просто комментарии.."
      ]
    },
    {
      "cell_type": "code",
      "metadata": {
        "id": "zqVK-kQGH5y9"
      },
      "source": [
        "print(power(\"s\", 3))"
      ],
      "execution_count": null,
      "outputs": []
    },
    {
      "cell_type": "markdown",
      "metadata": {
        "id": "hPJSYj448CYO"
      },
      "source": [
        "## Имена"
      ]
    },
    {
      "cell_type": "markdown",
      "metadata": {
        "id": "xu1O4FI3RSCM"
      },
      "source": [
        "Именование переменных, функций, классов - важная вещь. По идее, одного взгляда на них должно быть достаточно доя того, чтобы понять, для чего они существуют"
      ]
    },
    {
      "cell_type": "code",
      "metadata": {
        "id": "NJcikgdd8Bzt"
      },
      "source": [
        "def func(a, b):\n",
        "  return [x * y for x in a for y in b]\n",
        "\n",
        "def array_zipper(source, source_2):\n",
        "  return [x * y for x in source for y in source_2]"
      ],
      "execution_count": null,
      "outputs": []
    },
    {
      "cell_type": "code",
      "metadata": {
        "id": "bZyZt4FASE8H"
      },
      "source": [
        "a = [1,2,3]\n",
        "b = [2,4]\n",
        "print(func(a, b))"
      ],
      "execution_count": null,
      "outputs": []
    },
    {
      "cell_type": "code",
      "metadata": {
        "id": "VWR8HtglIIk_"
      },
      "source": [
        "for range_counter in range(0, 10):\n",
        "  range_counter += 1\n",
        "  pass"
      ],
      "execution_count": null,
      "outputs": []
    },
    {
      "cell_type": "markdown",
      "metadata": {
        "id": "9EUOCTY-S25V"
      },
      "source": [
        "При этом очевидно, что все очень сильно зависит от того, какое время жизни у переменной - если переменная нужна лишь на одной строке, нет ничего зазорного в том, чтобы назвать ее __a__ или __x__"
      ]
    },
    {
      "cell_type": "markdown",
      "metadata": {
        "id": "4po8kQ8o986n"
      },
      "source": [
        "## Контекст"
      ]
    },
    {
      "cell_type": "markdown",
      "metadata": {
        "id": "pBPSE2ITAJbR"
      },
      "source": [
        "Обычно контекст используют при работе с файлами:"
      ]
    },
    {
      "cell_type": "code",
      "metadata": {
        "id": "WEtgrhI09-9n"
      },
      "source": [
        "f = open(\"test.txt\", \"w\")\n",
        "f.write(\"test line\")\n",
        "f.close()\n",
        "\n",
        "with open(\"test2.txt\", \"w\") as f:\n",
        "  f.write(\"test line\")"
      ],
      "execution_count": null,
      "outputs": []
    },
    {
      "cell_type": "markdown",
      "metadata": {
        "id": "0Ig7NNrXAMiU"
      },
      "source": [
        "Но на самом деле мы можем написать свой менеджер контекста:"
      ]
    },
    {
      "cell_type": "code",
      "metadata": {
        "id": "hgZ5FSEkAO7y"
      },
      "source": [
        "class Manager():\n",
        "    def __enter__(self):\n",
        "        print(\"enter\")\n",
        "    def __exit__(self, type, value, traceback):\n",
        "        print(\"exit\")\n",
        "\n",
        "with Manager() as m:\n",
        "  print(\"managing\")"
      ],
      "execution_count": null,
      "outputs": []
    },
    {
      "cell_type": "markdown",
      "metadata": {
        "id": "lXw5NUjd8kOP"
      },
      "source": [
        "## Pattern matching (Python 3.10+)"
      ]
    },
    {
      "cell_type": "code",
      "metadata": {
        "id": "Bpy5asoL8kZa"
      },
      "source": [
        "def do_stuff_v1(value):\n",
        "  if value == \"a\":\n",
        "    print(1)\n",
        "  elif value == \"b\":\n",
        "    print(2)\n",
        "  elif value == \"c\":\n",
        "    print(3)\n",
        "  else:\n",
        "    print(0)"
      ],
      "execution_count": null,
      "outputs": []
    },
    {
      "cell_type": "code",
      "metadata": {
        "id": "w5UAUEYR88tB"
      },
      "source": [
        "do_stuff_v1(\"a\")\n",
        "do_stuff_v1(\"asd\")"
      ],
      "execution_count": null,
      "outputs": []
    },
    {
      "cell_type": "code",
      "metadata": {
        "id": "WHVx4GJd9Bkv"
      },
      "source": [
        "def do_stuff_v2(value):\n",
        "  match value:\n",
        "    case \"a\":\n",
        "      print(1)\n",
        "    case \"b\":\n",
        "      print(2)\n",
        "    case \"c\":\n",
        "      print(3)\n",
        "    case _:\n",
        "      print(0)"
      ],
      "execution_count": null,
      "outputs": []
    },
    {
      "cell_type": "markdown",
      "metadata": {
        "id": "ELcBs6J982X2"
      },
      "source": [
        "## Кэширование"
      ]
    },
    {
      "cell_type": "markdown",
      "metadata": {
        "id": "seYLmYlPLCPE"
      },
      "source": [
        "Часто нам необходимо долго обрабатывать данные, при этом входные данные могут повторяться. Для того, чтобы сэкономить себе время, мы можем сделать себе кэш"
      ]
    },
    {
      "cell_type": "code",
      "metadata": {
        "id": "a9UUEboy87On"
      },
      "source": [
        "cache = {}\n",
        "\n",
        "def compute_output(input):\n",
        "  time.sleep(2)\n",
        "  return input * 10\n",
        "\n",
        "def compute(input):\n",
        "  if input in cache.keys():\n",
        "    return cache[input]\n",
        "  output = compute_output(input)\n",
        "  cache[input] = output\n",
        "  return output"
      ],
      "execution_count": null,
      "outputs": []
    },
    {
      "cell_type": "code",
      "metadata": {
        "id": "7JfDX3eQLsA3"
      },
      "source": [
        "%%time\n",
        "compute(\"a\")"
      ],
      "execution_count": null,
      "outputs": []
    },
    {
      "cell_type": "code",
      "metadata": {
        "id": "8-ZLrwgQME9h"
      },
      "source": [
        "%%time\n",
        "compute(\"a\")"
      ],
      "execution_count": null,
      "outputs": []
    },
    {
      "cell_type": "markdown",
      "metadata": {
        "id": "1trd4WZxA5s0"
      },
      "source": [
        "## Работа с исключениями"
      ]
    },
    {
      "cell_type": "markdown",
      "metadata": {
        "id": "ZqJvatgsN3fQ"
      },
      "source": [
        "Иногда мы хотим написать простую функцию"
      ]
    },
    {
      "cell_type": "code",
      "metadata": {
        "id": "P83-VeGxA7KR"
      },
      "source": [
        "def divider(a, b):\n",
        "  res = a / b\n",
        "  return res"
      ],
      "execution_count": null,
      "outputs": []
    },
    {
      "cell_type": "markdown",
      "metadata": {
        "id": "hsJPnKzSOBSv"
      },
      "source": [
        "Но что-то может пойти не так"
      ]
    },
    {
      "cell_type": "code",
      "metadata": {
        "id": "As0Ue1VRNV0A"
      },
      "source": [
        "print(divider(1, 0))"
      ],
      "execution_count": null,
      "outputs": []
    },
    {
      "cell_type": "markdown",
      "metadata": {
        "id": "ryhx8LyTOB_5"
      },
      "source": [
        "Для того, чтобы уберечь себя, мы можем использовать конструкцию try-except:\n",
        "- try - что пытаемся сделать\n",
        "- except - какие исключения пытаемся ловить и что делаем, если их поймаем\n",
        "- else - что делаем, если не словили ошибку\n",
        "- finally - что делаем при любом исходе"
      ]
    },
    {
      "cell_type": "code",
      "metadata": {
        "id": "mzr40ZRFNZQ5"
      },
      "source": [
        "def safe_divider(a, b):\n",
        "  try:\n",
        "    res = a / b\n",
        "  except ZeroDivisionError:\n",
        "    print(\"unsafe division!\")\n",
        "    res = 0\n",
        "  else:\n",
        "    print(\"safe division!\")\n",
        "  finally:\n",
        "    return res"
      ],
      "execution_count": null,
      "outputs": []
    },
    {
      "cell_type": "code",
      "metadata": {
        "id": "BgUWeRVXN1P2"
      },
      "source": [
        "print(safe_divider(1,1))"
      ],
      "execution_count": null,
      "outputs": []
    },
    {
      "cell_type": "code",
      "metadata": {
        "id": "FYRnxak_N1rF"
      },
      "source": [
        "print(safe_divider(1,0))"
      ],
      "execution_count": null,
      "outputs": []
    },
    {
      "cell_type": "markdown",
      "metadata": {
        "id": "TTa-vMg2Bi4y"
      },
      "source": [
        "## Итераторы"
      ]
    },
    {
      "cell_type": "markdown",
      "metadata": {
        "id": "ZXEuq5Z5Orob"
      },
      "source": [
        "Итераторы нужны для того, чтобы можно было удобно проходить по элементам некоей сущности. Обычно при проходе по элементам списка мы делаем так:"
      ]
    },
    {
      "cell_type": "code",
      "metadata": {
        "id": "4FshnOSeBlNi"
      },
      "source": [
        "num_list = [1, 2, 3]\n",
        "for i in num_list:\n",
        "  print(i)"
      ],
      "execution_count": null,
      "outputs": []
    },
    {
      "cell_type": "markdown",
      "metadata": {
        "id": "px6bfw0qPIc8"
      },
      "source": [
        "Но можно создать итератор - объект, который может вернуть нам очередной элемент или же кинуть исключение"
      ]
    },
    {
      "cell_type": "code",
      "metadata": {
        "id": "Qe5QI8NoO1Vm"
      },
      "source": [
        "itr = iter(num_list)\n",
        "print(next(itr))\n",
        "print(next(itr))\n",
        "print(next(itr))\n",
        "print(next(itr))"
      ],
      "execution_count": null,
      "outputs": []
    },
    {
      "cell_type": "markdown",
      "metadata": {
        "id": "WxMdQPcjPd3n"
      },
      "source": [
        "Мы можем делать и собственные итераторы"
      ]
    },
    {
      "cell_type": "code",
      "metadata": {
        "id": "ylGb9a4aPdSx"
      },
      "source": [
        "class SimpleIterator:\n",
        "  def __init__(self, limit):\n",
        "    self.limit = limit\n",
        "    self.counter = 0\n",
        "\n",
        "  def __next__(self):\n",
        "    if self.counter < self.limit:\n",
        "      self.counter += 1\n",
        "      return 1\n",
        "    else:\n",
        "      raise StopIteration\n",
        "\n",
        "s_iter1 = SimpleIterator(3)\n",
        "print(next(s_iter1))\n",
        "print(next(s_iter1))\n",
        "print(next(s_iter1))\n",
        "print(next(s_iter1))"
      ],
      "execution_count": null,
      "outputs": []
    },
    {
      "cell_type": "markdown",
      "metadata": {
        "id": "J27B7A4RP0EE"
      },
      "source": [
        "## Генераторы"
      ]
    },
    {
      "cell_type": "markdown",
      "metadata": {
        "id": "qX83f49HQEre"
      },
      "source": [
        "Генератор - функция, которая определяет правила для __next__  \n",
        "При этом вместо того, чтобы возвращать значение с помощью __return__, мы их __yield__'им"
      ]
    },
    {
      "cell_type": "code",
      "metadata": {
        "id": "0W6_PS2yKwFw"
      },
      "source": [],
      "execution_count": null,
      "outputs": []
    },
    {
      "cell_type": "code",
      "metadata": {
        "id": "uuQ_sZaqP3F7"
      },
      "source": [
        "def simple_generator(val):\n",
        "  while val > 0:\n",
        "    val -= 1\n",
        "    yield 1\n",
        "\n",
        "g = simple_generator(3)\n",
        "print(next(g))\n",
        "print(next(g))\n",
        "print(next(g))\n",
        "print(next(g))"
      ],
      "execution_count": null,
      "outputs": []
    },
    {
      "cell_type": "markdown",
      "metadata": {
        "id": "A-1rJ-GeQz0F"
      },
      "source": [
        "Важно учитывать, что:\n",
        "- генератор не хранит в себе все значения\n",
        "- генератор как бы замораживается в процессе работы, ожидая очередную своб итерацию\n",
        "- можно добавить сообщение в конце!"
      ]
    },
    {
      "cell_type": "code",
      "metadata": {
        "id": "5vHsgPnaRHXx"
      },
      "source": [
        "def simple_generator(val):\n",
        "  while val > 0:\n",
        "    val -= 1\n",
        "    yield 1\n",
        "  return \"the end!\"\n",
        "\n",
        "\n",
        "g = simple_generator(3)\n",
        "print(next(g))\n",
        "print(next(g))\n",
        "print(next(g))\n",
        "print(next(g))"
      ],
      "execution_count": null,
      "outputs": []
    },
    {
      "cell_type": "markdown",
      "metadata": {
        "id": "xZpIsU_O8J3g"
      },
      "source": [
        "## Линтеры"
      ]
    },
    {
      "cell_type": "markdown",
      "metadata": {
        "id": "bfTbD_KXM6_K"
      },
      "source": [
        "Существуют инструменты, которые проверяют как стиль написания кода, так и сам код (к примеру, говорят, что объявленная переменная нигде не используется). Их называют линтерами. Самым известным линтером можно назвать Flake8"
      ]
    },
    {
      "cell_type": "markdown",
      "metadata": {
        "id": "gXgchJ3OTVgs"
      },
      "source": [
        "# Некоторые из частых ошибок"
      ]
    },
    {
      "cell_type": "markdown",
      "metadata": {
        "id": "gzZd_7qUTZza"
      },
      "source": [
        "## Работа с массивом, а не с его копией"
      ]
    },
    {
      "cell_type": "code",
      "metadata": {
        "id": "Vb32nW2WTVCN"
      },
      "source": [
        "aa = [1,2,3,4,5]\n",
        "for i in range(0, len(aa)):\n",
        "  a = aa[i]\n",
        "  if a == 3 or a == 4:\n",
        "    aa.pop(i)\n",
        "print(aa)"
      ],
      "execution_count": null,
      "outputs": []
    },
    {
      "cell_type": "code",
      "metadata": {
        "id": "bmhLwlasToJk"
      },
      "source": [
        "aa = [1,2,3,4,5]\n",
        "for a in aa:\n",
        "  if a == 3 or a == 4:\n",
        "    aa.remove(a)\n",
        "print(aa)"
      ],
      "execution_count": null,
      "outputs": []
    },
    {
      "cell_type": "code",
      "metadata": {
        "id": "tmlGBockMbA_"
      },
      "source": [
        "aa = [1,2,3,4,5]\n",
        "for a in aa.copy():\n",
        "  if a == 3 or a == 4:\n",
        "    aa.remove(a)\n",
        "print(aa)"
      ],
      "execution_count": null,
      "outputs": []
    },
    {
      "cell_type": "markdown",
      "metadata": {
        "id": "PPd3HcD7UFrB"
      },
      "source": [
        "##Значение по умолчанию, являющееся изменяемым объектом"
      ]
    },
    {
      "cell_type": "code",
      "metadata": {
        "id": "ZvYlOpF-UDtS"
      },
      "source": [
        "def test_list(a=[]):\n",
        "  a.append(\"a\")\n",
        "  return a\n",
        "\n",
        "print(test_list())\n",
        "print(test_list())"
      ],
      "execution_count": null,
      "outputs": []
    },
    {
      "cell_type": "code",
      "metadata": {
        "id": "XJyGKm5xUUMU"
      },
      "source": [
        "def test_dict(key, a={}):\n",
        "  a[key] = 0\n",
        "  return a\n",
        "\n",
        "print(test_dict(\"a\"))\n",
        "print(test_dict(\"b\"))"
      ],
      "execution_count": null,
      "outputs": []
    },
    {
      "cell_type": "markdown",
      "metadata": {
        "id": "AVAppWZwU0-m"
      },
      "source": [
        "## Поля класса"
      ]
    },
    {
      "cell_type": "code",
      "metadata": {
        "id": "ZlcKyidbUnOv"
      },
      "source": [
        "class A():\n",
        "  val = 1\n",
        "\n",
        "class B(A):\n",
        "  pass\n",
        "\n",
        "class C(A):\n",
        "  pass\n",
        "\n",
        "a = A()\n",
        "b = B()\n",
        "c = C()"
      ],
      "execution_count": null,
      "outputs": []
    },
    {
      "cell_type": "code",
      "metadata": {
        "id": "rw48-vuJVE80"
      },
      "source": [
        "print(a.val, b.val, c.val)\n",
        "print(a.__dict__, b.__dict__, c.__dict__)"
      ],
      "execution_count": null,
      "outputs": []
    },
    {
      "cell_type": "markdown",
      "metadata": {
        "id": "9xY5Xz7NONts"
      },
      "source": [
        "При изменении __val__ у экземпляра __b__ на самом деле мы добавляем ему такое поле  (раньше он искал его у __super()__'а"
      ]
    },
    {
      "cell_type": "code",
      "metadata": {
        "id": "JJWokNtWOfEA"
      },
      "source": [
        "b.val = 2\n",
        "print(a.val, b.val, c.val)\n",
        "print(a.__dict__, b.__dict__, c.__dict__)"
      ],
      "execution_count": null,
      "outputs": []
    },
    {
      "cell_type": "markdown",
      "metadata": {
        "id": "y2euyVxXOy19"
      },
      "source": [
        "Даже если мы у экземлпяра класса родителя изменим __val__, это ни на кого не повлияет"
      ]
    },
    {
      "cell_type": "code",
      "metadata": {
        "id": "hHoz2MSAOjuS"
      },
      "source": [
        "a.val = 10\n",
        "print(a.val, b.val, c.val)\n",
        "print(a.__dict__, b.__dict__, c.__dict__)"
      ],
      "execution_count": null,
      "outputs": []
    },
    {
      "cell_type": "markdown",
      "metadata": {
        "id": "Yh2HswDsO8Z7"
      },
      "source": [
        "Изменение же значения поля всего класса повлечет изменение значения у __c__, потому что __c.val__ на самом деле ссылается на __A.val__"
      ]
    },
    {
      "cell_type": "code",
      "metadata": {
        "id": "XVLVz7OMOkuo"
      },
      "source": [
        "A.val=9\n",
        "print(a.val, b.val, c.val)\n",
        "print(a.__dict__, b.__dict__, c.__dict__)"
      ],
      "execution_count": null,
      "outputs": []
    }
  ]
}