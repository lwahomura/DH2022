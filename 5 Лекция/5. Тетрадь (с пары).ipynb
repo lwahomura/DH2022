{
  "nbformat": 4,
  "nbformat_minor": 0,
  "metadata": {
    "colab": {
      "provenance": []
    },
    "kernelspec": {
      "name": "python3",
      "display_name": "Python 3"
    },
    "language_info": {
      "name": "python"
    }
  },
  "cells": [
    {
      "cell_type": "markdown",
      "source": [
        "# Структуры и алгоритмы"
      ],
      "metadata": {
        "id": "hHMNvgukzlj1"
      }
    },
    {
      "cell_type": "markdown",
      "source": [
        "Структуры - объекты, хранящие в себе однотипные данные. Рассмотрим некоторые из них."
      ],
      "metadata": {
        "id": "diVXA05j0Jtz"
      }
    },
    {
      "cell_type": "markdown",
      "source": [
        "## Списки"
      ],
      "metadata": {
        "id": "inawvqla0cU5"
      }
    },
    {
      "cell_type": "markdown",
      "source": [
        "Списки бывают односвязные (самые простые) и двусвязные."
      ],
      "metadata": {
        "id": "Ve30mcyy0gmo"
      }
    },
    {
      "cell_type": "code",
      "source": [
        "# elem1 -> elem2 -> elem3 -> ...\n",
        "\n",
        "# elem1 -> elem2 -> elem3 -> ...\n",
        "#       <-       <-       <-"
      ],
      "metadata": {
        "id": "AztbheGhre-4"
      },
      "execution_count": null,
      "outputs": []
    },
    {
      "cell_type": "code",
      "source": [
        "class LinkedList():\n",
        "  def __init__(self, value):\n",
        "    self.value = value\n",
        "    self.next = None\n",
        "\n",
        "  def bind_next(self, other):\n",
        "    self.next = other\n",
        "\n",
        "  def print_all(self):\n",
        "    curr_node = self\n",
        "    vals = []\n",
        "    while curr_node:\n",
        "      vals.append(curr_node.value)\n",
        "      curr_node = curr_node.next\n",
        "    print(vals)\n",
        "\n",
        "  def add_node(self, value, other):\n",
        "    curr_node = self\n",
        "    # a -> b -> d\n",
        "    # next=b\n",
        "    # a -> c\n",
        "    # a -> c -> b -> d\n",
        "\n",
        "    while curr_node:\n",
        "      if curr_node.value == value:\n",
        "        next_node = curr_node.next\n",
        "        curr_node.next = other\n",
        "        other.next = next_node\n",
        "        return\n",
        "\n",
        "      curr_node = curr_node.next\n",
        "\n",
        "  def delete_node(self, value):\n",
        "    # a -> b -> c\n",
        "    # to_delete=b\n",
        "    # a -> c\n",
        "\n",
        "    curr_node = self\n",
        "\n",
        "    parent = None\n",
        "\n",
        "    while curr_node:\n",
        "      if curr_node.value == value:\n",
        "        if parent:\n",
        "          parent.next = curr_node.next\n",
        "          return self\n",
        "        else:\n",
        "          return self.next\n",
        "\n",
        "      parent = curr_node\n",
        "      curr_node = curr_node.next"
      ],
      "metadata": {
        "id": "FhrWdN8Gzkwb"
      },
      "execution_count": null,
      "outputs": []
    },
    {
      "cell_type": "code",
      "source": [
        "ll_1 = LinkedList(0)\n",
        "ll_2 = LinkedList(1)\n",
        "ll_3 = LinkedList(2)\n",
        "ll_4 = LinkedList(3)\n",
        "\n",
        "ll_1.bind_next(ll_2)\n",
        "ll_2.bind_next(ll_3)\n",
        "ll_3.bind_next(ll_4)"
      ],
      "metadata": {
        "id": "YNdKHpE0r34I"
      },
      "execution_count": null,
      "outputs": []
    },
    {
      "cell_type": "code",
      "source": [
        "ll_1.print_all()"
      ],
      "metadata": {
        "colab": {
          "base_uri": "https://localhost:8080/"
        },
        "id": "SK0POon-r6JL",
        "outputId": "36eaa5e0-7a65-47eb-bb8b-975c3830ef16"
      },
      "execution_count": null,
      "outputs": [
        {
          "output_type": "stream",
          "name": "stdout",
          "text": [
            "[0, 1, 2, 3]\n"
          ]
        }
      ]
    },
    {
      "cell_type": "code",
      "source": [
        "l0 = LinkedList(0)\n",
        "l1= LinkedList(1)\n",
        "l2 = LinkedList(2)\n",
        "l3 = LinkedList(3)\n",
        "\n",
        "l0.bind_next(l1)\n",
        "l1.bind_next(l2)\n",
        "\n",
        "l0.print_all()\n",
        "\n",
        "l0.add_node(2, l3)\n",
        "\n",
        "l0.print_all()"
      ],
      "metadata": {
        "colab": {
          "base_uri": "https://localhost:8080/"
        },
        "id": "SAcd4Ahft2SX",
        "outputId": "1045b7a3-36b0-466c-95e9-32bca88f35d9"
      },
      "execution_count": null,
      "outputs": [
        {
          "output_type": "stream",
          "name": "stdout",
          "text": [
            "[0, 1, 2]\n",
            "[0, 1, 2, 3]\n"
          ]
        }
      ]
    },
    {
      "cell_type": "code",
      "source": [
        "l0 = LinkedList(0)\n",
        "l1= LinkedList(1)\n",
        "l2 = LinkedList(2)\n",
        "\n",
        "l0.bind_next(l1)\n",
        "l1.bind_next(l2)\n",
        "\n",
        "l0.print_all()\n",
        "\n",
        "l0.delete_node(2).print_all()"
      ],
      "metadata": {
        "colab": {
          "base_uri": "https://localhost:8080/"
        },
        "id": "VrSekYMuviCr",
        "outputId": "d01a8763-7dd8-4d36-8829-1d0e9af8a4a8"
      },
      "execution_count": null,
      "outputs": [
        {
          "output_type": "stream",
          "name": "stdout",
          "text": [
            "[0, 1, 2]\n",
            "[0, 1]\n"
          ]
        }
      ]
    },
    {
      "cell_type": "code",
      "source": [
        "class DoubleLinkedList():\n",
        "  def __init__(self, value):\n",
        "    self.value = value\n",
        "    self.next = None\n",
        "    self.prev = None\n",
        "\n",
        "  def bind_next(self, other):\n",
        "    self.next = other\n",
        "    other.prev = self"
      ],
      "metadata": {
        "id": "AQstX3I-rr4p"
      },
      "execution_count": null,
      "outputs": []
    },
    {
      "cell_type": "code",
      "source": [
        "dll_1 = DoubleLinkedList(0)\n",
        "dll_2 = DoubleLinkedList(1)\n",
        "dll_3 = DoubleLinkedList(2)\n",
        "\n",
        "dll_1.bind_next(dll_2)\n",
        "dll_2.bind_next(dll_3)\n",
        "\n",
        "print(dll_1.value, dll_1.next.value, dll_1.next.next.value)\n",
        "print(dll_3.value, dll_3.prev.value, dll_3.prev.prev.value)"
      ],
      "metadata": {
        "id": "fPALKf2b12AC",
        "colab": {
          "base_uri": "https://localhost:8080/"
        },
        "outputId": "e3b3fb3c-28ec-424b-f404-ec7ac3767d56"
      },
      "execution_count": null,
      "outputs": [
        {
          "output_type": "stream",
          "name": "stdout",
          "text": [
            "0 1 2\n",
            "2 1 0\n"
          ]
        }
      ]
    },
    {
      "cell_type": "markdown",
      "source": [
        "Какие операции можно провернуть со списками? Можно добавлять элемент, удалять элемент, находить элемент и т.д."
      ],
      "metadata": {
        "id": "5KVwzGh52EQZ"
      }
    },
    {
      "cell_type": "code",
      "source": [
        "# elem1 -> elem2 -> elem3 -> elem4\n",
        "#           ^                   |\n",
        "#           |                   |\n",
        "#           ---------------------\n",
        "\n",
        "# 1 цикл (шаг 1)\n",
        "# elem1 elem2 elem3 elem4 elem2 elem3 elem4 ...\n",
        "# 2 цикл (шаг 2)\n",
        "# elem2 elem4 elem3"
      ],
      "metadata": {
        "id": "hUbKqHi8s3IA"
      },
      "execution_count": null,
      "outputs": []
    },
    {
      "cell_type": "code",
      "source": [
        "class LinkedList_task():\n",
        "  def __init__(self, value):\n",
        "    self.value = value\n",
        "    self.next = None\n",
        "\n",
        "    self.seen = False\n",
        "\n",
        "  def bind_next(self, other):\n",
        "      self.next = other\n",
        "\n",
        "  def check(self):\n",
        "    curr_node = self\n",
        "\n",
        "    while curr_node:\n",
        "      if curr_node.seen:\n",
        "        return \"STOP\"\n",
        "      curr_node.seen = True\n",
        "      curr_node = curr_node.next\n",
        "\n",
        "  def check_v2(self):\n",
        "    curr_node = self\n",
        "\n",
        "    seen = []\n",
        "\n",
        "    while curr_node:\n",
        "      if curr_node in seen:\n",
        "        return \"STOP\"\n",
        "      seen.append(curr_node)\n",
        "      curr_node = curr_node.next"
      ],
      "metadata": {
        "id": "eBDsISEEwQjh"
      },
      "execution_count": null,
      "outputs": []
    },
    {
      "cell_type": "code",
      "source": [
        "ll_1 = LinkedList_task(0)\n",
        "ll_2 = LinkedList_task(1)\n",
        "ll_3 = LinkedList_task(2)\n",
        "ll_4 = LinkedList_task(3)\n",
        "\n",
        "ll_1.bind_next(ll_2)\n",
        "ll_2.bind_next(ll_3)\n",
        "ll_3.bind_next(ll_4)\n",
        "\n",
        "print(ll_1.check())"
      ],
      "metadata": {
        "colab": {
          "base_uri": "https://localhost:8080/"
        },
        "id": "KYenqAYkwoIr",
        "outputId": "35912a6c-0642-475d-cc12-741417b93a07"
      },
      "execution_count": null,
      "outputs": [
        {
          "output_type": "stream",
          "name": "stdout",
          "text": [
            "None\n"
          ]
        }
      ]
    },
    {
      "cell_type": "code",
      "source": [
        "ll_4.bind_next(ll_2)\n",
        "print(ll_1.check())"
      ],
      "metadata": {
        "colab": {
          "base_uri": "https://localhost:8080/"
        },
        "id": "zS8nSJpVw24n",
        "outputId": "a255e933-9523-4bb4-9ba5-46ad7f7958dd"
      },
      "execution_count": null,
      "outputs": [
        {
          "output_type": "stream",
          "name": "stdout",
          "text": [
            "STOP\n"
          ]
        }
      ]
    },
    {
      "cell_type": "markdown",
      "source": [
        "## Стеки (LIFO)"
      ],
      "metadata": {
        "id": "FnHJYPLc3aGO"
      }
    },
    {
      "cell_type": "code",
      "source": [
        "# 1\n",
        "# 1 2\n",
        "# 1 2 3\n",
        "# 1 2\n",
        "\n",
        "# last in - first out"
      ],
      "metadata": {
        "id": "-a7q7DjPyfM6"
      },
      "execution_count": null,
      "outputs": []
    },
    {
      "cell_type": "code",
      "source": [
        "class Stack():\n",
        "  def __init__(self):\n",
        "    self.values = []\n",
        "\n",
        "  def put(self, value):\n",
        "    self.values.append(value)\n",
        "\n",
        "  def pop(self):\n",
        "    print(self.values[len(self.values)-1])\n",
        "    self.values = self.values[:len(self.values)-1]"
      ],
      "metadata": {
        "id": "xTtw3bRn3qKN"
      },
      "execution_count": null,
      "outputs": []
    },
    {
      "cell_type": "code",
      "source": [
        "s = Stack()\n",
        "s.put(3)\n",
        "s.put(5)\n",
        "s.put(7)\n",
        "s.pop()\n",
        "s.pop()\n",
        "s.pop()"
      ],
      "metadata": {
        "id": "BqrbNtZj7GOQ",
        "colab": {
          "base_uri": "https://localhost:8080/"
        },
        "outputId": "f5aaf8b8-141c-46ba-a668-ec37a6323ca1"
      },
      "execution_count": null,
      "outputs": [
        {
          "output_type": "stream",
          "name": "stdout",
          "text": [
            "7\n",
            "5\n",
            "3\n"
          ]
        }
      ]
    },
    {
      "cell_type": "code",
      "source": [
        "# main\n",
        "# main my_func\n",
        "# main my_func my_func_internal\n",
        "# main my_func"
      ],
      "metadata": {
        "id": "XW5EE6RLzDy2"
      },
      "execution_count": null,
      "outputs": []
    },
    {
      "cell_type": "markdown",
      "source": [
        "## Очереди (FIFO)"
      ],
      "metadata": {
        "id": "kgO9iyFW3d0X"
      }
    },
    {
      "cell_type": "code",
      "source": [
        "# 1\n",
        "# 1 2\n",
        "# 1 2 3\n",
        "# 2 3\n",
        "\n",
        "# first in - first out"
      ],
      "metadata": {
        "id": "FfJE8ZgaynZQ"
      },
      "execution_count": null,
      "outputs": []
    },
    {
      "cell_type": "code",
      "source": [
        "class Queue():\n",
        "  def __init__(self):\n",
        "    self.values = []\n",
        "\n",
        "  def put(self, value):\n",
        "    self.values.append(value)\n",
        "\n",
        "  def pop(self):\n",
        "    print(self.values[0])\n",
        "    self.values = self.values[1:]"
      ],
      "metadata": {
        "id": "Jn4mkitQ3qnP"
      },
      "execution_count": null,
      "outputs": []
    },
    {
      "cell_type": "code",
      "source": [
        "q = Queue()\n",
        "q.put(3)\n",
        "q.put(5)\n",
        "q.put(7)\n",
        "q.pop()\n",
        "q.pop()\n",
        "q.pop()"
      ],
      "metadata": {
        "id": "rnJY8QoY7iR2",
        "colab": {
          "base_uri": "https://localhost:8080/"
        },
        "outputId": "9ce06245-562a-4384-973e-e5938b1cee69"
      },
      "execution_count": null,
      "outputs": [
        {
          "output_type": "stream",
          "name": "stdout",
          "text": [
            "3\n",
            "5\n",
            "7\n"
          ]
        }
      ]
    },
    {
      "cell_type": "code",
      "source": [
        "# service1 (1s)\n",
        "# service2 (100s)\n",
        "\n",
        "# 1) заставляем ждать (-)\n",
        "\n",
        "# 2) HTTP StatusCode 202 (-)\n",
        "\n",
        "# 3) DB\n",
        "\n",
        "# 4) queues (kafka, rabbitmq)\n",
        "# producer - Q - consumer\n",
        "#   m1\n",
        "#           [m1]\n",
        "#                   m1\n",
        "#   m2\n",
        "#   m3      [m2]    m1\n",
        "#          [m2, m3] m1"
      ],
      "metadata": {
        "id": "blbm2Ja_zt_b"
      },
      "execution_count": null,
      "outputs": []
    },
    {
      "cell_type": "markdown",
      "source": [
        "## Деревья"
      ],
      "metadata": {
        "id": "3qZIXG5J3i1j"
      }
    },
    {
      "cell_type": "code",
      "source": [
        "data = [2, 4, 1, 3, 6, 5, 7]\n",
        "\n",
        "min = data[0]\n",
        "for item in data:\n",
        "  if item < min:\n",
        "    min = item\n",
        "\n",
        "#         2\n",
        "#      1       4\n",
        "#           3     6\n",
        "#                5  7\n",
        "\n",
        "#          4\n",
        "#     2          6\n",
        "#   1   3     5     7"
      ],
      "metadata": {
        "id": "KKokulHs1pa2"
      },
      "execution_count": null,
      "outputs": []
    },
    {
      "cell_type": "code",
      "source": [
        "class BinaryTreeNode():\n",
        "  def __init__(self, value):\n",
        "    self.l = None\n",
        "    self.r = None\n",
        "    self.value = value\n",
        "\n",
        "  def print(self):\n",
        "    print(self.value)\n",
        "    if self.l:\n",
        "      print(\"left for\", self.value)\n",
        "      self.l.print()\n",
        "    if self.r:\n",
        "      print(\"right for\", self.value)\n",
        "      self.r.print()\n",
        "\n",
        "class BinaryTree():\n",
        "  def __init__(self):\n",
        "    self.root = None\n",
        "\n",
        "  def add(self, value):\n",
        "    if not self.root:\n",
        "        self.root = BinaryTreeNode(value)\n",
        "        return\n",
        "\n",
        "    def _add(node, value):\n",
        "      if node.value > value:\n",
        "        if node.l:\n",
        "          _add(node.l, value)\n",
        "        else:\n",
        "          node.l = BinaryTreeNode(value)\n",
        "      else:\n",
        "        if node.r:\n",
        "          _add(node.r, value)\n",
        "        else:\n",
        "          node.r = BinaryTreeNode(value)\n",
        "\n",
        "    _add(self.root, value)\n",
        "\n",
        "  def print_all(self):\n",
        "    self.root.print()"
      ],
      "metadata": {
        "id": "txdxh9JU3rTU"
      },
      "execution_count": null,
      "outputs": []
    },
    {
      "cell_type": "code",
      "source": [
        "t = BinaryTree()\n",
        "t.add(5)\n",
        "t.add(4)\n",
        "t.add(1)\n",
        "t.add(8)\n",
        "t.add(6)\n",
        "t.add(9)"
      ],
      "metadata": {
        "id": "xYLHekL39Z6V"
      },
      "execution_count": null,
      "outputs": []
    },
    {
      "cell_type": "code",
      "source": [
        "t.print_all()"
      ],
      "metadata": {
        "id": "IiyqMtAK9841",
        "colab": {
          "base_uri": "https://localhost:8080/"
        },
        "outputId": "d53ed8e8-f8e5-433c-adea-1ae40d759694"
      },
      "execution_count": null,
      "outputs": [
        {
          "output_type": "stream",
          "name": "stdout",
          "text": [
            "5\n",
            "left for 5\n",
            "4\n",
            "left for 4\n",
            "1\n",
            "right for 5\n",
            "8\n",
            "left for 8\n",
            "6\n",
            "right for 8\n",
            "9\n"
          ]
        }
      ]
    },
    {
      "cell_type": "markdown",
      "source": [
        "## Оценка"
      ],
      "metadata": {
        "id": "u3Yx2ziI-iXl"
      }
    },
    {
      "cell_type": "markdown",
      "source": [
        "Обычно алгоритмы оценивают по:\n",
        "- памяти\n",
        "- времени"
      ],
      "metadata": {
        "id": "koJwC21z-koV"
      }
    },
    {
      "cell_type": "markdown",
      "source": [
        "Оценка по памяти заключается в ответе на вопрос, сколько нужно будет выделить памяти для решения задачи (n -> inf)"
      ],
      "metadata": {
        "id": "Wp-Nl245-teo"
      }
    },
    {
      "cell_type": "code",
      "source": [
        "def bad_clear(data):\n",
        "  new_data = []\n",
        "  for item in data:\n",
        "    if item % 2 == 0:\n",
        "      new_data.append(item)\n",
        "\n",
        "  return new_data\n",
        "\n",
        "\n",
        "# [1,5,2,4]\n",
        "# 0, 4 (1 vs 4)\n",
        "# [4,5,2,1]\n",
        "# 0, 3 (4 vs 2)\n",
        "# 1, 3 (5 vs 2)\n",
        "# [4,2,5,1]\n",
        "# 1, 2 (2 vs 5)\n",
        "# ------\n",
        "# data[:2]\n",
        "\n",
        "def good_clear(data):\n",
        "  i = 0\n",
        "  end = len(data)\n",
        "\n",
        "  while i < end:\n",
        "    if data[i] % 2 == 0:\n",
        "      i += 1\n",
        "    else:\n",
        "      data[i], data[end-1] = data[end-1], data[i]\n",
        "      end -= 1\n",
        "\n",
        "  return data[:end]"
      ],
      "metadata": {
        "id": "bs8uO28O-__x"
      },
      "execution_count": null,
      "outputs": []
    },
    {
      "cell_type": "code",
      "source": [
        "data_1 = [2,4,6,8,10,12]\n",
        "print(bad_clear(data_1))\n",
        "print(good_clear(data_1))"
      ],
      "metadata": {
        "id": "cwleOaKXBy5_",
        "colab": {
          "base_uri": "https://localhost:8080/"
        },
        "outputId": "97141f5a-14d5-482b-d82f-2edbfb5cf5e2"
      },
      "execution_count": null,
      "outputs": [
        {
          "output_type": "stream",
          "name": "stdout",
          "text": [
            "[2, 4, 6, 8, 10, 12]\n",
            "[2, 4, 6, 8, 10, 12]\n"
          ]
        }
      ]
    },
    {
      "cell_type": "code",
      "source": [
        "data_2 = [1,5,2,4,9,10,2,8,1]\n",
        "print(bad_clear(data_2))\n",
        "print(good_clear(data_2))"
      ],
      "metadata": {
        "id": "s2ey8yQlCZSf",
        "colab": {
          "base_uri": "https://localhost:8080/"
        },
        "outputId": "a519bf08-808c-47a1-d7bf-55e727587a4d"
      },
      "execution_count": null,
      "outputs": [
        {
          "output_type": "stream",
          "name": "stdout",
          "text": [
            "[2, 4, 10, 2, 8]\n",
            "[8, 2, 2, 4, 10]\n"
          ]
        }
      ]
    },
    {
      "cell_type": "code",
      "source": [
        "data_3 = [1,5,7,11,5,7,21]\n",
        "print(bad_clear(data_3))\n",
        "print(good_clear(data_3))"
      ],
      "metadata": {
        "id": "BvYhdC8hCrXE",
        "colab": {
          "base_uri": "https://localhost:8080/"
        },
        "outputId": "38028a4a-9191-40b3-a41b-f7ff7d01fed7"
      },
      "execution_count": null,
      "outputs": [
        {
          "output_type": "stream",
          "name": "stdout",
          "text": [
            "[]\n",
            "[]\n"
          ]
        }
      ]
    },
    {
      "cell_type": "markdown",
      "source": [
        "Оценка по времени заключается в ответе на вопрос, сколько времени займет решение проблемы (n -> inf)"
      ],
      "metadata": {
        "id": "hDmfvscZ-1Xd"
      }
    },
    {
      "cell_type": "code",
      "source": [
        "# [6, 1, 2, 4, 3, 5]\n",
        "# [1, 6, 2, 4, 3, 5]\n",
        "# [1, 2, 6, 4, 3, 5]\n",
        "# [1, 2, 4, 6, 3, 5]\n",
        "# [1, 2, 4, 3, 6, 5]\n",
        "# [1, 2, 4, 3, 5, 6]\n",
        "# [1, 2, 3, 4, 5, 6]"
      ],
      "metadata": {
        "id": "WSJcyEJi5jP4"
      },
      "execution_count": null,
      "outputs": []
    },
    {
      "cell_type": "code",
      "source": [
        "def bubble_sort(data):\n",
        "  for i in range(len(data)):\n",
        "    for j in range(len(data)-i-1):\n",
        "      if data[j] > data[j+1]:\n",
        "        data[j], data[j+1] = data[j+1], data[j]"
      ],
      "metadata": {
        "id": "XzIYKqqN-h1P"
      },
      "execution_count": null,
      "outputs": []
    },
    {
      "cell_type": "code",
      "source": [
        "data = [1,3,67,21,3,45,1]\n",
        "bubble_sort(data)\n",
        "print(data)"
      ],
      "metadata": {
        "id": "XAvMYC0w_w7T",
        "colab": {
          "base_uri": "https://localhost:8080/"
        },
        "outputId": "65b62c35-b493-42d2-80e5-61ffefc3070a"
      },
      "execution_count": null,
      "outputs": [
        {
          "output_type": "stream",
          "name": "stdout",
          "text": [
            "[1, 1, 3, 3, 21, 45, 67]\n"
          ]
        }
      ]
    },
    {
      "cell_type": "markdown",
      "source": [
        "https://www.youtube.com/watch?v=BeoCbJPuvSE"
      ],
      "metadata": {
        "id": "RT8reOWc9nNU"
      }
    },
    {
      "cell_type": "markdown",
      "source": [
        "https://leetcode.com/problemset/all/?sorting=W3sic29ydE9yZGVyIjoiQVNDRU5ESU5HIiwib3JkZXJCeSI6IkRJRkZJQ1VMVFkifV0%3D\n",
        "\n",
        "https://www.codewars.com/"
      ],
      "metadata": {
        "id": "vh0Pxht29taz"
      }
    },
    {
      "cell_type": "markdown",
      "source": [
        "# Паттерны"
      ],
      "metadata": {
        "id": "sbKytuOxzfZV"
      }
    },
    {
      "cell_type": "markdown",
      "source": [
        "Паттерн, в общем то, представляет из себя некую конструкцию, которую удобно переиспользовать из раза в раз на разных проектах (так, некоторые паттерны включены изначально в языках)"
      ],
      "metadata": {
        "id": "5K2PNw8WDszR"
      }
    },
    {
      "cell_type": "markdown",
      "source": [
        "https://refactoring.guru/design-patterns/python"
      ],
      "metadata": {
        "id": "3qn6qckzCzKg"
      }
    },
    {
      "cell_type": "markdown",
      "source": [
        "## Синглтон"
      ],
      "metadata": {
        "id": "ms1obbeCD8RO"
      }
    },
    {
      "cell_type": "code",
      "source": [
        "# logger = None\n",
        "\n",
        "# def new_logger():\n",
        "#   path = \"logs.txt\"\n",
        "#   f = open(path, \"w\")\n",
        "#   return f\n",
        "\n",
        "# def create_logger():\n",
        "#   if logger:\n",
        "#     return logger\n",
        "#   logger = new_logger()\n",
        "#   return logger"
      ],
      "metadata": {
        "id": "iqKBQm0_DCts"
      },
      "execution_count": null,
      "outputs": []
    },
    {
      "cell_type": "code",
      "source": [
        "class Logger():\n",
        "  def __new__(cls, *args, **kwargs):\n",
        "    if not hasattr(cls, '_logger'):\n",
        "        cls._logger = super(Logger, cls).__new__(cls, *args, **kwargs)\n",
        "    # Возвращаем созданный (только что или ранее) объект.\n",
        "    return cls._logger\n",
        "\n",
        "  def __init__(self):\n",
        "    pass"
      ],
      "metadata": {
        "id": "a4VnRrQxzgq6"
      },
      "execution_count": null,
      "outputs": []
    },
    {
      "cell_type": "code",
      "source": [
        "l = Logger()\n",
        "l2 = Logger()\n",
        "print(l is l2)"
      ],
      "metadata": {
        "colab": {
          "base_uri": "https://localhost:8080/"
        },
        "id": "fY-NG5a0Eexa",
        "outputId": "4e7d402f-ef78-41a6-df78-aaa90ce14f0a"
      },
      "execution_count": null,
      "outputs": [
        {
          "output_type": "stream",
          "name": "stdout",
          "text": [
            "True\n"
          ]
        }
      ]
    },
    {
      "cell_type": "markdown",
      "source": [
        "## Адаптер"
      ],
      "metadata": {
        "id": "iVSiHPOhD_3B"
      }
    },
    {
      "cell_type": "code",
      "source": [
        "class ForeignRunner():\n",
        "  def foreign_run(self):\n",
        "    return \"gninnur\"\n",
        "\n",
        "  def other(self):\n",
        "    print(\"i'm an alien\")\n",
        "\n",
        "class MyRunner():\n",
        "  def run(self):\n",
        "    return \"running\"\n",
        "\n",
        "  def other(self):\n",
        "    print(\"hi!\")\n",
        "\n",
        "class Adapter(MyRunner, ForeignRunner):\n",
        "  def run(self):\n",
        "    return self.foreign_run()[::-1]"
      ],
      "metadata": {
        "id": "jQ_0Zr9JE52B"
      },
      "execution_count": null,
      "outputs": []
    },
    {
      "cell_type": "code",
      "source": [
        "mr = MyRunner()\n",
        "mr.run()"
      ],
      "metadata": {
        "colab": {
          "base_uri": "https://localhost:8080/",
          "height": 35
        },
        "id": "L_Kki9kKFnod",
        "outputId": "2908eb3e-b176-4654-d974-eca01e3cc5c5"
      },
      "execution_count": null,
      "outputs": [
        {
          "output_type": "execute_result",
          "data": {
            "text/plain": [
              "'running'"
            ],
            "application/vnd.google.colaboratory.intrinsic+json": {
              "type": "string"
            }
          },
          "metadata": {},
          "execution_count": 45
        }
      ]
    },
    {
      "cell_type": "code",
      "source": [
        "fr = ForeignRunner()\n",
        "fr.foreign_run()"
      ],
      "metadata": {
        "colab": {
          "base_uri": "https://localhost:8080/",
          "height": 35
        },
        "id": "eMKxC3iaFy9k",
        "outputId": "202d0dee-292e-4ba2-a044-3c96f5672bff"
      },
      "execution_count": null,
      "outputs": [
        {
          "output_type": "execute_result",
          "data": {
            "text/plain": [
              "'gninnur'"
            ],
            "application/vnd.google.colaboratory.intrinsic+json": {
              "type": "string"
            }
          },
          "metadata": {},
          "execution_count": 46
        }
      ]
    },
    {
      "cell_type": "code",
      "source": [
        "ar = Adapter()\n",
        "ar.run()"
      ],
      "metadata": {
        "colab": {
          "base_uri": "https://localhost:8080/",
          "height": 35
        },
        "id": "GsWaA-YaF33z",
        "outputId": "a54a2988-84f4-448e-fef4-e10cf6a45382"
      },
      "execution_count": null,
      "outputs": [
        {
          "output_type": "execute_result",
          "data": {
            "text/plain": [
              "'running'"
            ],
            "application/vnd.google.colaboratory.intrinsic+json": {
              "type": "string"
            }
          },
          "metadata": {},
          "execution_count": 50
        }
      ]
    },
    {
      "cell_type": "code",
      "source": [
        "Adapter().other()"
      ],
      "metadata": {
        "colab": {
          "base_uri": "https://localhost:8080/"
        },
        "id": "2KNXGQxxEvf-",
        "outputId": "205375b4-de84-4a6e-84ba-b4ec7df272a4"
      },
      "execution_count": null,
      "outputs": [
        {
          "output_type": "stream",
          "name": "stdout",
          "text": [
            "hi!\n"
          ]
        }
      ]
    },
    {
      "cell_type": "markdown",
      "source": [
        "## Наблюдатель"
      ],
      "metadata": {
        "id": "s6qbkEIYGANC"
      }
    },
    {
      "cell_type": "code",
      "source": [
        "class Child():\n",
        "  def __init__(self, name):\n",
        "    self.name = name\n",
        "    self.state = \"calm\"\n",
        "    self.observers = []\n",
        "\n",
        "  def do_smth_good(self):\n",
        "    print(\"doing smth\")\n",
        "    self.state = \"calm\"\n",
        "    for o in self.observers:\n",
        "      o.check_state()\n",
        "\n",
        "  def do_smth_bad(self):\n",
        "    print(\"doing smth bad\")\n",
        "    self.state = \"not calm\"\n",
        "    # self.observers[0].observant.observers[0]....\n",
        "    for o in self.observers:\n",
        "      o.check_state()\n",
        "\n",
        "class Parent():\n",
        "  def __init__(self):\n",
        "    self.observant = None\n",
        "\n",
        "  def look_at(self, child):\n",
        "    self.observant = child\n",
        "    child.observers.append(self)\n",
        "\n",
        "  def check_state(self):\n",
        "    print(self.observant.state)\n",
        "    if self.observant.state == \"not calm\":\n",
        "      print(self.observant.name.upper())\n",
        "      self.observant.state = \"calm\"\n"
      ],
      "metadata": {
        "id": "N7gqTXq1F8PO"
      },
      "execution_count": null,
      "outputs": []
    },
    {
      "cell_type": "code",
      "source": [
        "c = Child(\"Alice\")\n",
        "p1 = Parent()\n",
        "p2 = Parent()\n",
        "p1.look_at(c)\n",
        "p2.look_at(c)"
      ],
      "metadata": {
        "id": "Jxks5YYbIEzS"
      },
      "execution_count": null,
      "outputs": []
    },
    {
      "cell_type": "code",
      "source": [
        "c.do_smth_bad()"
      ],
      "metadata": {
        "colab": {
          "base_uri": "https://localhost:8080/"
        },
        "id": "GkHGD1ouGD3J",
        "outputId": "35e11c78-18f9-42ad-8387-de618b75db8d"
      },
      "execution_count": null,
      "outputs": [
        {
          "output_type": "stream",
          "name": "stdout",
          "text": [
            "doing smth bad\n",
            "not calm\n",
            "ALICE\n",
            "calm\n"
          ]
        }
      ]
    },
    {
      "cell_type": "code",
      "source": [
        "actions = [0,0,0,1,0,1,1,0]\n",
        "for a in actions:\n",
        "  if a == 0:\n",
        "    c.do_smth_good()\n",
        "  else:\n",
        "    c.do_smth_bad()"
      ],
      "metadata": {
        "id": "2DDpNfemIOZ9",
        "colab": {
          "base_uri": "https://localhost:8080/"
        },
        "outputId": "c3d772d1-c7f0-4230-8277-66fce6cef175"
      },
      "execution_count": null,
      "outputs": [
        {
          "output_type": "stream",
          "name": "stdout",
          "text": [
            "doing smth\n",
            "calm\n",
            "calm\n",
            "doing smth\n",
            "calm\n",
            "calm\n",
            "doing smth\n",
            "calm\n",
            "calm\n",
            "doing smth bad\n",
            "not calm\n",
            "ALICE\n",
            "calm\n",
            "doing smth\n",
            "calm\n",
            "calm\n",
            "doing smth bad\n",
            "not calm\n",
            "ALICE\n",
            "calm\n",
            "doing smth bad\n",
            "not calm\n",
            "ALICE\n",
            "calm\n",
            "doing smth\n",
            "calm\n",
            "calm\n"
          ]
        }
      ]
    },
    {
      "cell_type": "markdown",
      "source": [
        "# Мини домашка"
      ],
      "metadata": {
        "id": "m2TuW01Mx6pE"
      }
    },
    {
      "cell_type": "markdown",
      "source": [
        "## Задание 1"
      ],
      "metadata": {
        "id": "MpJTGBb3x5tq"
      }
    },
    {
      "cell_type": "markdown",
      "source": [
        "Хотим найти цикл в односвязном списке; если он есть - возвращаем True, если нет - False\n",
        "При этом нам нельзя сохранять список уже посещенных нод, хотим сделать проверку в формате, который обсуждали на лекции (идти с разным шагом)"
      ],
      "metadata": {
        "id": "su3Nd65mx2K0"
      }
    },
    {
      "cell_type": "code",
      "source": [
        "def find_cycle(node):\n",
        "  pass"
      ],
      "metadata": {
        "id": "ftkNOQIkx1sw"
      },
      "execution_count": null,
      "outputs": []
    },
    {
      "cell_type": "code",
      "source": [
        "ll_1 = LinkedList(0)\n",
        "ll_2 = LinkedList(1)\n",
        "ll_3 = LinkedList(2)\n",
        "ll_4 = LinkedList(3)\n",
        "\n",
        "ll_1.bind_next(ll_2)\n",
        "ll_2.bind_next(ll_3)\n",
        "ll_3.bind_next(ll_4)\n",
        "\n",
        "assert find_cycle(ll_1) == False\n",
        "\n",
        "ll_4.bind_next(ll_2)\n",
        "\n",
        "assert find_cycle(ll_1) == True"
      ],
      "metadata": {
        "id": "74AWqJRUx3y9"
      },
      "execution_count": null,
      "outputs": []
    },
    {
      "cell_type": "markdown",
      "source": [
        "## Задание 2"
      ],
      "metadata": {
        "id": "jbdfKZ8s_9jW"
      }
    },
    {
      "cell_type": "markdown",
      "source": [
        "Напишите класс ConnectToDB так, чтобы при передаче уже однажды переданных параметров возвращался созданный ранее экземпляр класса, при новых - новый"
      ],
      "metadata": {
        "id": "EbYviuI__-Lm"
      }
    },
    {
      "cell_type": "code",
      "source": [
        "class ConnectToDB():\n",
        "  connections = {}\n",
        "\n",
        "  def __new__(cls, *args, **kwargs):\n",
        "    pass\n",
        "\n",
        "  def __init__(self, address=\"\"):\n",
        "    self.address = address"
      ],
      "metadata": {
        "id": "1hPXQNeE__TV"
      },
      "execution_count": null,
      "outputs": []
    },
    {
      "cell_type": "code",
      "source": [
        "c1 = ConnectToDB(address=\"addr1\")\n",
        "c2 = ConnectToDB(address=\"addr1\")\n",
        "c3 = ConnectToDB(address=\"addr2\")\n",
        "assert c1 is c2\n",
        "assert c1 is not c3"
      ],
      "metadata": {
        "id": "ZCxjF0KJAANo"
      },
      "execution_count": null,
      "outputs": []
    }
  ]
}